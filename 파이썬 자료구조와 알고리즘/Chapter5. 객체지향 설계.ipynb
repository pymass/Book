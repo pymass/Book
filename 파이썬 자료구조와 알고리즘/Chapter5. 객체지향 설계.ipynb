{
 "cells": [
  {
   "cell_type": "markdown",
   "metadata": {},
   "source": [
    "# 클래스와 객체"
   ]
  },
  {
   "cell_type": "code",
   "execution_count": 2,
   "metadata": {
    "ExecuteTime": {
     "end_time": "2020-01-04T08:20:49.721364Z",
     "start_time": "2020-01-04T08:20:49.708827Z"
    }
   },
   "outputs": [
    {
     "data": {
      "text/plain": [
       "<__main__.ClassName at 0x1cec29e50b8>"
      ]
     },
     "execution_count": 2,
     "metadata": {},
     "output_type": "execute_result"
    }
   ],
   "source": [
    "class ClassName:\n",
    "    # 문장 1\n",
    "    # ...\n",
    "    # 문장n\n",
    "    pass\n",
    "\n",
    "x = ClassName()\n",
    "x"
   ]
  },
  {
   "cell_type": "code",
   "execution_count": 3,
   "metadata": {
    "ExecuteTime": {
     "end_time": "2020-01-04T08:27:14.535569Z",
     "start_time": "2020-01-04T08:27:14.529570Z"
    }
   },
   "outputs": [
    {
     "name": "stdout",
     "output_type": "stream",
     "text": [
      "False\n",
      "False\n",
      "2\n"
     ]
    }
   ],
   "source": [
    "class Symbol(object):\n",
    "    def __init__(self, value):\n",
    "        self.value = value\n",
    "        \n",
    "x = Symbol(\"Py\")\n",
    "y = Symbol(\"Py\")\n",
    "\n",
    "symbols = set()\n",
    "symbols.add(x)\n",
    "symbols.add(y)\n",
    "\n",
    "print(x is y)\n",
    "print(x == y)\n",
    "print(len(symbols))"
   ]
  },
  {
   "cell_type": "code",
   "execution_count": 4,
   "metadata": {
    "ExecuteTime": {
     "end_time": "2020-01-04T08:28:47.223844Z",
     "start_time": "2020-01-04T08:28:47.162889Z"
    }
   },
   "outputs": [
    {
     "ename": "TypeError",
     "evalue": "unhashable type: 'Symbol'",
     "output_type": "error",
     "traceback": [
      "\u001b[1;31m---------------------------------------------------------------------------\u001b[0m",
      "\u001b[1;31mTypeError\u001b[0m                                 Traceback (most recent call last)",
      "\u001b[1;32m<ipython-input-4-f5d6a8f95823>\u001b[0m in \u001b[0;36m<module>\u001b[1;34m\u001b[0m\n\u001b[0;32m     13\u001b[0m \u001b[1;33m\u001b[0m\u001b[0m\n\u001b[0;32m     14\u001b[0m \u001b[0msymbols\u001b[0m \u001b[1;33m=\u001b[0m \u001b[0mset\u001b[0m\u001b[1;33m(\u001b[0m\u001b[1;33m)\u001b[0m\u001b[1;33m\u001b[0m\u001b[1;33m\u001b[0m\u001b[0m\n\u001b[1;32m---> 15\u001b[1;33m \u001b[0msymbols\u001b[0m\u001b[1;33m.\u001b[0m\u001b[0madd\u001b[0m\u001b[1;33m(\u001b[0m\u001b[0mx\u001b[0m\u001b[1;33m)\u001b[0m\u001b[1;33m\u001b[0m\u001b[1;33m\u001b[0m\u001b[0m\n\u001b[0m\u001b[0;32m     16\u001b[0m \u001b[0msymbols\u001b[0m\u001b[1;33m.\u001b[0m\u001b[0madd\u001b[0m\u001b[1;33m(\u001b[0m\u001b[0my\u001b[0m\u001b[1;33m)\u001b[0m\u001b[1;33m\u001b[0m\u001b[1;33m\u001b[0m\u001b[0m\n\u001b[0;32m     17\u001b[0m \u001b[1;33m\u001b[0m\u001b[0m\n",
      "\u001b[1;31mTypeError\u001b[0m: unhashable type: 'Symbol'"
     ]
    }
   ],
   "source": [
    "class Symbol(object):\n",
    "    def __init__(self, value):\n",
    "        self.value = value\n",
    "    \n",
    "    def __eq__(self, other):\n",
    "        if isinstance(self, other.__class__):\n",
    "            return self.value == other.value\n",
    "        else:\n",
    "            return NotImplemented\n",
    "        \n",
    "x = Symbol(\"Py\")\n",
    "y = Symbol(\"Py\")\n",
    "\n",
    "symbols = set()\n",
    "symbols.add(x)\n",
    "symbols.add(y)\n",
    "\n",
    "print(x is y)\n",
    "print(x == y)\n",
    "print(len(symbols))"
   ]
  },
  {
   "cell_type": "code",
   "execution_count": 5,
   "metadata": {
    "ExecuteTime": {
     "end_time": "2020-01-04T08:29:29.199000Z",
     "start_time": "2020-01-04T08:29:29.193001Z"
    }
   },
   "outputs": [
    {
     "name": "stdout",
     "output_type": "stream",
     "text": [
      "False\n",
      "True\n",
      "1\n"
     ]
    }
   ],
   "source": [
    "class Symbol(object):\n",
    "    def __init__(self, value):\n",
    "        self.value = value\n",
    "    \n",
    "    def __eq__(self, other):\n",
    "        if isinstance(self, other.__class__):\n",
    "            return self.value == other.value\n",
    "        else:\n",
    "            return NotImplemented\n",
    "        \n",
    "    def __hash__(self):\n",
    "        return hash(self.value)\n",
    "        \n",
    "x = Symbol(\"Py\")\n",
    "y = Symbol(\"Py\")\n",
    "\n",
    "symbols = set()\n",
    "symbols.add(x)\n",
    "symbols.add(y)\n",
    "\n",
    "print(x is y)\n",
    "print(x == y)\n",
    "print(len(symbols))"
   ]
  },
  {
   "cell_type": "markdown",
   "metadata": {},
   "source": [
    "# 클래스 예제"
   ]
  },
  {
   "cell_type": "code",
   "execution_count": 6,
   "metadata": {
    "ExecuteTime": {
     "end_time": "2020-01-04T08:37:22.701591Z",
     "start_time": "2020-01-04T08:37:22.692590Z"
    }
   },
   "outputs": [],
   "source": [
    "import math\n",
    "\n",
    "class Point(object):\n",
    "    def __init__(self, x = 0, y = 0):\n",
    "        self.x = x # 데이터 속성(attribute)\n",
    "        self.y = y\n",
    "        \n",
    "    def distance_from_origin(self): # 메서드 속성\n",
    "        return math.hypot(self.x, self.y)\n",
    "    \n",
    "    def __eq__(self, other):\n",
    "        return self.x == other.x and self.y == other.y\n",
    "    \n",
    "    def __repr__(self):\n",
    "        return \"point ({0.x!r}, {0.y!r})\".format(self)\n",
    "    \n",
    "    def __str__(self):\n",
    "        return \"({0.x!r}, {0.y!r})\".format(self)\n",
    "    \n",
    "class Circle(Point):\n",
    "    def __init__(self, radius, x=0, y=0):\n",
    "        super().__init__(x,y) # 생성 및 초기화\n",
    "        self.radius = radius\n",
    "        \n",
    "    def edge_distance_from_origin(self):\n",
    "        return abs(self.distance_from_origin() - self.radius)\n",
    "    \n",
    "    def area(self):\n",
    "        return math.pi*(self.radius**2)\n",
    "    \n",
    "    def circumference(self):\n",
    "        return 2*math.pi*self.radius\n",
    "    \n",
    "    def __eq__(self, other):\n",
    "        return self.radius == other.radius and super().__eq__(other)\n",
    "    \n",
    "    def __repr__(self):\n",
    "        return \"circle ({0.radius!r}, {0.x!r})\".format(self)\n",
    "    \n",
    "    def __str__(self):\n",
    "        return repr(self)"
   ]
  },
  {
   "cell_type": "code",
   "execution_count": 8,
   "metadata": {
    "ExecuteTime": {
     "end_time": "2020-01-04T08:38:15.338865Z",
     "start_time": "2020-01-04T08:38:15.333861Z"
    }
   },
   "outputs": [
    {
     "data": {
      "text/plain": [
       "point (3, 4)"
      ]
     },
     "execution_count": 8,
     "metadata": {},
     "output_type": "execute_result"
    }
   ],
   "source": [
    "a = Point(3,4)\n",
    "a"
   ]
  },
  {
   "cell_type": "code",
   "execution_count": 9,
   "metadata": {
    "ExecuteTime": {
     "end_time": "2020-01-04T08:38:20.309678Z",
     "start_time": "2020-01-04T08:38:20.305710Z"
    }
   },
   "outputs": [
    {
     "data": {
      "text/plain": [
       "'point (3, 4)'"
      ]
     },
     "execution_count": 9,
     "metadata": {},
     "output_type": "execute_result"
    }
   ],
   "source": [
    "repr(a)"
   ]
  },
  {
   "cell_type": "code",
   "execution_count": 10,
   "metadata": {
    "ExecuteTime": {
     "end_time": "2020-01-04T08:38:26.339471Z",
     "start_time": "2020-01-04T08:38:26.335508Z"
    }
   },
   "outputs": [
    {
     "data": {
      "text/plain": [
       "'(3, 4)'"
      ]
     },
     "execution_count": 10,
     "metadata": {},
     "output_type": "execute_result"
    }
   ],
   "source": [
    "str(a)"
   ]
  },
  {
   "cell_type": "code",
   "execution_count": 11,
   "metadata": {
    "ExecuteTime": {
     "end_time": "2020-01-04T08:38:35.249862Z",
     "start_time": "2020-01-04T08:38:35.244868Z"
    }
   },
   "outputs": [
    {
     "data": {
      "text/plain": [
       "5.0"
      ]
     },
     "execution_count": 11,
     "metadata": {},
     "output_type": "execute_result"
    }
   ],
   "source": [
    "a.distance_from_origin()"
   ]
  },
  {
   "cell_type": "code",
   "execution_count": 12,
   "metadata": {
    "ExecuteTime": {
     "end_time": "2020-01-04T08:38:43.978961Z",
     "start_time": "2020-01-04T08:38:43.974958Z"
    }
   },
   "outputs": [
    {
     "data": {
      "text/plain": [
       "circle (3, 2)"
      ]
     },
     "execution_count": 12,
     "metadata": {},
     "output_type": "execute_result"
    }
   ],
   "source": [
    "c = Circle(3,2,1)\n",
    "c"
   ]
  },
  {
   "cell_type": "code",
   "execution_count": 13,
   "metadata": {
    "ExecuteTime": {
     "end_time": "2020-01-04T08:38:47.355260Z",
     "start_time": "2020-01-04T08:38:47.351241Z"
    }
   },
   "outputs": [
    {
     "data": {
      "text/plain": [
       "'circle (3, 2)'"
      ]
     },
     "execution_count": 13,
     "metadata": {},
     "output_type": "execute_result"
    }
   ],
   "source": [
    "repr(c)"
   ]
  },
  {
   "cell_type": "code",
   "execution_count": 14,
   "metadata": {
    "ExecuteTime": {
     "end_time": "2020-01-04T08:38:50.076944Z",
     "start_time": "2020-01-04T08:38:50.072945Z"
    }
   },
   "outputs": [
    {
     "data": {
      "text/plain": [
       "'circle (3, 2)'"
      ]
     },
     "execution_count": 14,
     "metadata": {},
     "output_type": "execute_result"
    }
   ],
   "source": [
    "str(c)"
   ]
  },
  {
   "cell_type": "code",
   "execution_count": 15,
   "metadata": {
    "ExecuteTime": {
     "end_time": "2020-01-04T08:38:54.802319Z",
     "start_time": "2020-01-04T08:38:54.798280Z"
    }
   },
   "outputs": [
    {
     "data": {
      "text/plain": [
       "18.84955592153876"
      ]
     },
     "execution_count": 15,
     "metadata": {},
     "output_type": "execute_result"
    }
   ],
   "source": [
    "c.circumference()"
   ]
  },
  {
   "cell_type": "code",
   "execution_count": 16,
   "metadata": {
    "ExecuteTime": {
     "end_time": "2020-01-04T08:39:00.091079Z",
     "start_time": "2020-01-04T08:39:00.085079Z"
    }
   },
   "outputs": [
    {
     "data": {
      "text/plain": [
       "0.7639320225002102"
      ]
     },
     "execution_count": 16,
     "metadata": {},
     "output_type": "execute_result"
    }
   ],
   "source": [
    "c.edge_distance_from_origin()"
   ]
  },
  {
   "cell_type": "markdown",
   "metadata": {},
   "source": [
    "# 디자인 패턴"
   ]
  },
  {
   "cell_type": "markdown",
   "metadata": {},
   "source": [
    "## 데커레이터 패턴"
   ]
  },
  {
   "cell_type": "code",
   "execution_count": 17,
   "metadata": {
    "ExecuteTime": {
     "end_time": "2020-01-04T08:40:06.574367Z",
     "start_time": "2020-01-04T08:40:06.570427Z"
    }
   },
   "outputs": [
    {
     "ename": "SyntaxError",
     "evalue": "unexpected EOF while parsing (<ipython-input-17-b0865bd41980>, line 4)",
     "output_type": "error",
     "traceback": [
      "\u001b[1;36m  File \u001b[1;32m\"<ipython-input-17-b0865bd41980>\"\u001b[1;36m, line \u001b[1;32m4\u001b[0m\n\u001b[1;33m    # 메서드 내용\u001b[0m\n\u001b[1;37m            ^\u001b[0m\n\u001b[1;31mSyntaxError\u001b[0m\u001b[1;31m:\u001b[0m unexpected EOF while parsing\n"
     ]
    }
   ],
   "source": [
    "class C(object):\n",
    "    @my_decorator\n",
    "    def method(self):\n",
    "        # 메서드 내용"
   ]
  },
  {
   "cell_type": "code",
   "execution_count": 18,
   "metadata": {
    "ExecuteTime": {
     "end_time": "2020-01-04T08:40:50.003906Z",
     "start_time": "2020-01-04T08:40:49.998937Z"
    }
   },
   "outputs": [
    {
     "ename": "IndentationError",
     "evalue": "expected an indented block (<ipython-input-18-a445b1828aec>, line 5)",
     "output_type": "error",
     "traceback": [
      "\u001b[1;36m  File \u001b[1;32m\"<ipython-input-18-a445b1828aec>\"\u001b[1;36m, line \u001b[1;32m5\u001b[0m\n\u001b[1;33m    method = my_decorator(method)\u001b[0m\n\u001b[1;37m         ^\u001b[0m\n\u001b[1;31mIndentationError\u001b[0m\u001b[1;31m:\u001b[0m expected an indented block\n"
     ]
    }
   ],
   "source": [
    "# 위 코드의 의미\n",
    "class C(object):\n",
    "    def method(self):\n",
    "        # 메서드 내용\n",
    "    method = my_decorator(method)"
   ]
  },
  {
   "cell_type": "code",
   "execution_count": 23,
   "metadata": {
    "ExecuteTime": {
     "end_time": "2020-01-04T08:45:14.895780Z",
     "start_time": "2020-01-04T08:45:14.890793Z"
    }
   },
   "outputs": [],
   "source": [
    "import random\n",
    "import time\n",
    "\n",
    "def benchmark(func):\n",
    "    def wrapper(*args, **kwargs):\n",
    "        t = time.perf_counter()\n",
    "        res = func(*args, **kwargs)\n",
    "        print(\"{0} {1}\".format(func.__name__, time.perf_counter()-t))\n",
    "        return res\n",
    "    return wrapper\n",
    "\n",
    "@benchmark # benchmark(random_tree) 와 같다\n",
    "def random_tree(n):\n",
    "    temp = [n for n in range(n)]\n",
    "    for i in range(n+1):\n",
    "        temp[random.choice(temp)] = random.choice(temp)\n",
    "    return temp"
   ]
  },
  {
   "cell_type": "code",
   "execution_count": 24,
   "metadata": {
    "ExecuteTime": {
     "end_time": "2020-01-04T08:45:15.078783Z",
     "start_time": "2020-01-04T08:45:15.049816Z"
    },
    "scrolled": true
   },
   "outputs": [
    {
     "name": "stdout",
     "output_type": "stream",
     "text": [
      "random_tree 0.017999200000005544\n"
     ]
    },
    {
     "data": {
      "text/plain": [
       "[0,\n",
       " 1,\n",
       " 8140,\n",
       " 3,\n",
       " 472,\n",
       " 4121,\n",
       " 4970,\n",
       " 7041,\n",
       " 9499,\n",
       " 3234,\n",
       " 3097,\n",
       " 6229,\n",
       " 416,\n",
       " 317,\n",
       " 2652,\n",
       " 2621,\n",
       " 5335,\n",
       " 17,\n",
       " 18,\n",
       " 7970,\n",
       " 7359,\n",
       " 6843,\n",
       " 8045,\n",
       " 8573,\n",
       " 8440,\n",
       " 25,\n",
       " 424,\n",
       " 6987,\n",
       " 5791,\n",
       " 5780,\n",
       " 1918,\n",
       " 4096,\n",
       " 2350,\n",
       " 33,\n",
       " 34,\n",
       " 3643,\n",
       " 6206,\n",
       " 37,\n",
       " 1707,\n",
       " 3358,\n",
       " 40,\n",
       " 8661,\n",
       " 995,\n",
       " 43,\n",
       " 6080,\n",
       " 45,\n",
       " 5712,\n",
       " 3717,\n",
       " 3730,\n",
       " 2394,\n",
       " 9974,\n",
       " 4966,\n",
       " 3966,\n",
       " 53,\n",
       " 573,\n",
       " 55,\n",
       " 56,\n",
       " 57,\n",
       " 9755,\n",
       " 2915,\n",
       " 929,\n",
       " 5529,\n",
       " 3771,\n",
       " 9555,\n",
       " 7193,\n",
       " 4603,\n",
       " 1699,\n",
       " 4382,\n",
       " 68,\n",
       " 8000,\n",
       " 70,\n",
       " 71,\n",
       " 9570,\n",
       " 73,\n",
       " 74,\n",
       " 75,\n",
       " 76,\n",
       " 7586,\n",
       " 8735,\n",
       " 1710,\n",
       " 7057,\n",
       " 4382,\n",
       " 8969,\n",
       " 5161,\n",
       " 6376,\n",
       " 2320,\n",
       " 6717,\n",
       " 9234,\n",
       " 2335,\n",
       " 1516,\n",
       " 2949,\n",
       " 8051,\n",
       " 1267,\n",
       " 93,\n",
       " 1824,\n",
       " 904,\n",
       " 6140,\n",
       " 4796,\n",
       " 453,\n",
       " 4011,\n",
       " 2454,\n",
       " 101,\n",
       " 102,\n",
       " 3292,\n",
       " 104,\n",
       " 105,\n",
       " 7915,\n",
       " 7842,\n",
       " 7959,\n",
       " 7984,\n",
       " 110,\n",
       " 275,\n",
       " 7891,\n",
       " 3036,\n",
       " 7728,\n",
       " 891,\n",
       " 116,\n",
       " 7397,\n",
       " 522,\n",
       " 2038,\n",
       " 7329,\n",
       " 121,\n",
       " 5546,\n",
       " 8558,\n",
       " 868,\n",
       " 8928,\n",
       " 1241,\n",
       " 1492,\n",
       " 4789,\n",
       " 8757,\n",
       " 5662,\n",
       " 3224,\n",
       " 8517,\n",
       " 3235,\n",
       " 2158,\n",
       " 1828,\n",
       " 8944,\n",
       " 7637,\n",
       " 459,\n",
       " 139,\n",
       " 6987,\n",
       " 4329,\n",
       " 4062,\n",
       " 143,\n",
       " 144,\n",
       " 2357,\n",
       " 3844,\n",
       " 2210,\n",
       " 5866,\n",
       " 7678,\n",
       " 1102,\n",
       " 151,\n",
       " 9660,\n",
       " 987,\n",
       " 3899,\n",
       " 155,\n",
       " 587,\n",
       " 5863,\n",
       " 4818,\n",
       " 159,\n",
       " 2602,\n",
       " 4153,\n",
       " 162,\n",
       " 2381,\n",
       " 880,\n",
       " 3255,\n",
       " 7917,\n",
       " 6490,\n",
       " 6773,\n",
       " 414,\n",
       " 170,\n",
       " 2918,\n",
       " 9019,\n",
       " 1139,\n",
       " 4589,\n",
       " 7422,\n",
       " 1680,\n",
       " 177,\n",
       " 9616,\n",
       " 531,\n",
       " 6853,\n",
       " 6731,\n",
       " 5257,\n",
       " 183,\n",
       " 6363,\n",
       " 185,\n",
       " 829,\n",
       " 8520,\n",
       " 3896,\n",
       " 189,\n",
       " 9803,\n",
       " 4198,\n",
       " 192,\n",
       " 5873,\n",
       " 4114,\n",
       " 195,\n",
       " 7055,\n",
       " 7151,\n",
       " 7088,\n",
       " 5944,\n",
       " 8554,\n",
       " 8744,\n",
       " 2067,\n",
       " 4905,\n",
       " 204,\n",
       " 3680,\n",
       " 4153,\n",
       " 8199,\n",
       " 7544,\n",
       " 9496,\n",
       " 2216,\n",
       " 8248,\n",
       " 9796,\n",
       " 3472,\n",
       " 214,\n",
       " 8588,\n",
       " 216,\n",
       " 8373,\n",
       " 3977,\n",
       " 7226,\n",
       " 7540,\n",
       " 221,\n",
       " 7967,\n",
       " 2374,\n",
       " 1664,\n",
       " 4868,\n",
       " 8171,\n",
       " 8774,\n",
       " 9678,\n",
       " 9442,\n",
       " 3577,\n",
       " 7779,\n",
       " 232,\n",
       " 5603,\n",
       " 234,\n",
       " 235,\n",
       " 2331,\n",
       " 3338,\n",
       " 238,\n",
       " 2292,\n",
       " 7726,\n",
       " 3420,\n",
       " 2046,\n",
       " 1520,\n",
       " 5523,\n",
       " 6694,\n",
       " 6380,\n",
       " 7450,\n",
       " 2067,\n",
       " 4518,\n",
       " 250,\n",
       " 1557,\n",
       " 8313,\n",
       " 253,\n",
       " 4796,\n",
       " 255,\n",
       " 7649,\n",
       " 8598,\n",
       " 2935,\n",
       " 3622,\n",
       " 3966,\n",
       " 3899,\n",
       " 5360,\n",
       " 2791,\n",
       " 8613,\n",
       " 2090,\n",
       " 9599,\n",
       " 267,\n",
       " 268,\n",
       " 8315,\n",
       " 1574,\n",
       " 68,\n",
       " 272,\n",
       " 8955,\n",
       " 4119,\n",
       " 9747,\n",
       " 5285,\n",
       " 277,\n",
       " 278,\n",
       " 279,\n",
       " 8444,\n",
       " 327,\n",
       " 282,\n",
       " 3204,\n",
       " 284,\n",
       " 1543,\n",
       " 286,\n",
       " 7024,\n",
       " 4613,\n",
       " 5938,\n",
       " 5395,\n",
       " 595,\n",
       " 292,\n",
       " 9755,\n",
       " 294,\n",
       " 7878,\n",
       " 3658,\n",
       " 9771,\n",
       " 298,\n",
       " 8379,\n",
       " 1622,\n",
       " 5045,\n",
       " 9283,\n",
       " 5852,\n",
       " 2009,\n",
       " 3864,\n",
       " 7025,\n",
       " 7614,\n",
       " 9632,\n",
       " 6505,\n",
       " 310,\n",
       " 9356,\n",
       " 5344,\n",
       " 313,\n",
       " 314,\n",
       " 3882,\n",
       " 7992,\n",
       " 317,\n",
       " 1890,\n",
       " 319,\n",
       " 7661,\n",
       " 5113,\n",
       " 322,\n",
       " 323,\n",
       " 4381,\n",
       " 7487,\n",
       " 5421,\n",
       " 6916,\n",
       " 328,\n",
       " 329,\n",
       " 7486,\n",
       " 548,\n",
       " 332,\n",
       " 7606,\n",
       " 334,\n",
       " 9652,\n",
       " 1536,\n",
       " 799,\n",
       " 2634,\n",
       " 6266,\n",
       " 9016,\n",
       " 341,\n",
       " 342,\n",
       " 585,\n",
       " 344,\n",
       " 1845,\n",
       " 6503,\n",
       " 3137,\n",
       " 1663,\n",
       " 4387,\n",
       " 350,\n",
       " 4153,\n",
       " 352,\n",
       " 1714,\n",
       " 1710,\n",
       " 9193,\n",
       " 8362,\n",
       " 2650,\n",
       " 864,\n",
       " 9134,\n",
       " 360,\n",
       " 6717,\n",
       " 5616,\n",
       " 3511,\n",
       " 4672,\n",
       " 9728,\n",
       " 366,\n",
       " 367,\n",
       " 368,\n",
       " 369,\n",
       " 7476,\n",
       " 5182,\n",
       " 372,\n",
       " 3415,\n",
       " 374,\n",
       " 4855,\n",
       " 1582,\n",
       " 7967,\n",
       " 4863,\n",
       " 9898,\n",
       " 5376,\n",
       " 8248,\n",
       " 3494,\n",
       " 383,\n",
       " 6112,\n",
       " 6736,\n",
       " 3380,\n",
       " 387,\n",
       " 4119,\n",
       " 6797,\n",
       " 390,\n",
       " 5710,\n",
       " 6122,\n",
       " 8171,\n",
       " 6819,\n",
       " 1885,\n",
       " 8511,\n",
       " 3639,\n",
       " 4013,\n",
       " 1175,\n",
       " 7927,\n",
       " 1255,\n",
       " 402,\n",
       " 3476,\n",
       " 4713,\n",
       " 6314,\n",
       " 5033,\n",
       " 9237,\n",
       " 8328,\n",
       " 6518,\n",
       " 410,\n",
       " 411,\n",
       " 412,\n",
       " 413,\n",
       " 811,\n",
       " 415,\n",
       " 416,\n",
       " 5657,\n",
       " 418,\n",
       " 9134,\n",
       " 3671,\n",
       " 248,\n",
       " 422,\n",
       " 423,\n",
       " 424,\n",
       " 5155,\n",
       " 9556,\n",
       " 5580,\n",
       " 5007,\n",
       " 6429,\n",
       " 5756,\n",
       " 431,\n",
       " 1720,\n",
       " 3403,\n",
       " 434,\n",
       " 3800,\n",
       " 5580,\n",
       " 4149,\n",
       " 8184,\n",
       " 973,\n",
       " 884,\n",
       " 441,\n",
       " 2336,\n",
       " 443,\n",
       " 444,\n",
       " 445,\n",
       " 2015,\n",
       " 447,\n",
       " 8028,\n",
       " 4892,\n",
       " 2970,\n",
       " 5344,\n",
       " 9467,\n",
       " 453,\n",
       " 3507,\n",
       " 6853,\n",
       " 456,\n",
       " 457,\n",
       " 238,\n",
       " 459,\n",
       " 460,\n",
       " 3407,\n",
       " 6484,\n",
       " 463,\n",
       " 6122,\n",
       " 3894,\n",
       " 466,\n",
       " 1850,\n",
       " 9246,\n",
       " 469,\n",
       " 470,\n",
       " 7862,\n",
       " 3815,\n",
       " 5479,\n",
       " 4080,\n",
       " 4259,\n",
       " 5935,\n",
       " 477,\n",
       " 478,\n",
       " 479,\n",
       " 8959,\n",
       " 5248,\n",
       " 482,\n",
       " 483,\n",
       " 4178,\n",
       " 9822,\n",
       " 486,\n",
       " 1859,\n",
       " 2616,\n",
       " 9102,\n",
       " 490,\n",
       " 938,\n",
       " 4477,\n",
       " 112,\n",
       " 3289,\n",
       " 1832,\n",
       " 5613,\n",
       " 497,\n",
       " 498,\n",
       " 8128,\n",
       " 500,\n",
       " 8665,\n",
       " 4739,\n",
       " 503,\n",
       " 6768,\n",
       " 8458,\n",
       " 7032,\n",
       " 507,\n",
       " 9807,\n",
       " 4093,\n",
       " 6067,\n",
       " 6665,\n",
       " 7789,\n",
       " 4314,\n",
       " 174,\n",
       " 3459,\n",
       " 3895,\n",
       " 517,\n",
       " 4834,\n",
       " 519,\n",
       " 940,\n",
       " 521,\n",
       " 83,\n",
       " 4855,\n",
       " 9357,\n",
       " 3550,\n",
       " 5421,\n",
       " 527,\n",
       " 7789,\n",
       " 6319,\n",
       " 2912,\n",
       " 531,\n",
       " 532,\n",
       " 9543,\n",
       " 9074,\n",
       " 535,\n",
       " 6491,\n",
       " 5285,\n",
       " 538,\n",
       " 2219,\n",
       " 5480,\n",
       " 7691,\n",
       " 8524,\n",
       " 700,\n",
       " 9779,\n",
       " 545,\n",
       " 7618,\n",
       " 138,\n",
       " 3341,\n",
       " 549,\n",
       " 550,\n",
       " 1711,\n",
       " 1619,\n",
       " 6664,\n",
       " 5792,\n",
       " 4795,\n",
       " 4078,\n",
       " 1147,\n",
       " 4613,\n",
       " 9020,\n",
       " 3152,\n",
       " 561,\n",
       " 4976,\n",
       " 3945,\n",
       " 1608,\n",
       " 1155,\n",
       " 566,\n",
       " 567,\n",
       " 5208,\n",
       " 2357,\n",
       " 570,\n",
       " 1703,\n",
       " 729,\n",
       " 573,\n",
       " 5257,\n",
       " 5300,\n",
       " 7861,\n",
       " 2415,\n",
       " 6607,\n",
       " 548,\n",
       " 8865,\n",
       " 2195,\n",
       " 314,\n",
       " 3046,\n",
       " 6936,\n",
       " 602,\n",
       " 8615,\n",
       " 3240,\n",
       " 588,\n",
       " 589,\n",
       " 590,\n",
       " 9165,\n",
       " 7146,\n",
       " 4170,\n",
       " 594,\n",
       " 4470,\n",
       " 7792,\n",
       " 597,\n",
       " 598,\n",
       " 471,\n",
       " 9861,\n",
       " 4516,\n",
       " 3291,\n",
       " 6107,\n",
       " 1987,\n",
       " 5428,\n",
       " 3201,\n",
       " 607,\n",
       " 5243,\n",
       " 4276,\n",
       " 7789,\n",
       " 3097,\n",
       " 702,\n",
       " 8685,\n",
       " 614,\n",
       " 9915,\n",
       " 616,\n",
       " 6024,\n",
       " 7620,\n",
       " 9563,\n",
       " 620,\n",
       " 621,\n",
       " 622,\n",
       " 398,\n",
       " 8141,\n",
       " 3744,\n",
       " 2127,\n",
       " 627,\n",
       " 5938,\n",
       " 8524,\n",
       " 4694,\n",
       " 7777,\n",
       " 2744,\n",
       " 6515,\n",
       " 634,\n",
       " 7748,\n",
       " 3341,\n",
       " 1633,\n",
       " 1173,\n",
       " 639,\n",
       " 1316,\n",
       " 4744,\n",
       " 2971,\n",
       " 2067,\n",
       " 644,\n",
       " 3726,\n",
       " 646,\n",
       " 7260,\n",
       " 648,\n",
       " 6987,\n",
       " 2510,\n",
       " 4257,\n",
       " 8268,\n",
       " 3894,\n",
       " 6179,\n",
       " 655,\n",
       " 994,\n",
       " 657,\n",
       " 9311,\n",
       " 7113,\n",
       " 8511,\n",
       " 2381,\n",
       " 662,\n",
       " 8971,\n",
       " 1677,\n",
       " 1002,\n",
       " 8815,\n",
       " 6361,\n",
       " 668,\n",
       " 1897,\n",
       " 3292,\n",
       " 9292,\n",
       " 672,\n",
       " 4633,\n",
       " 6948,\n",
       " 675,\n",
       " 9632,\n",
       " 8969,\n",
       " 3811,\n",
       " 679,\n",
       " 5113,\n",
       " 7668,\n",
       " 9701,\n",
       " 3282,\n",
       " 6428,\n",
       " 1703,\n",
       " 5849,\n",
       " 4461,\n",
       " 8843,\n",
       " 8326,\n",
       " 6560,\n",
       " 5006,\n",
       " 8024,\n",
       " 5520,\n",
       " 7620,\n",
       " 4488,\n",
       " 696,\n",
       " 6757,\n",
       " 7362,\n",
       " 699,\n",
       " 6401,\n",
       " 3311,\n",
       " 7730,\n",
       " 5847,\n",
       " 9807,\n",
       " 9752,\n",
       " 706,\n",
       " 6353,\n",
       " 3323,\n",
       " 9369,\n",
       " 3292,\n",
       " 623,\n",
       " 3908,\n",
       " 5479,\n",
       " 5162,\n",
       " 715,\n",
       " 6933,\n",
       " 9547,\n",
       " 5155,\n",
       " 836,\n",
       " 9433,\n",
       " 1205,\n",
       " 2183,\n",
       " 723,\n",
       " 8172,\n",
       " 758,\n",
       " 4420,\n",
       " 3277,\n",
       " 1253,\n",
       " 729,\n",
       " 730,\n",
       " 6214,\n",
       " 9020,\n",
       " 733,\n",
       " 734,\n",
       " 3591,\n",
       " 7695,\n",
       " 737,\n",
       " 738,\n",
       " 739,\n",
       " 3282,\n",
       " 741,\n",
       " 5070,\n",
       " 743,\n",
       " 744,\n",
       " 6276,\n",
       " 4525,\n",
       " 9850,\n",
       " 3905,\n",
       " 8142,\n",
       " 1135,\n",
       " 6332,\n",
       " 752,\n",
       " 9807,\n",
       " 7175,\n",
       " 2750,\n",
       " 756,\n",
       " 8857,\n",
       " 758,\n",
       " 2042,\n",
       " 760,\n",
       " 3815,\n",
       " 3689,\n",
       " 763,\n",
       " 7381,\n",
       " 765,\n",
       " 3225,\n",
       " 8941,\n",
       " 8257,\n",
       " 3388,\n",
       " 249,\n",
       " 771,\n",
       " 3308,\n",
       " 773,\n",
       " 3718,\n",
       " 6339,\n",
       " 776,\n",
       " 6425,\n",
       " 3060,\n",
       " 779,\n",
       " 8239,\n",
       " 781,\n",
       " 6020,\n",
       " 3500,\n",
       " 2494,\n",
       " 1070,\n",
       " 3538,\n",
       " 5446,\n",
       " 1293,\n",
       " 7083,\n",
       " 790,\n",
       " 791,\n",
       " 3097,\n",
       " 7975,\n",
       " 794,\n",
       " 5573,\n",
       " 796,\n",
       " 7023,\n",
       " 2549,\n",
       " 9539,\n",
       " 901,\n",
       " 801,\n",
       " 1833,\n",
       " 803,\n",
       " 937,\n",
       " 1821,\n",
       " 5027,\n",
       " 4566,\n",
       " 8512,\n",
       " 4232,\n",
       " 810,\n",
       " 3852,\n",
       " 812,\n",
       " 813,\n",
       " 814,\n",
       " 3995,\n",
       " 7353,\n",
       " 553,\n",
       " 4212,\n",
       " 1396,\n",
       " 9726,\n",
       " 9866,\n",
       " 822,\n",
       " 7747,\n",
       " 9324,\n",
       " 728,\n",
       " 5999,\n",
       " 8930,\n",
       " 828,\n",
       " 4172,\n",
       " 830,\n",
       " 693,\n",
       " 8498,\n",
       " 833,\n",
       " 7915,\n",
       " 7420,\n",
       " 2497,\n",
       " 2806,\n",
       " 1692,\n",
       " 9111,\n",
       " 7801,\n",
       " 841,\n",
       " 9749,\n",
       " 1267,\n",
       " 844,\n",
       " 845,\n",
       " 9918,\n",
       " 5863,\n",
       " 808,\n",
       " 849,\n",
       " 2961,\n",
       " 1140,\n",
       " 852,\n",
       " 1969,\n",
       " 1821,\n",
       " 1200,\n",
       " 6733,\n",
       " 9364,\n",
       " 916,\n",
       " 859,\n",
       " 1290,\n",
       " 6878,\n",
       " 526,\n",
       " 863,\n",
       " 864,\n",
       " 5363,\n",
       " 8554,\n",
       " 643,\n",
       " 6253,\n",
       " 3665,\n",
       " 5307,\n",
       " 9164,\n",
       " 872,\n",
       " 8498,\n",
       " 3657,\n",
       " 875,\n",
       " 5969,\n",
       " 8845,\n",
       " 4620,\n",
       " 8355,\n",
       " 880,\n",
       " 4656,\n",
       " 4940,\n",
       " 4838,\n",
       " 5476,\n",
       " 7275,\n",
       " 8700,\n",
       " 887,\n",
       " 9660,\n",
       " 1657,\n",
       " 890,\n",
       " 1987,\n",
       " 892,\n",
       " 8194,\n",
       " 894,\n",
       " 7388,\n",
       " 8022,\n",
       " 897,\n",
       " 9565,\n",
       " 3205,\n",
       " 103,\n",
       " 1271,\n",
       " 6722,\n",
       " 5320,\n",
       " 3292,\n",
       " 3492,\n",
       " 4918,\n",
       " 4833,\n",
       " 3729,\n",
       " 3685,\n",
       " 5262,\n",
       " 5284,\n",
       " 4044,\n",
       " 7757,\n",
       " 8018,\n",
       " 9014,\n",
       " 916,\n",
       " 8662,\n",
       " 2345,\n",
       " 2981,\n",
       " 920,\n",
       " 5143,\n",
       " 922,\n",
       " 8738,\n",
       " 924,\n",
       " 1011,\n",
       " 8423,\n",
       " 5707,\n",
       " 3838,\n",
       " 4170,\n",
       " 1839,\n",
       " 196,\n",
       " 932,\n",
       " 933,\n",
       " 934,\n",
       " 5584,\n",
       " 6717,\n",
       " 3908,\n",
       " 602,\n",
       " 648,\n",
       " 27,\n",
       " 4995,\n",
       " 9964,\n",
       " 943,\n",
       " 6015,\n",
       " 945,\n",
       " 946,\n",
       " 3883,\n",
       " 948,\n",
       " 5916,\n",
       " 1882,\n",
       " 3778,\n",
       " 952,\n",
       " 953,\n",
       " 5355,\n",
       " 6170,\n",
       " 5982,\n",
       " 1622,\n",
       " 9950,\n",
       " 6843,\n",
       " 3717,\n",
       " 4327,\n",
       " 7198,\n",
       " 963,\n",
       " 8824,\n",
       " 1125,\n",
       " 966,\n",
       " 967,\n",
       " 968,\n",
       " 969,\n",
       " 970,\n",
       " 971,\n",
       " 972,\n",
       " 5040,\n",
       " 974,\n",
       " 8511,\n",
       " 5712,\n",
       " 4008,\n",
       " 3130,\n",
       " 979,\n",
       " 1160,\n",
       " 9539,\n",
       " 982,\n",
       " 983,\n",
       " 1242,\n",
       " 8389,\n",
       " 5635,\n",
       " 6775,\n",
       " 988,\n",
       " 8489,\n",
       " 5140,\n",
       " 991,\n",
       " 2612,\n",
       " 953,\n",
       " 9180,\n",
       " 8947,\n",
       " 4489,\n",
       " 27,\n",
       " 851,\n",
       " 1835,\n",
       " ...]"
      ]
     },
     "execution_count": 24,
     "metadata": {},
     "output_type": "execute_result"
    }
   ],
   "source": [
    "random_tree(10000) # 해당 함수가 돌아갈 때 벤치마크도 같이 돈다"
   ]
  },
  {
   "cell_type": "code",
   "execution_count": 25,
   "metadata": {
    "ExecuteTime": {
     "end_time": "2020-01-04T08:47:46.412514Z",
     "start_time": "2020-01-04T08:47:46.407533Z"
    }
   },
   "outputs": [],
   "source": [
    "class A(object):\n",
    "    _hello = True\n",
    "    \n",
    "    def foo(self, x):\n",
    "        print(\"foo({0}, {1}) 실행\".format(self, x))\n",
    "        \n",
    "    @classmethod\n",
    "    def class_foo(cls, x):\n",
    "        print(\"class_foo({0}, {1}) 실행: {2}\".format(cls, x, cls._hello))\n",
    "        \n",
    "    @staticmethod\n",
    "    def static_foo(x):\n",
    "        print(\"static_foo({0}) 실행\".format(x))"
   ]
  },
  {
   "cell_type": "code",
   "execution_count": 26,
   "metadata": {
    "ExecuteTime": {
     "end_time": "2020-01-04T08:47:53.025269Z",
     "start_time": "2020-01-04T08:47:53.022266Z"
    }
   },
   "outputs": [
    {
     "name": "stdout",
     "output_type": "stream",
     "text": [
      "foo(<__main__.A object at 0x000001CEC4FD0630>, 1) 실행\n"
     ]
    }
   ],
   "source": [
    "a = A()\n",
    "a.foo(1)"
   ]
  },
  {
   "cell_type": "code",
   "execution_count": 27,
   "metadata": {
    "ExecuteTime": {
     "end_time": "2020-01-04T08:48:11.722969Z",
     "start_time": "2020-01-04T08:48:11.718969Z"
    }
   },
   "outputs": [
    {
     "name": "stdout",
     "output_type": "stream",
     "text": [
      "class_foo(<class '__main__.A'>, 2) 실행: True\n",
      "class_foo(<class '__main__.A'>, 2) 실행: True\n"
     ]
    }
   ],
   "source": [
    "a.class_foo(2)\n",
    "A.class_foo(2)"
   ]
  },
  {
   "cell_type": "code",
   "execution_count": 28,
   "metadata": {
    "ExecuteTime": {
     "end_time": "2020-01-04T08:48:22.254044Z",
     "start_time": "2020-01-04T08:48:22.250052Z"
    }
   },
   "outputs": [
    {
     "name": "stdout",
     "output_type": "stream",
     "text": [
      "static_foo(3) 실행\n",
      "static_foo(3) 실행\n"
     ]
    }
   ],
   "source": [
    "a.static_foo(3)\n",
    "A.static_foo(3)"
   ]
  },
  {
   "cell_type": "markdown",
   "metadata": {},
   "source": [
    "## 옵서버 패턴"
   ]
  },
  {
   "cell_type": "code",
   "execution_count": 29,
   "metadata": {
    "ExecuteTime": {
     "end_time": "2020-01-04T08:50:14.821334Z",
     "start_time": "2020-01-04T08:50:14.817365Z"
    }
   },
   "outputs": [],
   "source": [
    "class C:\n",
    "    def __init__(self, name):\n",
    "        self._name = name\n",
    "    @property\n",
    "    def name(self):\n",
    "        return self._name\n",
    "    @name.setter\n",
    "    def name(self, new_name):\n",
    "        self._name = \"{0} >> {1}\".format(self._name, new_name)"
   ]
  },
  {
   "cell_type": "code",
   "execution_count": 30,
   "metadata": {
    "ExecuteTime": {
     "end_time": "2020-01-04T08:50:22.853950Z",
     "start_time": "2020-01-04T08:50:22.848948Z"
    }
   },
   "outputs": [
    {
     "data": {
      "text/plain": [
       "'진'"
      ]
     },
     "execution_count": 30,
     "metadata": {},
     "output_type": "execute_result"
    }
   ],
   "source": [
    "c = C(\"진\")\n",
    "c._name"
   ]
  },
  {
   "cell_type": "code",
   "execution_count": 31,
   "metadata": {
    "ExecuteTime": {
     "end_time": "2020-01-04T08:50:27.332571Z",
     "start_time": "2020-01-04T08:50:27.326571Z"
    }
   },
   "outputs": [
    {
     "data": {
      "text/plain": [
       "'진'"
      ]
     },
     "execution_count": 31,
     "metadata": {},
     "output_type": "execute_result"
    }
   ],
   "source": [
    "c.name"
   ]
  },
  {
   "cell_type": "code",
   "execution_count": 32,
   "metadata": {
    "ExecuteTime": {
     "end_time": "2020-01-04T08:50:34.489429Z",
     "start_time": "2020-01-04T08:50:34.486396Z"
    }
   },
   "outputs": [],
   "source": [
    "c.name = \"아스틴\""
   ]
  },
  {
   "cell_type": "code",
   "execution_count": 33,
   "metadata": {
    "ExecuteTime": {
     "end_time": "2020-01-04T08:50:36.848399Z",
     "start_time": "2020-01-04T08:50:36.844432Z"
    }
   },
   "outputs": [
    {
     "data": {
      "text/plain": [
       "'진 >> 아스틴'"
      ]
     },
     "execution_count": 33,
     "metadata": {},
     "output_type": "execute_result"
    }
   ],
   "source": [
    "c.name"
   ]
  },
  {
   "cell_type": "code",
   "execution_count": 34,
   "metadata": {
    "ExecuteTime": {
     "end_time": "2020-01-04T08:53:15.565935Z",
     "start_time": "2020-01-04T08:53:15.559970Z"
    }
   },
   "outputs": [],
   "source": [
    "class Subscriber(object):\n",
    "    def __init__(self, name):\n",
    "        self.name = name\n",
    "    def update(self, message):\n",
    "        print(\"{0}, {1}\".format(self.name, message))\n",
    "        \n",
    "class Publisher(object):\n",
    "    def __init__(self):\n",
    "        self.subscribers = set()\n",
    "        \n",
    "    def register(self, who):\n",
    "        self.subscribers.add(who)\n",
    "        \n",
    "    def unregister(self, who):\n",
    "        self.subscribers.discard(who)\n",
    "        \n",
    "    def dispatch(self, message):\n",
    "        for subscriber in self.subscribers:\n",
    "            subscriber.update(message)"
   ]
  },
  {
   "cell_type": "code",
   "execution_count": 35,
   "metadata": {
    "ExecuteTime": {
     "end_time": "2020-01-04T08:54:32.154963Z",
     "start_time": "2020-01-04T08:54:32.148990Z"
    }
   },
   "outputs": [
    {
     "name": "stdout",
     "output_type": "stream",
     "text": [
      "제프, 점심시간입니다.\n",
      "제임스, 점심시간입니다.\n",
      "아스틴, 점심시간입니다.\n",
      "제임스, 퇴근시간입니다.\n",
      "아스틴, 퇴근시간입니다.\n"
     ]
    }
   ],
   "source": [
    "pub = Publisher()\n",
    "\n",
    "astin = Subscriber(\"아스틴\")\n",
    "james = Subscriber(\"제임스\")\n",
    "jeff = Subscriber(\"제프\")\n",
    "\n",
    "pub.register(astin)\n",
    "pub.register(james)\n",
    "pub.register(jeff)\n",
    "\n",
    "pub.dispatch(\"점심시간입니다.\")\n",
    "pub.unregister(jeff)\n",
    "pub.dispatch(\"퇴근시간입니다.\")"
   ]
  },
  {
   "cell_type": "code",
   "execution_count": 39,
   "metadata": {
    "ExecuteTime": {
     "end_time": "2020-01-04T10:36:22.700500Z",
     "start_time": "2020-01-04T10:36:22.694499Z"
    }
   },
   "outputs": [],
   "source": [
    "class SubscriberOne(object):\n",
    "    def __init__(self, name):\n",
    "        self.name = name\n",
    "    \n",
    "    def update(self, message):\n",
    "        print(\"{0}, {1}\".format(self.name, message))\n",
    "        \n",
    "class SubscriberTwo(object):\n",
    "    def __init__(self, name):\n",
    "        self.name = name\n",
    "        \n",
    "    def receive(self, message):\n",
    "        print(\"{0}, {1}\".format(self.name, message))\n",
    "        \n",
    "class Publisher(object):\n",
    "    def __init__(self):\n",
    "        self.subscribers = dict()\n",
    "        \n",
    "    def register(self, who, callback=None):\n",
    "        if callback is None:\n",
    "            callback = getattr(who, 'update')\n",
    "        self.subscribers[who] = callback\n",
    "        \n",
    "    def unregister(self, who):\n",
    "        del self.subscribers[who]\n",
    "        \n",
    "    def dispatch(self, message):\n",
    "        for subscriber, callback in self.subscribers.items():\n",
    "            callback(message)"
   ]
  },
  {
   "cell_type": "code",
   "execution_count": 40,
   "metadata": {
    "ExecuteTime": {
     "end_time": "2020-01-04T10:36:22.923508Z",
     "start_time": "2020-01-04T10:36:22.918504Z"
    }
   },
   "outputs": [
    {
     "name": "stdout",
     "output_type": "stream",
     "text": [
      "아스틴, 점심시간입니다.\n",
      "제임스, 점심시간입니다.\n",
      "제프, 점심시간입니다.\n",
      "아스틴, 퇴근시간입니다.\n",
      "제임스, 퇴근시간입니다.\n"
     ]
    }
   ],
   "source": [
    "pub = Publisher()\n",
    "\n",
    "astin = Subscriber(\"아스틴\")\n",
    "james = Subscriber(\"제임스\")\n",
    "jeff = Subscriber(\"제프\")\n",
    "\n",
    "pub.register(astin)\n",
    "pub.register(james)\n",
    "pub.register(jeff)\n",
    "\n",
    "pub.dispatch(\"점심시간입니다.\")\n",
    "pub.unregister(jeff)\n",
    "pub.dispatch(\"퇴근시간입니다.\")"
   ]
  },
  {
   "cell_type": "code",
   "execution_count": 41,
   "metadata": {
    "ExecuteTime": {
     "end_time": "2020-01-04T10:41:37.283853Z",
     "start_time": "2020-01-04T10:41:37.276843Z"
    }
   },
   "outputs": [],
   "source": [
    "class Subscriber(object):\n",
    "    def __init__(self, name):\n",
    "        self.name = name\n",
    "        \n",
    "    def update(self, message):\n",
    "        print(\"{0}, {1}\".format(self.name, message))\n",
    "        \n",
    "class Publisher(object):\n",
    "    def __init__(self, events):\n",
    "        self.subscribers = {event: dict() for event in events}\n",
    "        \n",
    "    def get_subscribers(self, event):\n",
    "        return self.subscribers[event]\n",
    "    \n",
    "    def register(self, event, who, callback=None):\n",
    "        if callback is None:\n",
    "            callback = getattr(who, 'update')\n",
    "        self.get_subscribers(event)[who] = callback\n",
    "        \n",
    "    def unregister(self, event, who):\n",
    "        del self.get_subscribers(evemt)[who]\n",
    "        \n",
    "    def dispatch(self, event, message):\n",
    "        for subscriber, callback in self.get_subscribers(event).items():\n",
    "            callback(message)"
   ]
  },
  {
   "cell_type": "code",
   "execution_count": 44,
   "metadata": {
    "ExecuteTime": {
     "end_time": "2020-01-04T10:43:10.896239Z",
     "start_time": "2020-01-04T10:43:10.889289Z"
    }
   },
   "outputs": [
    {
     "name": "stdout",
     "output_type": "stream",
     "text": [
      "아스틴, 점심시간입니다.\n",
      "제프, 점심시간입니다.\n",
      "아스틴, 퇴근시간입니다.\n",
      "제임스, 퇴근시간입니다.\n"
     ]
    }
   ],
   "source": [
    "pub = Publisher([\"점심\", \"퇴근\"])\n",
    "\n",
    "astin = Subscriber(\"아스틴\")\n",
    "james = Subscriber(\"제임스\")\n",
    "jeff = Subscriber(\"제프\")\n",
    "\n",
    "pub.register(\"점심\", astin)\n",
    "pub.register(\"퇴근\", astin)\n",
    "pub.register(\"퇴근\", james)\n",
    "pub.register(\"점심\", jeff)\n",
    "\n",
    "pub.dispatch(\"점심\", \"점심시간입니다.\")\n",
    "pub.dispatch(\"퇴근\", \"퇴근시간입니다.\")"
   ]
  },
  {
   "cell_type": "markdown",
   "metadata": {},
   "source": [
    "## 싱글턴 패턴"
   ]
  },
  {
   "cell_type": "code",
   "execution_count": 45,
   "metadata": {
    "ExecuteTime": {
     "end_time": "2020-01-04T10:44:57.432096Z",
     "start_time": "2020-01-04T10:44:57.428098Z"
    }
   },
   "outputs": [],
   "source": [
    "class SinEx:\n",
    "    _sing = None\n",
    "    \n",
    "    def __new__(self, *args, **kwargs):\n",
    "        if not self._sing:\n",
    "            self._sing = super(SinEx, self).__new__(self, *args, **kwargs)\n",
    "        return self._sing"
   ]
  },
  {
   "cell_type": "code",
   "execution_count": 46,
   "metadata": {
    "ExecuteTime": {
     "end_time": "2020-01-04T10:45:04.159464Z",
     "start_time": "2020-01-04T10:45:04.155466Z"
    }
   },
   "outputs": [
    {
     "data": {
      "text/plain": [
       "<__main__.SinEx at 0x1cec4e87ac8>"
      ]
     },
     "execution_count": 46,
     "metadata": {},
     "output_type": "execute_result"
    }
   ],
   "source": [
    "x = SinEx()\n",
    "x"
   ]
  },
  {
   "cell_type": "code",
   "execution_count": 47,
   "metadata": {
    "ExecuteTime": {
     "end_time": "2020-01-04T10:45:14.059206Z",
     "start_time": "2020-01-04T10:45:14.054204Z"
    }
   },
   "outputs": [
    {
     "data": {
      "text/plain": [
       "True"
      ]
     },
     "execution_count": 47,
     "metadata": {},
     "output_type": "execute_result"
    }
   ],
   "source": [
    "y = SinEx()\n",
    "x == y"
   ]
  },
  {
   "cell_type": "code",
   "execution_count": 48,
   "metadata": {
    "ExecuteTime": {
     "end_time": "2020-01-04T10:45:15.972407Z",
     "start_time": "2020-01-04T10:45:15.968371Z"
    }
   },
   "outputs": [
    {
     "data": {
      "text/plain": [
       "<__main__.SinEx at 0x1cec4e87ac8>"
      ]
     },
     "execution_count": 48,
     "metadata": {},
     "output_type": "execute_result"
    }
   ],
   "source": [
    "y"
   ]
  }
 ],
 "metadata": {
  "kernelspec": {
   "display_name": "Python 3",
   "language": "python",
   "name": "python3"
  },
  "language_info": {
   "codemirror_mode": {
    "name": "ipython",
    "version": 3
   },
   "file_extension": ".py",
   "mimetype": "text/x-python",
   "name": "python",
   "nbconvert_exporter": "python",
   "pygments_lexer": "ipython3",
   "version": "3.6.9"
  },
  "toc": {
   "base_numbering": 1,
   "nav_menu": {},
   "number_sections": true,
   "sideBar": true,
   "skip_h1_title": false,
   "title_cell": "Table of Contents",
   "title_sidebar": "Contents",
   "toc_cell": false,
   "toc_position": {},
   "toc_section_display": true,
   "toc_window_display": false
  },
  "varInspector": {
   "cols": {
    "lenName": 16,
    "lenType": 16,
    "lenVar": 40
   },
   "kernels_config": {
    "python": {
     "delete_cmd_postfix": "",
     "delete_cmd_prefix": "del ",
     "library": "var_list.py",
     "varRefreshCmd": "print(var_dic_list())"
    },
    "r": {
     "delete_cmd_postfix": ") ",
     "delete_cmd_prefix": "rm(",
     "library": "var_list.r",
     "varRefreshCmd": "cat(var_dic_list()) "
    }
   },
   "types_to_exclude": [
    "module",
    "function",
    "builtin_function_or_method",
    "instance",
    "_Feature"
   ],
   "window_display": false
  }
 },
 "nbformat": 4,
 "nbformat_minor": 2
}
