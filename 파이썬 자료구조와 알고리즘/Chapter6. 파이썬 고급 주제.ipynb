{
 "cells": [
  {
   "cell_type": "markdown",
   "metadata": {},
   "source": [
    "# 멀티 프로세스와 멀티 스레드\n",
    "\n",
    "멀티 프로세스 : subprocess 모듈을 사용한다.  \n",
    "멀티 스레드 : threading 모듈을 사용한다."
   ]
  },
  {
   "cell_type": "markdown",
   "metadata": {},
   "source": [
    "## subprocess 모듈\n",
    "유닉스 계열에서만 실행된다."
   ]
  },
  {
   "cell_type": "code",
   "execution_count": 1,
   "metadata": {
    "ExecuteTime": {
     "end_time": "2020-01-05T09:29:42.748970Z",
     "start_time": "2020-01-05T09:29:42.656006Z"
    }
   },
   "outputs": [
    {
     "ename": "FileNotFoundError",
     "evalue": "[WinError 2] 지정된 파일을 찾을 수 없습니다",
     "output_type": "error",
     "traceback": [
      "\u001b[1;31m---------------------------------------------------------------------------\u001b[0m",
      "\u001b[1;31mFileNotFoundError\u001b[0m                         Traceback (most recent call last)",
      "\u001b[1;32m<ipython-input-1-5a90a3d019cd>\u001b[0m in \u001b[0;36m<module>\u001b[1;34m\u001b[0m\n\u001b[0;32m      1\u001b[0m \u001b[1;32mimport\u001b[0m \u001b[0msubprocess\u001b[0m\u001b[1;33m\u001b[0m\u001b[1;33m\u001b[0m\u001b[0m\n\u001b[1;32m----> 2\u001b[1;33m \u001b[0msubprocess\u001b[0m\u001b[1;33m.\u001b[0m\u001b[0mrun\u001b[0m\u001b[1;33m(\u001b[0m\u001b[1;33m[\u001b[0m\u001b[1;34m'echo'\u001b[0m\u001b[1;33m,\u001b[0m \u001b[1;34m'이것은 subprocess입니다.'\u001b[0m\u001b[1;33m]\u001b[0m\u001b[1;33m)\u001b[0m\u001b[1;33m\u001b[0m\u001b[1;33m\u001b[0m\u001b[0m\n\u001b[0m",
      "\u001b[1;32m~\\.conda\\envs\\multicampus\\lib\\subprocess.py\u001b[0m in \u001b[0;36mrun\u001b[1;34m(input, timeout, check, *popenargs, **kwargs)\u001b[0m\n\u001b[0;32m    421\u001b[0m         \u001b[0mkwargs\u001b[0m\u001b[1;33m[\u001b[0m\u001b[1;34m'stdin'\u001b[0m\u001b[1;33m]\u001b[0m \u001b[1;33m=\u001b[0m \u001b[0mPIPE\u001b[0m\u001b[1;33m\u001b[0m\u001b[1;33m\u001b[0m\u001b[0m\n\u001b[0;32m    422\u001b[0m \u001b[1;33m\u001b[0m\u001b[0m\n\u001b[1;32m--> 423\u001b[1;33m     \u001b[1;32mwith\u001b[0m \u001b[0mPopen\u001b[0m\u001b[1;33m(\u001b[0m\u001b[1;33m*\u001b[0m\u001b[0mpopenargs\u001b[0m\u001b[1;33m,\u001b[0m \u001b[1;33m**\u001b[0m\u001b[0mkwargs\u001b[0m\u001b[1;33m)\u001b[0m \u001b[1;32mas\u001b[0m \u001b[0mprocess\u001b[0m\u001b[1;33m:\u001b[0m\u001b[1;33m\u001b[0m\u001b[1;33m\u001b[0m\u001b[0m\n\u001b[0m\u001b[0;32m    424\u001b[0m         \u001b[1;32mtry\u001b[0m\u001b[1;33m:\u001b[0m\u001b[1;33m\u001b[0m\u001b[1;33m\u001b[0m\u001b[0m\n\u001b[0;32m    425\u001b[0m             \u001b[0mstdout\u001b[0m\u001b[1;33m,\u001b[0m \u001b[0mstderr\u001b[0m \u001b[1;33m=\u001b[0m \u001b[0mprocess\u001b[0m\u001b[1;33m.\u001b[0m\u001b[0mcommunicate\u001b[0m\u001b[1;33m(\u001b[0m\u001b[0minput\u001b[0m\u001b[1;33m,\u001b[0m \u001b[0mtimeout\u001b[0m\u001b[1;33m=\u001b[0m\u001b[0mtimeout\u001b[0m\u001b[1;33m)\u001b[0m\u001b[1;33m\u001b[0m\u001b[1;33m\u001b[0m\u001b[0m\n",
      "\u001b[1;32m~\\.conda\\envs\\multicampus\\lib\\subprocess.py\u001b[0m in \u001b[0;36m__init__\u001b[1;34m(self, args, bufsize, executable, stdin, stdout, stderr, preexec_fn, close_fds, shell, cwd, env, universal_newlines, startupinfo, creationflags, restore_signals, start_new_session, pass_fds, encoding, errors)\u001b[0m\n\u001b[0;32m    727\u001b[0m                                 \u001b[0mc2pread\u001b[0m\u001b[1;33m,\u001b[0m \u001b[0mc2pwrite\u001b[0m\u001b[1;33m,\u001b[0m\u001b[1;33m\u001b[0m\u001b[1;33m\u001b[0m\u001b[0m\n\u001b[0;32m    728\u001b[0m                                 \u001b[0merrread\u001b[0m\u001b[1;33m,\u001b[0m \u001b[0merrwrite\u001b[0m\u001b[1;33m,\u001b[0m\u001b[1;33m\u001b[0m\u001b[1;33m\u001b[0m\u001b[0m\n\u001b[1;32m--> 729\u001b[1;33m                                 restore_signals, start_new_session)\n\u001b[0m\u001b[0;32m    730\u001b[0m         \u001b[1;32mexcept\u001b[0m\u001b[1;33m:\u001b[0m\u001b[1;33m\u001b[0m\u001b[1;33m\u001b[0m\u001b[0m\n\u001b[0;32m    731\u001b[0m             \u001b[1;31m# Cleanup if the child failed starting.\u001b[0m\u001b[1;33m\u001b[0m\u001b[1;33m\u001b[0m\u001b[1;33m\u001b[0m\u001b[0m\n",
      "\u001b[1;32m~\\.conda\\envs\\multicampus\\lib\\subprocess.py\u001b[0m in \u001b[0;36m_execute_child\u001b[1;34m(self, args, executable, preexec_fn, close_fds, pass_fds, cwd, env, startupinfo, creationflags, shell, p2cread, p2cwrite, c2pread, c2pwrite, errread, errwrite, unused_restore_signals, unused_start_new_session)\u001b[0m\n\u001b[0;32m   1015\u001b[0m                                          \u001b[0menv\u001b[0m\u001b[1;33m,\u001b[0m\u001b[1;33m\u001b[0m\u001b[1;33m\u001b[0m\u001b[0m\n\u001b[0;32m   1016\u001b[0m                                          \u001b[0mos\u001b[0m\u001b[1;33m.\u001b[0m\u001b[0mfspath\u001b[0m\u001b[1;33m(\u001b[0m\u001b[0mcwd\u001b[0m\u001b[1;33m)\u001b[0m \u001b[1;32mif\u001b[0m \u001b[0mcwd\u001b[0m \u001b[1;32mis\u001b[0m \u001b[1;32mnot\u001b[0m \u001b[1;32mNone\u001b[0m \u001b[1;32melse\u001b[0m \u001b[1;32mNone\u001b[0m\u001b[1;33m,\u001b[0m\u001b[1;33m\u001b[0m\u001b[1;33m\u001b[0m\u001b[0m\n\u001b[1;32m-> 1017\u001b[1;33m                                          startupinfo)\n\u001b[0m\u001b[0;32m   1018\u001b[0m             \u001b[1;32mfinally\u001b[0m\u001b[1;33m:\u001b[0m\u001b[1;33m\u001b[0m\u001b[1;33m\u001b[0m\u001b[0m\n\u001b[0;32m   1019\u001b[0m                 \u001b[1;31m# Child is launched. Close the parent's copy of those pipe\u001b[0m\u001b[1;33m\u001b[0m\u001b[1;33m\u001b[0m\u001b[1;33m\u001b[0m\u001b[0m\n",
      "\u001b[1;31mFileNotFoundError\u001b[0m: [WinError 2] 지정된 파일을 찾을 수 없습니다"
     ]
    }
   ],
   "source": [
    "import subprocess\n",
    "subprocess.run(['echo', '이것은 subprocess입니다.'])"
   ]
  },
  {
   "cell_type": "code",
   "execution_count": 2,
   "metadata": {
    "ExecuteTime": {
     "end_time": "2020-01-05T09:30:11.691057Z",
     "start_time": "2020-01-05T09:30:11.671019Z"
    }
   },
   "outputs": [
    {
     "ename": "FileNotFoundError",
     "evalue": "[WinError 2] 지정된 파일을 찾을 수 없습니다",
     "output_type": "error",
     "traceback": [
      "\u001b[1;31m---------------------------------------------------------------------------\u001b[0m",
      "\u001b[1;31mFileNotFoundError\u001b[0m                         Traceback (most recent call last)",
      "\u001b[1;32m<ipython-input-2-4731970dd8e7>\u001b[0m in \u001b[0;36m<module>\u001b[1;34m\u001b[0m\n\u001b[1;32m----> 1\u001b[1;33m \u001b[0msubprocess\u001b[0m\u001b[1;33m.\u001b[0m\u001b[0mrun\u001b[0m\u001b[1;33m(\u001b[0m\u001b[1;33m[\u001b[0m\u001b[1;34m'sleep'\u001b[0m\u001b[1;33m,\u001b[0m \u001b[1;34m'10'\u001b[0m\u001b[1;33m]\u001b[0m\u001b[1;33m)\u001b[0m\u001b[1;33m\u001b[0m\u001b[1;33m\u001b[0m\u001b[0m\n\u001b[0m",
      "\u001b[1;32m~\\.conda\\envs\\multicampus\\lib\\subprocess.py\u001b[0m in \u001b[0;36mrun\u001b[1;34m(input, timeout, check, *popenargs, **kwargs)\u001b[0m\n\u001b[0;32m    421\u001b[0m         \u001b[0mkwargs\u001b[0m\u001b[1;33m[\u001b[0m\u001b[1;34m'stdin'\u001b[0m\u001b[1;33m]\u001b[0m \u001b[1;33m=\u001b[0m \u001b[0mPIPE\u001b[0m\u001b[1;33m\u001b[0m\u001b[1;33m\u001b[0m\u001b[0m\n\u001b[0;32m    422\u001b[0m \u001b[1;33m\u001b[0m\u001b[0m\n\u001b[1;32m--> 423\u001b[1;33m     \u001b[1;32mwith\u001b[0m \u001b[0mPopen\u001b[0m\u001b[1;33m(\u001b[0m\u001b[1;33m*\u001b[0m\u001b[0mpopenargs\u001b[0m\u001b[1;33m,\u001b[0m \u001b[1;33m**\u001b[0m\u001b[0mkwargs\u001b[0m\u001b[1;33m)\u001b[0m \u001b[1;32mas\u001b[0m \u001b[0mprocess\u001b[0m\u001b[1;33m:\u001b[0m\u001b[1;33m\u001b[0m\u001b[1;33m\u001b[0m\u001b[0m\n\u001b[0m\u001b[0;32m    424\u001b[0m         \u001b[1;32mtry\u001b[0m\u001b[1;33m:\u001b[0m\u001b[1;33m\u001b[0m\u001b[1;33m\u001b[0m\u001b[0m\n\u001b[0;32m    425\u001b[0m             \u001b[0mstdout\u001b[0m\u001b[1;33m,\u001b[0m \u001b[0mstderr\u001b[0m \u001b[1;33m=\u001b[0m \u001b[0mprocess\u001b[0m\u001b[1;33m.\u001b[0m\u001b[0mcommunicate\u001b[0m\u001b[1;33m(\u001b[0m\u001b[0minput\u001b[0m\u001b[1;33m,\u001b[0m \u001b[0mtimeout\u001b[0m\u001b[1;33m=\u001b[0m\u001b[0mtimeout\u001b[0m\u001b[1;33m)\u001b[0m\u001b[1;33m\u001b[0m\u001b[1;33m\u001b[0m\u001b[0m\n",
      "\u001b[1;32m~\\.conda\\envs\\multicampus\\lib\\subprocess.py\u001b[0m in \u001b[0;36m__init__\u001b[1;34m(self, args, bufsize, executable, stdin, stdout, stderr, preexec_fn, close_fds, shell, cwd, env, universal_newlines, startupinfo, creationflags, restore_signals, start_new_session, pass_fds, encoding, errors)\u001b[0m\n\u001b[0;32m    727\u001b[0m                                 \u001b[0mc2pread\u001b[0m\u001b[1;33m,\u001b[0m \u001b[0mc2pwrite\u001b[0m\u001b[1;33m,\u001b[0m\u001b[1;33m\u001b[0m\u001b[1;33m\u001b[0m\u001b[0m\n\u001b[0;32m    728\u001b[0m                                 \u001b[0merrread\u001b[0m\u001b[1;33m,\u001b[0m \u001b[0merrwrite\u001b[0m\u001b[1;33m,\u001b[0m\u001b[1;33m\u001b[0m\u001b[1;33m\u001b[0m\u001b[0m\n\u001b[1;32m--> 729\u001b[1;33m                                 restore_signals, start_new_session)\n\u001b[0m\u001b[0;32m    730\u001b[0m         \u001b[1;32mexcept\u001b[0m\u001b[1;33m:\u001b[0m\u001b[1;33m\u001b[0m\u001b[1;33m\u001b[0m\u001b[0m\n\u001b[0;32m    731\u001b[0m             \u001b[1;31m# Cleanup if the child failed starting.\u001b[0m\u001b[1;33m\u001b[0m\u001b[1;33m\u001b[0m\u001b[1;33m\u001b[0m\u001b[0m\n",
      "\u001b[1;32m~\\.conda\\envs\\multicampus\\lib\\subprocess.py\u001b[0m in \u001b[0;36m_execute_child\u001b[1;34m(self, args, executable, preexec_fn, close_fds, pass_fds, cwd, env, startupinfo, creationflags, shell, p2cread, p2cwrite, c2pread, c2pwrite, errread, errwrite, unused_restore_signals, unused_start_new_session)\u001b[0m\n\u001b[0;32m   1015\u001b[0m                                          \u001b[0menv\u001b[0m\u001b[1;33m,\u001b[0m\u001b[1;33m\u001b[0m\u001b[1;33m\u001b[0m\u001b[0m\n\u001b[0;32m   1016\u001b[0m                                          \u001b[0mos\u001b[0m\u001b[1;33m.\u001b[0m\u001b[0mfspath\u001b[0m\u001b[1;33m(\u001b[0m\u001b[0mcwd\u001b[0m\u001b[1;33m)\u001b[0m \u001b[1;32mif\u001b[0m \u001b[0mcwd\u001b[0m \u001b[1;32mis\u001b[0m \u001b[1;32mnot\u001b[0m \u001b[1;32mNone\u001b[0m \u001b[1;32melse\u001b[0m \u001b[1;32mNone\u001b[0m\u001b[1;33m,\u001b[0m\u001b[1;33m\u001b[0m\u001b[1;33m\u001b[0m\u001b[0m\n\u001b[1;32m-> 1017\u001b[1;33m                                          startupinfo)\n\u001b[0m\u001b[0;32m   1018\u001b[0m             \u001b[1;32mfinally\u001b[0m\u001b[1;33m:\u001b[0m\u001b[1;33m\u001b[0m\u001b[1;33m\u001b[0m\u001b[0m\n\u001b[0;32m   1019\u001b[0m                 \u001b[1;31m# Child is launched. Close the parent's copy of those pipe\u001b[0m\u001b[1;33m\u001b[0m\u001b[1;33m\u001b[0m\u001b[1;33m\u001b[0m\u001b[0m\n",
      "\u001b[1;31mFileNotFoundError\u001b[0m: [WinError 2] 지정된 파일을 찾을 수 없습니다"
     ]
    }
   ],
   "source": [
    "subprocess.run(['sleep', '10'])"
   ]
  },
  {
   "cell_type": "markdown",
   "metadata": {},
   "source": [
    "## threading 모듈"
   ]
  },
  {
   "cell_type": "code",
   "execution_count": 3,
   "metadata": {
    "ExecuteTime": {
     "end_time": "2020-01-05T09:32:34.845520Z",
     "start_time": "2020-01-05T09:32:34.839490Z"
    }
   },
   "outputs": [],
   "source": [
    "import queue\n",
    "import threading\n",
    "\n",
    "q = queue.Queue()\n",
    "\n",
    "def worker(num):\n",
    "    while True:\n",
    "        item = q.get()\n",
    "        if item is None:\n",
    "            break\n",
    "        #작업을 처리한다.\n",
    "        print('스레드 {0} : 처리 완료 {1}'.format(num+1, item))\n",
    "        q.task_done()"
   ]
  },
  {
   "cell_type": "code",
   "execution_count": null,
   "metadata": {
    "ExecuteTime": {
     "start_time": "2020-01-05T09:34:25.559Z"
    }
   },
   "outputs": [
    {
     "name": "stdout",
     "output_type": "stream",
     "text": [
      "스레드 1 : 처리 완료 0스레드 5 : 처리 완료 1\n",
      "스레드 1 : 처리 완료 2\n",
      "스레드 1 : 처리 완료 3\n",
      "스레드 3 : 처리 완료 4\n",
      "스레드 3 : 처리 완료 5\n",
      "스레드 3 : 처리 완료 6\n",
      "스레드 3 : 처리 완료 7\n",
      "스레드 4 : 처리 완료 8\n",
      "스레드 4 : 처리 완료 9\n",
      "스레드 4 : 처리 완료 10\n",
      "스레드 4 : 처리 완료 11\n",
      "스레드 4 : 처리 완료 12\n",
      "스레드 4 : 처리 완료 13\n",
      "스레드 3 : 처리 완료 14\n",
      "스레드 3 : 처리 완료 15\n",
      "스레드 3 : 처리 완료 16\n",
      "스레드 3 : 처리 완료 17\n",
      "스레드 3 : 처리 완료 18\n",
      "스레드 3 : 처리 완료 19\n",
      "\n"
     ]
    }
   ],
   "source": [
    "num_worker_threads = 5\n",
    "threads = []\n",
    "for i in range(num_worker_threads):\n",
    "    t = threading.Thread(target=worker, args=(i,))\n",
    "    t.start()\n",
    "    threads.append(t)\n",
    "\n",
    "for item in range(20):\n",
    "    q.put(item)\n",
    "    \n",
    "q.join()\n",
    "\n",
    "for i in range(num_worker_threads):\n",
    "    q.put(None)\n",
    "for t in threads:\n",
    "    t.join()"
   ]
  },
  {
   "cell_type": "markdown",
   "metadata": {},
   "source": [
    "## 뮤텍스와 세마포어"
   ]
  },
  {
   "cell_type": "code",
   "execution_count": 1,
   "metadata": {
    "ExecuteTime": {
     "end_time": "2020-01-05T09:38:38.625328Z",
     "start_time": "2020-01-05T09:38:38.620353Z"
    }
   },
   "outputs": [],
   "source": [
    "from threading import Thread, Lock\n",
    "import threading\n",
    "\n",
    "def worker(mutex, data, thread_safe):\n",
    "    if thread_safe:\n",
    "        mutex.acquire()\n",
    "    try:\n",
    "        print('스레드 {0} : {1}\\n'.format(threading.get_ident(), data))\n",
    "    finally:\n",
    "        if thread_safe:\n",
    "            mutex.release()"
   ]
  },
  {
   "cell_type": "code",
   "execution_count": 2,
   "metadata": {
    "ExecuteTime": {
     "end_time": "2020-01-05T09:38:39.770324Z",
     "start_time": "2020-01-05T09:38:39.699361Z"
    }
   },
   "outputs": [
    {
     "name": "stdout",
     "output_type": "stream",
     "text": [
      "스레드 9196 : 0\n",
      "\n",
      "스레드 11100 : 1\n",
      "\n",
      "스레드 13676 : 2\n",
      "\n",
      "스레드 1296 : 3\n",
      "\n",
      "스레드 9128 : 4\n",
      "\n",
      "스레드 9520 : 5\n",
      "\n",
      "스레드 3660 : 6\n",
      "\n",
      "스레드 14476 : 7\n",
      "\n",
      "스레드 11768 : 8\n",
      "\n",
      "스레드 10536 : 9\n",
      "\n",
      "스레드 15908 : 10\n",
      "\n",
      "스레드 16400 : 11\n",
      "\n",
      "스레드 15316 : 12\n",
      "\n",
      "스레드 13168 : 13\n",
      "\n",
      "스레드 16432 : 14\n",
      "\n",
      "스레드 5708 : 15\n",
      "\n",
      "스레드 16096 : 16\n",
      "\n",
      "스레드 2488 : 17\n",
      "\n",
      "스레드 16424 : 18\n",
      "\n",
      "스레드 11480 : 19\n",
      "\n"
     ]
    }
   ],
   "source": [
    "threads = []\n",
    "thread_safe = False\n",
    "mutex = Lock()\n",
    "for i in range(20):\n",
    "    t = Thread(target=worker, args=(mutex, i, thread_safe))\n",
    "    t.start()\n",
    "    threads.append(t)\n",
    "for t in threads:\n",
    "    t.join()"
   ]
  },
  {
   "cell_type": "code",
   "execution_count": 3,
   "metadata": {
    "ExecuteTime": {
     "end_time": "2020-01-05T09:38:52.844556Z",
     "start_time": "2020-01-05T09:38:52.773498Z"
    }
   },
   "outputs": [
    {
     "name": "stdout",
     "output_type": "stream",
     "text": [
      "스레드 16436 : 0\n",
      "\n",
      "스레드 16396 : 1\n",
      "\n",
      "스레드 4016 : 2\n",
      "\n",
      "스레드 9140 : 3\n",
      "\n",
      "스레드 15236 : 4\n",
      "\n",
      "스레드 4480 : 5\n",
      "\n",
      "스레드 12920 : 6\n",
      "\n",
      "스레드 10636 : 7\n",
      "\n",
      "스레드 1600 : 8\n",
      "\n",
      "스레드 13552 : 9\n",
      "\n",
      "스레드 10736 : 10\n",
      "\n",
      "스레드 12736 : 11\n",
      "\n",
      "스레드 12092 : 12\n",
      "\n",
      "스레드 16508 : 13\n",
      "\n",
      "스레드 14556 : 14\n",
      "\n",
      "스레드 12512 : 15\n",
      "\n",
      "스레드 6776 : 16\n",
      "\n",
      "스레드 11448 : 17\n",
      "\n",
      "스레드 18312 : 18\n",
      "\n",
      "스레드 3828 : 19\n",
      "\n"
     ]
    }
   ],
   "source": [
    "threads = []\n",
    "thread_safe = True\n",
    "mutex = Lock()\n",
    "for i in range(20):\n",
    "    t = Thread(target=worker, args=(mutex, i, thread_safe))\n",
    "    t.start()\n",
    "    threads.append(t)\n",
    "for t in threads:\n",
    "    t.join()"
   ]
  },
  {
   "cell_type": "code",
   "execution_count": 5,
   "metadata": {
    "ExecuteTime": {
     "end_time": "2020-01-05T09:42:25.651831Z",
     "start_time": "2020-01-05T09:42:25.645831Z"
    }
   },
   "outputs": [],
   "source": [
    "import threading\n",
    "import time\n",
    "\n",
    "class ThreadPool(object):\n",
    "    def __init__(self):\n",
    "        self.active = []\n",
    "        self.lock = threading.Lock()\n",
    "        \n",
    "    def acquire(self, name):\n",
    "        with self.lock:\n",
    "            self.active.append(name)\n",
    "            print('획득: {0} | 스레드 풀: {1}'.format(name, self.active))\n",
    "            \n",
    "    def release(self, name):\n",
    "        with self.lock:\n",
    "            self.active.remove(name)\n",
    "            print('반환: {0} | 스레드 풀: {1}'.format(name, self.active))\n",
    "            \n",
    "def worker(semaphore, pool):\n",
    "    with semaphore:\n",
    "        name = threading.currentThread().getName()\n",
    "        pool.acquire(name)\n",
    "        time.sleep(1)\n",
    "        pool.release(name)"
   ]
  },
  {
   "cell_type": "code",
   "execution_count": 6,
   "metadata": {
    "ExecuteTime": {
     "end_time": "2020-01-05T09:43:48.012701Z",
     "start_time": "2020-01-05T09:43:43.990751Z"
    }
   },
   "outputs": [
    {
     "name": "stdout",
     "output_type": "stream",
     "text": [
      "획득: 스레드0 | 스레드 풀: ['스레드0']\n",
      "획득: 스레드1 | 스레드 풀: ['스레드0', '스레드1']\n",
      "획득: 스레드2 | 스레드 풀: ['스레드0', '스레드1', '스레드2']\n",
      "반환: 스레드0 | 스레드 풀: ['스레드1', '스레드2']\n",
      "획득: 스레드3 | 스레드 풀: ['스레드1', '스레드2', '스레드3']\n",
      "반환: 스레드1 | 스레드 풀: ['스레드2', '스레드3']\n",
      "획득: 스레드4 | 스레드 풀: ['스레드2', '스레드3', '스레드4']\n",
      "반환: 스레드2 | 스레드 풀: ['스레드3', '스레드4']\n",
      "획득: 스레드5 | 스레드 풀: ['스레드3', '스레드4', '스레드5']\n",
      "반환: 스레드3 | 스레드 풀: ['스레드4', '스레드5']\n",
      "획득: 스레드6 | 스레드 풀: ['스레드4', '스레드5', '스레드6']\n",
      "반환: 스레드4 | 스레드 풀: ['스레드5', '스레드6']\n",
      "획득: 스레드7 | 스레드 풀: ['스레드5', '스레드6', '스레드7']\n",
      "반환: 스레드5 | 스레드 풀: ['스레드6', '스레드7']\n",
      "획득: 스레드8 | 스레드 풀: ['스레드6', '스레드7', '스레드8']\n",
      "반환: 스레드6 | 스레드 풀: ['스레드7', '스레드8']\n",
      "획득: 스레드9 | 스레드 풀: ['스레드7', '스레드8', '스레드9']\n",
      "반환: 스레드7 | 스레드 풀: ['스레드8', '스레드9']\n",
      "반환: 스레드8 | 스레드 풀: ['스레드9']\n",
      "반환: 스레드9 | 스레드 풀: []\n"
     ]
    }
   ],
   "source": [
    "threads = []\n",
    "pool = ThreadPool()\n",
    "semaphore = threading.Semaphore(3)\n",
    "for i in range(10):\n",
    "    t = threading.Thread(target=worker, name=\"스레드\" + str(i), args=(semaphore, pool))\n",
    "    t.start()\n",
    "    threads.append(t)\n",
    "for t in threads:\n",
    "    t.join()"
   ]
  },
  {
   "cell_type": "markdown",
   "metadata": {},
   "source": [
    "## 데드락과 스핀락\n",
    "**데드락의 네 가지 조건(4가지 동시에 만족할 때 발생한다)**\n",
    "- 상호 배제 : 자원은 한 번에 한 프로세스(혹은 스레드)만 사용할 수 있다.\n",
    "- 점유와 대기 : 한 프로세스가 자원을 가지고 있는 상태에서, 다른 프로세스가 쓰는 자원의 반납을 기다린다.\n",
    "- 비선점 : 다른 프로세스가 이미 점유한 자원을 강제로 뺏어오지 못한다.\n",
    "- 순환 대기 : 프로세스 A,B,C가 있다고 가정할 때 A는 B가 점유한 자원을, B는 C가 점유한 자원을, C는 A가 점유한 자원을 대기하는 상태다."
   ]
  },
  {
   "cell_type": "markdown",
   "metadata": {},
   "source": [
    "## 스레딩에 대한 구글 파이썬 스타일 가이드"
   ]
  },
  {
   "cell_type": "code",
   "execution_count": 7,
   "metadata": {
    "ExecuteTime": {
     "end_time": "2020-01-05T09:48:52.930940Z",
     "start_time": "2020-01-05T09:48:52.925896Z"
    }
   },
   "outputs": [],
   "source": [
    "import threading\n",
    "\n",
    "def consumer(cond):\n",
    "    name = threading.currentThread().getName()\n",
    "    print(\"{0} 시작\".format(name))\n",
    "    with cond:\n",
    "        print(\"{0} 대기\".format(name))\n",
    "        cond.wait()\n",
    "        print(\"{0} 자원 소비\".format(name))\n",
    "        \n",
    "def producer(cond):\n",
    "    name = threading.currentThread().getName()\n",
    "    print(\"{0} 시작\".format(name))\n",
    "    with cond:\n",
    "        print(\"{0} 자원 생산 후 모든 소비자에게 알림\".format(name))\n",
    "        cond.notifyAll()"
   ]
  },
  {
   "cell_type": "code",
   "execution_count": 8,
   "metadata": {
    "ExecuteTime": {
     "end_time": "2020-01-05T09:50:54.745640Z",
     "start_time": "2020-01-05T09:50:54.727614Z"
    }
   },
   "outputs": [
    {
     "name": "stdout",
     "output_type": "stream",
     "text": [
      "소비자1 시작\n",
      "소비자1 대기\n",
      "소비자2 시작\n",
      "소비자2 대기\n",
      "생산자 시작\n",
      "생산자 자원 생산 후 모든 소비자에게 알림\n",
      "소비자1 자원 소비\n",
      "소비자2 자원 소비\n"
     ]
    }
   ],
   "source": [
    "condition = threading.Condition()\n",
    "consumer1 = threading.Thread(name='소비자1', target=consumer, args=(condition,))\n",
    "consumer2 = threading.Thread(name='소비자2', target=consumer, args=(condition,))\n",
    "producer = threading.Thread(name='생산자', target=producer, args=(condition,))\n",
    "\n",
    "consumer1.start()\n",
    "consumer2.start()\n",
    "producer.start()"
   ]
  },
  {
   "cell_type": "markdown",
   "metadata": {},
   "source": [
    "# 프로파일링\n",
    "- 읽기 전용 데이터는 리스트 대신 튜플을 사용한다.\n",
    "- 반복문에서 항목이 많은 리스트나 튜플 대신 제너레이터를 사용하여 순회한다.\n",
    "- 문자열을 연결할 때 + 연산자로 문자열을 연결하는 대신, 리스트에 문자열을 추가한 후, 마지막에 리스트의 항목을 모두 하나로 연결한다."
   ]
  },
  {
   "cell_type": "markdown",
   "metadata": {},
   "source": [
    "## cProfile 모듈\n",
    "호출 시간에 대한 세부 분석을 제공한다 (병목 현상을 찾을 때 유용)"
   ]
  },
  {
   "cell_type": "code",
   "execution_count": 10,
   "metadata": {
    "ExecuteTime": {
     "end_time": "2020-01-05T09:54:35.192435Z",
     "start_time": "2020-01-05T09:54:35.187436Z"
    }
   },
   "outputs": [],
   "source": [
    "import cProfile\n",
    "import time\n",
    "\n",
    "def sleep():\n",
    "    time.sleep(5)\n",
    "    \n",
    "def hello_world():\n",
    "    print('Hello World!')\n",
    "    \n",
    "def main():\n",
    "    sleep()\n",
    "    hello_world()"
   ]
  },
  {
   "cell_type": "code",
   "execution_count": 11,
   "metadata": {
    "ExecuteTime": {
     "end_time": "2020-01-05T09:54:50.151272Z",
     "start_time": "2020-01-05T09:54:45.132481Z"
    }
   },
   "outputs": [
    {
     "name": "stdout",
     "output_type": "stream",
     "text": [
      "Hello World!\n",
      "         42 function calls in 5.000 seconds\n",
      "\n",
      "   Ordered by: standard name\n",
      "\n",
      "   ncalls  tottime  percall  cumtime  percall filename:lineno(function)\n",
      "        1    0.000    0.000    5.000    5.000 <ipython-input-10-14a0ff266150>:10(main)\n",
      "        1    0.000    0.000    5.000    5.000 <ipython-input-10-14a0ff266150>:4(sleep)\n",
      "        1    0.000    0.000    0.000    0.000 <ipython-input-10-14a0ff266150>:7(hello_world)\n",
      "        1    0.000    0.000    5.000    5.000 <string>:1(<module>)\n",
      "        3    0.000    0.000    0.000    0.000 iostream.py:197(schedule)\n",
      "        2    0.000    0.000    0.000    0.000 iostream.py:309(_is_master_process)\n",
      "        2    0.000    0.000    0.000    0.000 iostream.py:322(_schedule_flush)\n",
      "        2    0.000    0.000    0.000    0.000 iostream.py:384(write)\n",
      "        3    0.000    0.000    0.000    0.000 iostream.py:93(_event_pipe)\n",
      "        3    0.000    0.000    0.000    0.000 socket.py:342(send)\n",
      "        3    0.000    0.000    0.000    0.000 threading.py:1062(_wait_for_tstate_lock)\n",
      "        3    0.000    0.000    0.000    0.000 threading.py:1104(is_alive)\n",
      "        3    0.000    0.000    0.000    0.000 threading.py:506(is_set)\n",
      "        1    0.000    0.000    5.000    5.000 {built-in method builtins.exec}\n",
      "        2    0.000    0.000    0.000    0.000 {built-in method builtins.isinstance}\n",
      "        1    0.000    0.000    0.000    0.000 {built-in method builtins.print}\n",
      "        2    0.000    0.000    0.000    0.000 {built-in method nt.getpid}\n",
      "        1    5.000    5.000    5.000    5.000 {built-in method time.sleep}\n",
      "        3    0.000    0.000    0.000    0.000 {method 'acquire' of '_thread.lock' objects}\n",
      "        3    0.000    0.000    0.000    0.000 {method 'append' of 'collections.deque' objects}\n",
      "        1    0.000    0.000    0.000    0.000 {method 'disable' of '_lsprof.Profiler' objects}\n",
      "\n",
      "\n"
     ]
    }
   ],
   "source": [
    "cProfile.run('main()')"
   ]
  },
  {
   "cell_type": "markdown",
   "metadata": {},
   "source": [
    "## timeit 모듈"
   ]
  },
  {
   "cell_type": "code",
   "execution_count": 12,
   "metadata": {
    "ExecuteTime": {
     "end_time": "2020-01-05T09:55:49.912938Z",
     "start_time": "2020-01-05T09:55:49.887928Z"
    }
   },
   "outputs": [
    {
     "data": {
      "text/plain": [
       "0.013816"
      ]
     },
     "execution_count": 12,
     "metadata": {},
     "output_type": "execute_result"
    }
   ],
   "source": [
    "import timeit\n",
    "timeit.timeit(\"x = 2 + 2\")"
   ]
  },
  {
   "cell_type": "code",
   "execution_count": 13,
   "metadata": {
    "ExecuteTime": {
     "end_time": "2020-01-05T09:55:58.704656Z",
     "start_time": "2020-01-05T09:55:58.302682Z"
    }
   },
   "outputs": [
    {
     "data": {
      "text/plain": [
       "0.39754860000000036"
      ]
     },
     "execution_count": 13,
     "metadata": {},
     "output_type": "execute_result"
    }
   ],
   "source": [
    "timeit.timeit(\"x = sum(range(10))\")"
   ]
  },
  {
   "cell_type": "code",
   "execution_count": 14,
   "metadata": {
    "ExecuteTime": {
     "end_time": "2020-01-05T09:57:04.727035Z",
     "start_time": "2020-01-05T09:57:04.723032Z"
    }
   },
   "outputs": [],
   "source": [
    "import time\n",
    "\n",
    "def sumOfN2(n):\n",
    "    start = time.time()\n",
    "    theSum = 0\n",
    "    for i in range(1, n+1):\n",
    "        theSum = theSum + i\n",
    "    end = time.time()\n",
    "    return theSum, end-start"
   ]
  },
  {
   "cell_type": "code",
   "execution_count": 15,
   "metadata": {
    "ExecuteTime": {
     "end_time": "2020-01-05T09:57:30.963161Z",
     "start_time": "2020-01-05T09:57:30.958129Z"
    }
   },
   "outputs": [
    {
     "name": "stdout",
     "output_type": "stream",
     "text": [
      "총 합계: 15\t 시간:  0.0000000초\n"
     ]
    }
   ],
   "source": [
    "n = 5\n",
    "print('총 합계: %d\\t 시간: %10.7f초' % sumOfN2(n))"
   ]
  },
  {
   "cell_type": "code",
   "execution_count": 16,
   "metadata": {
    "ExecuteTime": {
     "end_time": "2020-01-05T09:57:52.450433Z",
     "start_time": "2020-01-05T09:57:52.445435Z"
    }
   },
   "outputs": [
    {
     "name": "stdout",
     "output_type": "stream",
     "text": [
      "총 합계: 20100\t 시간:  0.0000000초\n"
     ]
    }
   ],
   "source": [
    "n = 200\n",
    "print('총 합계: %d\\t 시간: %10.7f초' % sumOfN2(n))"
   ]
  },
  {
   "cell_type": "markdown",
   "metadata": {},
   "source": [
    "# 단위 테스트\n",
    "<br/>\n",
    "\n",
    "**용어**\n",
    "- 테스트 픽스처 : 테스트 설정을 위한 코드 (예 : 테스트용 입력 파일을 만들었다 삭제하는 코드)\n",
    "- 테스트 케이스 : 테스트의 기본 단위\n",
    "- 테스트 스위트 : unittest.TestCase의 하위 클래스에 의해 생성된 테스트 케이스 집합. 각 테스트 케이스의 메서드 이름은 test로 시작한다.\n",
    "- 테스트 러너 : 하나 이상의 테스트 스위트를 실행하는 객체"
   ]
  },
  {
   "cell_type": "markdown",
   "metadata": {},
   "source": [
    "## doctest"
   ]
  },
  {
   "cell_type": "code",
   "execution_count": 17,
   "metadata": {
    "ExecuteTime": {
     "end_time": "2020-01-05T10:03:34.035422Z",
     "start_time": "2020-01-05T10:03:34.029450Z"
    }
   },
   "outputs": [],
   "source": [
    "def factorial(n):\n",
    "    import math\n",
    "    if not n >= 0:\n",
    "        raise ValueError('n must be >= 0')\n",
    "    if math.floor(n) != n:\n",
    "        raise ValueError(\"n must be exact integer\")\n",
    "    if n+1 == n:\n",
    "        raise OverflowError(\"n too large\")\n",
    "    result = 1\n",
    "    factor = 2\n",
    "    while factor <= n:\n",
    "        result *= factor\n",
    "        factor += 1\n",
    "    return result"
   ]
  },
  {
   "cell_type": "code",
   "execution_count": 19,
   "metadata": {
    "ExecuteTime": {
     "end_time": "2020-01-05T10:05:43.927814Z",
     "start_time": "2020-01-05T10:05:43.911846Z"
    }
   },
   "outputs": [
    {
     "ename": "TypeError",
     "evalue": "Expected a module, string, or None",
     "output_type": "error",
     "traceback": [
      "\u001b[1;31m---------------------------------------------------------------------------\u001b[0m",
      "\u001b[1;31mTypeError\u001b[0m                                 Traceback (most recent call last)",
      "\u001b[1;32m<ipython-input-19-aeacfdf94f15>\u001b[0m in \u001b[0;36m<module>\u001b[1;34m\u001b[0m\n\u001b[0;32m      3\u001b[0m \u001b[1;33m\u001b[0m\u001b[0m\n\u001b[0;32m      4\u001b[0m \u001b[0msuite\u001b[0m \u001b[1;33m=\u001b[0m \u001b[0munittest\u001b[0m\u001b[1;33m.\u001b[0m\u001b[0mTestSuite\u001b[0m\u001b[1;33m(\u001b[0m\u001b[1;33m)\u001b[0m\u001b[1;33m\u001b[0m\u001b[1;33m\u001b[0m\u001b[0m\n\u001b[1;32m----> 5\u001b[1;33m \u001b[0msuite\u001b[0m\u001b[1;33m.\u001b[0m\u001b[0maddTest\u001b[0m\u001b[1;33m(\u001b[0m\u001b[0mdoctest\u001b[0m\u001b[1;33m.\u001b[0m\u001b[0mDocTestSuite\u001b[0m\u001b[1;33m(\u001b[0m\u001b[0mfactorial\u001b[0m\u001b[1;33m)\u001b[0m\u001b[1;33m)\u001b[0m\u001b[1;33m\u001b[0m\u001b[1;33m\u001b[0m\u001b[0m\n\u001b[0m\u001b[0;32m      6\u001b[0m \u001b[0mrunner\u001b[0m \u001b[1;33m=\u001b[0m \u001b[0munittest\u001b[0m\u001b[1;33m.\u001b[0m\u001b[0mTextTestRunner\u001b[0m\u001b[1;33m(\u001b[0m\u001b[1;33m)\u001b[0m\u001b[1;33m\u001b[0m\u001b[1;33m\u001b[0m\u001b[0m\n\u001b[0;32m      7\u001b[0m \u001b[0mprint\u001b[0m\u001b[1;33m(\u001b[0m\u001b[0mrunner\u001b[0m\u001b[1;33m.\u001b[0m\u001b[0mrun\u001b[0m\u001b[1;33m(\u001b[0m\u001b[0msuite\u001b[0m\u001b[1;33m)\u001b[0m\u001b[1;33m)\u001b[0m\u001b[1;33m\u001b[0m\u001b[1;33m\u001b[0m\u001b[0m\n",
      "\u001b[1;32m~\\.conda\\envs\\multicampus\\lib\\doctest.py\u001b[0m in \u001b[0;36mDocTestSuite\u001b[1;34m(module, globs, extraglobs, test_finder, **options)\u001b[0m\n\u001b[0;32m   2372\u001b[0m         \u001b[0mtest_finder\u001b[0m \u001b[1;33m=\u001b[0m \u001b[0mDocTestFinder\u001b[0m\u001b[1;33m(\u001b[0m\u001b[1;33m)\u001b[0m\u001b[1;33m\u001b[0m\u001b[1;33m\u001b[0m\u001b[0m\n\u001b[0;32m   2373\u001b[0m \u001b[1;33m\u001b[0m\u001b[0m\n\u001b[1;32m-> 2374\u001b[1;33m     \u001b[0mmodule\u001b[0m \u001b[1;33m=\u001b[0m \u001b[0m_normalize_module\u001b[0m\u001b[1;33m(\u001b[0m\u001b[0mmodule\u001b[0m\u001b[1;33m)\u001b[0m\u001b[1;33m\u001b[0m\u001b[1;33m\u001b[0m\u001b[0m\n\u001b[0m\u001b[0;32m   2375\u001b[0m     \u001b[0mtests\u001b[0m \u001b[1;33m=\u001b[0m \u001b[0mtest_finder\u001b[0m\u001b[1;33m.\u001b[0m\u001b[0mfind\u001b[0m\u001b[1;33m(\u001b[0m\u001b[0mmodule\u001b[0m\u001b[1;33m,\u001b[0m \u001b[0mglobs\u001b[0m\u001b[1;33m=\u001b[0m\u001b[0mglobs\u001b[0m\u001b[1;33m,\u001b[0m \u001b[0mextraglobs\u001b[0m\u001b[1;33m=\u001b[0m\u001b[0mextraglobs\u001b[0m\u001b[1;33m)\u001b[0m\u001b[1;33m\u001b[0m\u001b[1;33m\u001b[0m\u001b[0m\n\u001b[0;32m   2376\u001b[0m \u001b[1;33m\u001b[0m\u001b[0m\n",
      "\u001b[1;32m~\\.conda\\envs\\multicampus\\lib\\doctest.py\u001b[0m in \u001b[0;36m_normalize_module\u001b[1;34m(module, depth)\u001b[0m\n\u001b[0;32m    211\u001b[0m         \u001b[1;32mreturn\u001b[0m \u001b[0msys\u001b[0m\u001b[1;33m.\u001b[0m\u001b[0mmodules\u001b[0m\u001b[1;33m[\u001b[0m\u001b[0msys\u001b[0m\u001b[1;33m.\u001b[0m\u001b[0m_getframe\u001b[0m\u001b[1;33m(\u001b[0m\u001b[0mdepth\u001b[0m\u001b[1;33m)\u001b[0m\u001b[1;33m.\u001b[0m\u001b[0mf_globals\u001b[0m\u001b[1;33m[\u001b[0m\u001b[1;34m'__name__'\u001b[0m\u001b[1;33m]\u001b[0m\u001b[1;33m]\u001b[0m\u001b[1;33m\u001b[0m\u001b[1;33m\u001b[0m\u001b[0m\n\u001b[0;32m    212\u001b[0m     \u001b[1;32melse\u001b[0m\u001b[1;33m:\u001b[0m\u001b[1;33m\u001b[0m\u001b[1;33m\u001b[0m\u001b[0m\n\u001b[1;32m--> 213\u001b[1;33m         \u001b[1;32mraise\u001b[0m \u001b[0mTypeError\u001b[0m\u001b[1;33m(\u001b[0m\u001b[1;34m\"Expected a module, string, or None\"\u001b[0m\u001b[1;33m)\u001b[0m\u001b[1;33m\u001b[0m\u001b[1;33m\u001b[0m\u001b[0m\n\u001b[0m\u001b[0;32m    214\u001b[0m \u001b[1;33m\u001b[0m\u001b[0m\n\u001b[0;32m    215\u001b[0m \u001b[1;32mdef\u001b[0m \u001b[0m_load_testfile\u001b[0m\u001b[1;33m(\u001b[0m\u001b[0mfilename\u001b[0m\u001b[1;33m,\u001b[0m \u001b[0mpackage\u001b[0m\u001b[1;33m,\u001b[0m \u001b[0mmodule_relative\u001b[0m\u001b[1;33m,\u001b[0m \u001b[0mencoding\u001b[0m\u001b[1;33m)\u001b[0m\u001b[1;33m:\u001b[0m\u001b[1;33m\u001b[0m\u001b[1;33m\u001b[0m\u001b[0m\n",
      "\u001b[1;31mTypeError\u001b[0m: Expected a module, string, or None"
     ]
    }
   ],
   "source": [
    "import doctest\n",
    "import unittest\n",
    "import 파이썬 파일\n",
    "\n",
    "suite = unittest.TestSuite()\n",
    "suite.addTest(doctest.DocTestSuite(파이썬 파일))\n",
    "runner = unittest.TextTestRunner()\n",
    "print(runner.run(suite))"
   ]
  }
 ],
 "metadata": {
  "kernelspec": {
   "display_name": "Python 3",
   "language": "python",
   "name": "python3"
  },
  "language_info": {
   "codemirror_mode": {
    "name": "ipython",
    "version": 3
   },
   "file_extension": ".py",
   "mimetype": "text/x-python",
   "name": "python",
   "nbconvert_exporter": "python",
   "pygments_lexer": "ipython3",
   "version": "3.6.9"
  },
  "toc": {
   "base_numbering": 1,
   "nav_menu": {},
   "number_sections": true,
   "sideBar": true,
   "skip_h1_title": false,
   "title_cell": "Table of Contents",
   "title_sidebar": "Contents",
   "toc_cell": false,
   "toc_position": {},
   "toc_section_display": true,
   "toc_window_display": false
  },
  "varInspector": {
   "cols": {
    "lenName": 16,
    "lenType": 16,
    "lenVar": 40
   },
   "kernels_config": {
    "python": {
     "delete_cmd_postfix": "",
     "delete_cmd_prefix": "del ",
     "library": "var_list.py",
     "varRefreshCmd": "print(var_dic_list())"
    },
    "r": {
     "delete_cmd_postfix": ") ",
     "delete_cmd_prefix": "rm(",
     "library": "var_list.r",
     "varRefreshCmd": "cat(var_dic_list()) "
    }
   },
   "types_to_exclude": [
    "module",
    "function",
    "builtin_function_or_method",
    "instance",
    "_Feature"
   ],
   "window_display": false
  }
 },
 "nbformat": 4,
 "nbformat_minor": 2
}
