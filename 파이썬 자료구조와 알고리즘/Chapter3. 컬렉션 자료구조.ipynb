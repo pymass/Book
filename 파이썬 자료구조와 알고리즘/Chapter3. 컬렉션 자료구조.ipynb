{
 "cells": [
  {
   "cell_type": "markdown",
   "metadata": {},
   "source": [
    "# 컬렉션 자료구조 특성\n",
    "- 멤버십 연산자 : in\n",
    "- 크기 함수 : len(seq)\n",
    "- 반복성 : 반복문의 데이터를 순회한다."
   ]
  },
  {
   "cell_type": "markdown",
   "metadata": {},
   "source": [
    "# 셋 메서드"
   ]
  },
  {
   "cell_type": "markdown",
   "metadata": {},
   "source": [
    "## add()"
   ]
  },
  {
   "cell_type": "code",
   "execution_count": 1,
   "metadata": {
    "ExecuteTime": {
     "end_time": "2020-01-03T07:02:02.846150Z",
     "start_time": "2020-01-03T07:02:02.835144Z"
    }
   },
   "outputs": [
    {
     "data": {
      "text/plain": [
       "{'버피', '에인절', '윌로', '자일스'}"
      ]
     },
     "execution_count": 1,
     "metadata": {},
     "output_type": "execute_result"
    }
   ],
   "source": [
    "people = {\"버피\", \"에인절\", \"자일스\"}\n",
    "people.add(\"윌로\")\n",
    "people"
   ]
  },
  {
   "cell_type": "markdown",
   "metadata": {},
   "source": [
    "## update()와 |= 연산자"
   ]
  },
  {
   "cell_type": "code",
   "execution_count": 2,
   "metadata": {
    "ExecuteTime": {
     "end_time": "2020-01-03T07:02:51.016738Z",
     "start_time": "2020-01-03T07:02:51.010740Z"
    }
   },
   "outputs": [
    {
     "data": {
      "text/plain": [
       "{'로미오', '버피', '에인절', '자일스', '줄리엣'}"
      ]
     },
     "execution_count": 2,
     "metadata": {},
     "output_type": "execute_result"
    }
   ],
   "source": [
    "people = {\"버피\", \"에인절\", \"자일스\"}\n",
    "people.update({\"로미오\", \"줄리엣\", \"에인절\"})\n",
    "people"
   ]
  },
  {
   "cell_type": "code",
   "execution_count": 3,
   "metadata": {
    "ExecuteTime": {
     "end_time": "2020-01-03T07:03:06.665805Z",
     "start_time": "2020-01-03T07:03:06.661786Z"
    }
   },
   "outputs": [
    {
     "data": {
      "text/plain": [
       "{'로미오', '리키', '버피', '에인절', '유진', '자일스', '줄리엣'}"
      ]
     },
     "execution_count": 3,
     "metadata": {},
     "output_type": "execute_result"
    }
   ],
   "source": [
    "people |= {\"리키\", \"유진\"}\n",
    "people"
   ]
  },
  {
   "cell_type": "markdown",
   "metadata": {},
   "source": [
    "## union()과 | 연산자"
   ]
  },
  {
   "cell_type": "code",
   "execution_count": 4,
   "metadata": {
    "ExecuteTime": {
     "end_time": "2020-01-03T07:03:45.593052Z",
     "start_time": "2020-01-03T07:03:45.587017Z"
    }
   },
   "outputs": [
    {
     "data": {
      "text/plain": [
       "{'버피', '에인절', '자일스'}"
      ]
     },
     "execution_count": 4,
     "metadata": {},
     "output_type": "execute_result"
    }
   ],
   "source": [
    "people = {\"버피\", \"에인절\", \"자일스\"}\n",
    "people.union({\"로미오\", \"줄리엣\"})\n",
    "people"
   ]
  },
  {
   "cell_type": "code",
   "execution_count": 5,
   "metadata": {
    "ExecuteTime": {
     "end_time": "2020-01-03T07:03:53.243246Z",
     "start_time": "2020-01-03T07:03:53.239245Z"
    }
   },
   "outputs": [
    {
     "data": {
      "text/plain": [
       "{'버피', '브라이언', '에인절', '자일스'}"
      ]
     },
     "execution_count": 5,
     "metadata": {},
     "output_type": "execute_result"
    }
   ],
   "source": [
    "people | {\"브라이언\"}"
   ]
  },
  {
   "cell_type": "markdown",
   "metadata": {},
   "source": [
    "## intersection()과 & 연산자"
   ]
  },
  {
   "cell_type": "code",
   "execution_count": 6,
   "metadata": {
    "ExecuteTime": {
     "end_time": "2020-01-03T07:04:33.093068Z",
     "start_time": "2020-01-03T07:04:33.087031Z"
    }
   },
   "outputs": [
    {
     "data": {
      "text/plain": [
       "{'에인절', '자일스'}"
      ]
     },
     "execution_count": 6,
     "metadata": {},
     "output_type": "execute_result"
    }
   ],
   "source": [
    "people = {\"버피\", \"에인절\", \"자일스\", \"이안\"}\n",
    "vampires = {\"에인절\", \"자일스\", \"윌로\"}\n",
    "people.intersection(vampires)"
   ]
  },
  {
   "cell_type": "code",
   "execution_count": 7,
   "metadata": {
    "ExecuteTime": {
     "end_time": "2020-01-03T07:04:39.320002Z",
     "start_time": "2020-01-03T07:04:39.314966Z"
    }
   },
   "outputs": [
    {
     "data": {
      "text/plain": [
       "{'에인절', '자일스'}"
      ]
     },
     "execution_count": 7,
     "metadata": {},
     "output_type": "execute_result"
    }
   ],
   "source": [
    "people & vampires"
   ]
  },
  {
   "cell_type": "markdown",
   "metadata": {},
   "source": [
    "## difference()와 - 연산자"
   ]
  },
  {
   "cell_type": "code",
   "execution_count": 8,
   "metadata": {
    "ExecuteTime": {
     "end_time": "2020-01-03T07:05:20.008005Z",
     "start_time": "2020-01-03T07:05:20.003041Z"
    }
   },
   "outputs": [
    {
     "data": {
      "text/plain": [
       "{'버피', '아영', '자일스'}"
      ]
     },
     "execution_count": 8,
     "metadata": {},
     "output_type": "execute_result"
    }
   ],
   "source": [
    "people = {\"버피\", \"에인절\", \"자일스\", \"아영\"}\n",
    "vampires = {\"스파이크\", \"에인절\", \"상민\"}\n",
    "people.difference(vampires)"
   ]
  },
  {
   "cell_type": "code",
   "execution_count": 9,
   "metadata": {
    "ExecuteTime": {
     "end_time": "2020-01-03T07:05:24.415390Z",
     "start_time": "2020-01-03T07:05:24.411369Z"
    }
   },
   "outputs": [
    {
     "data": {
      "text/plain": [
       "{'버피', '아영', '자일스'}"
      ]
     },
     "execution_count": 9,
     "metadata": {},
     "output_type": "execute_result"
    }
   ],
   "source": [
    "people - vampires"
   ]
  },
  {
   "cell_type": "markdown",
   "metadata": {},
   "source": [
    "## clear()"
   ]
  },
  {
   "cell_type": "code",
   "execution_count": 10,
   "metadata": {
    "ExecuteTime": {
     "end_time": "2020-01-03T07:05:40.542133Z",
     "start_time": "2020-01-03T07:05:40.536134Z"
    }
   },
   "outputs": [
    {
     "data": {
      "text/plain": [
       "set()"
      ]
     },
     "execution_count": 10,
     "metadata": {},
     "output_type": "execute_result"
    }
   ],
   "source": [
    "people = {\"버피\", \"에인절\", \"자일스\"}\n",
    "people.clear()\n",
    "people"
   ]
  },
  {
   "cell_type": "markdown",
   "metadata": {},
   "source": [
    "## discard(), remove(), pop()"
   ]
  },
  {
   "cell_type": "code",
   "execution_count": 11,
   "metadata": {
    "ExecuteTime": {
     "end_time": "2020-01-03T07:06:35.635081Z",
     "start_time": "2020-01-03T07:06:35.631081Z"
    }
   },
   "outputs": [],
   "source": [
    "countries = {\"프랑스\", \"스페인\", \"영국\"}\n",
    "countries.discard(\"한국\")"
   ]
  },
  {
   "cell_type": "code",
   "execution_count": 12,
   "metadata": {
    "ExecuteTime": {
     "end_time": "2020-01-03T07:06:41.750520Z",
     "start_time": "2020-01-03T07:06:41.697480Z"
    }
   },
   "outputs": [
    {
     "ename": "KeyError",
     "evalue": "'일본'",
     "output_type": "error",
     "traceback": [
      "\u001b[1;31m---------------------------------------------------------------------------\u001b[0m",
      "\u001b[1;31mKeyError\u001b[0m                                  Traceback (most recent call last)",
      "\u001b[1;32m<ipython-input-12-8a3602d3d316>\u001b[0m in \u001b[0;36m<module>\u001b[1;34m\u001b[0m\n\u001b[1;32m----> 1\u001b[1;33m \u001b[0mcountries\u001b[0m\u001b[1;33m.\u001b[0m\u001b[0mremove\u001b[0m\u001b[1;33m(\u001b[0m\u001b[1;34m\"일본\"\u001b[0m\u001b[1;33m)\u001b[0m\u001b[1;33m\u001b[0m\u001b[1;33m\u001b[0m\u001b[0m\n\u001b[0m",
      "\u001b[1;31mKeyError\u001b[0m: '일본'"
     ]
    }
   ],
   "source": [
    "countries.remove(\"일본\")"
   ]
  },
  {
   "cell_type": "code",
   "execution_count": 13,
   "metadata": {
    "ExecuteTime": {
     "end_time": "2020-01-03T07:06:48.518744Z",
     "start_time": "2020-01-03T07:06:48.514740Z"
    }
   },
   "outputs": [
    {
     "data": {
      "text/plain": [
       "'프랑스'"
      ]
     },
     "execution_count": 13,
     "metadata": {},
     "output_type": "execute_result"
    }
   ],
   "source": [
    "countries.pop()"
   ]
  },
  {
   "cell_type": "code",
   "execution_count": 14,
   "metadata": {
    "ExecuteTime": {
     "end_time": "2020-01-03T07:06:55.778257Z",
     "start_time": "2020-01-03T07:06:55.774224Z"
    }
   },
   "outputs": [],
   "source": [
    "countries.discard(\"스페인\")"
   ]
  },
  {
   "cell_type": "code",
   "execution_count": 15,
   "metadata": {
    "ExecuteTime": {
     "end_time": "2020-01-03T07:07:01.835576Z",
     "start_time": "2020-01-03T07:07:01.831576Z"
    }
   },
   "outputs": [],
   "source": [
    "countries.remove(\"영국\")"
   ]
  },
  {
   "cell_type": "code",
   "execution_count": 16,
   "metadata": {
    "ExecuteTime": {
     "end_time": "2020-01-03T07:07:06.724773Z",
     "start_time": "2020-01-03T07:07:06.715779Z"
    }
   },
   "outputs": [
    {
     "ename": "KeyError",
     "evalue": "'pop from an empty set'",
     "output_type": "error",
     "traceback": [
      "\u001b[1;31m---------------------------------------------------------------------------\u001b[0m",
      "\u001b[1;31mKeyError\u001b[0m                                  Traceback (most recent call last)",
      "\u001b[1;32m<ipython-input-16-23bea1de7243>\u001b[0m in \u001b[0;36m<module>\u001b[1;34m\u001b[0m\n\u001b[1;32m----> 1\u001b[1;33m \u001b[0mcountries\u001b[0m\u001b[1;33m.\u001b[0m\u001b[0mpop\u001b[0m\u001b[1;33m(\u001b[0m\u001b[1;33m)\u001b[0m\u001b[1;33m\u001b[0m\u001b[1;33m\u001b[0m\u001b[0m\n\u001b[0m",
      "\u001b[1;31mKeyError\u001b[0m: 'pop from an empty set'"
     ]
    }
   ],
   "source": [
    "countries.pop()"
   ]
  },
  {
   "cell_type": "markdown",
   "metadata": {},
   "source": [
    "## 셋과 리스트"
   ]
  },
  {
   "cell_type": "code",
   "execution_count": 17,
   "metadata": {
    "ExecuteTime": {
     "end_time": "2020-01-03T07:11:01.213882Z",
     "start_time": "2020-01-03T07:11:01.206908Z"
    }
   },
   "outputs": [],
   "source": [
    "def remove_dup(l1):\n",
    "    # 리스트의 중복된 항목을 제거한 후 반환\n",
    "    return list(set(l1))\n",
    "\n",
    "def intersection(l1, l2):\n",
    "    # 교집합 결과를 반환\n",
    "    return list(set(l1) & set(l2))\n",
    "\n",
    "def union(l1, l2):\n",
    "    # 합집합 결과를 반환\n",
    "    return list(set(l1) | set(l2))\n",
    "\n",
    "def test_sets_operations_with_list():\n",
    "    l1 = [1,2,3,4,5,5,9,11,11,15]\n",
    "    l2 = [4,5,6,7,8]\n",
    "    l3 = []\n",
    "    assert(remove_dup(l1) == [1,2,3,4,5,9,11,15])\n",
    "    assert(intersection(l1, l2) == [4,5])\n",
    "    assert(union(l1, l2) == [1,2,3,4,5,6,7,8,9,11,15])\n",
    "    assert(remove_dup(l3) == [])\n",
    "    assert(intersection(l3, l2) == l3)\n",
    "    assert(sorted(union(l3, l2)) == sorted(l2))\n",
    "    print('테스트 통과!')"
   ]
  },
  {
   "cell_type": "code",
   "execution_count": 18,
   "metadata": {
    "ExecuteTime": {
     "end_time": "2020-01-03T07:11:04.031385Z",
     "start_time": "2020-01-03T07:11:04.028414Z"
    }
   },
   "outputs": [
    {
     "name": "stdout",
     "output_type": "stream",
     "text": [
      "테스트 통과!\n"
     ]
    }
   ],
   "source": [
    "test_sets_operations_with_list()"
   ]
  },
  {
   "cell_type": "code",
   "execution_count": 20,
   "metadata": {
    "ExecuteTime": {
     "end_time": "2020-01-03T07:23:44.591259Z",
     "start_time": "2020-01-03T07:23:44.584288Z"
    }
   },
   "outputs": [],
   "source": [
    "def set_operations_with_dict():\n",
    "    pairs = [(\"a\", 1), (\"b\", 2), (\"c\", 3)]\n",
    "    d1 = dict(pairs)\n",
    "    print(\"딕셔너리1\\t: {0}\".format(d1))\n",
    "    \n",
    "    d2 = {\"a\":1, \"c\":2, \"d\":3, \"e\":4}\n",
    "    print(\"딕셔너리2\\t: {0}\".format(d2))\n",
    "    \n",
    "    intersection = d1.keys() & d2.keys()\n",
    "    print(\"d1 ∩ d2 (키)\\t: {0}\".format(intersection))\n",
    "    \n",
    "    intersection_items = d1.items() & d2.items()\n",
    "    print(\"d1 ∩ d2 (키,값)\\t: {0}\".format(intersection_items))\n",
    "    \n",
    "    subtraction1 = d1.keys() - d2.keys()\n",
    "    print(\"d1 - d2 (키)\\t: {0}\".format(subtraction1))\n",
    "    \n",
    "    subtraction2 = d2.keys() - d1.keys()\n",
    "    print(\"d2 - d1 (키)\\t: {0}\".format(subtraction2))\n",
    "    \n",
    "    subtraction_items = d1.items() - d2.items()\n",
    "    print(\"d1 - d2 (키, 값)\\t: {0}\".format(subtraction_items))\n",
    "    \n",
    "    # 딕셔너리의 특정 키를 제외한다.\n",
    "    d3 = {key: d2[key] for key in d2.keys() - {\"c\", \"d\"}}\n",
    "    print(\"d2 - {{c, d}}\\t: {0}\".format(d3))"
   ]
  },
  {
   "cell_type": "code",
   "execution_count": 22,
   "metadata": {
    "ExecuteTime": {
     "end_time": "2020-01-03T07:23:53.271199Z",
     "start_time": "2020-01-03T07:23:53.266195Z"
    }
   },
   "outputs": [
    {
     "name": "stdout",
     "output_type": "stream",
     "text": [
      "딕셔너리1\t: {'a': 1, 'b': 2, 'c': 3}\n",
      "딕셔너리2\t: {'a': 1, 'c': 2, 'd': 3, 'e': 4}\n",
      "d1 ∩ d2 (키)\t: {'c', 'a'}\n",
      "d1 ∩ d2 (키,값)\t: {('a', 1)}\n",
      "d1 - d2 (키)\t: {'b'}\n",
      "d2 - d1 (키)\t: {'e', 'd'}\n",
      "d1 - d2 (키, 값)\t: {('c', 3), ('b', 2)}\n",
      "d2 - {c, d}\t: {'e': 4, 'a': 1}\n"
     ]
    }
   ],
   "source": [
    "set_operations_with_dict()"
   ]
  },
  {
   "cell_type": "markdown",
   "metadata": {},
   "source": [
    "# 딕셔너리 메서드"
   ]
  },
  {
   "cell_type": "markdown",
   "metadata": {},
   "source": [
    "## setdefault()"
   ]
  },
  {
   "cell_type": "code",
   "execution_count": 23,
   "metadata": {
    "ExecuteTime": {
     "end_time": "2020-01-03T07:29:44.864652Z",
     "start_time": "2020-01-03T07:29:44.858622Z"
    }
   },
   "outputs": [],
   "source": [
    "def usual_dict(dict_data):\n",
    "    # dict[key] 사용\n",
    "    newdata = {}\n",
    "    for k, v in dict_data:\n",
    "        if k in newdata:\n",
    "            newdata[k].append(v)\n",
    "        else:\n",
    "            newdata[k] = [v]\n",
    "    return newdata\n",
    "\n",
    "def setdefault_dict(dict_data):\n",
    "    # setdefault() 메서드 사용\n",
    "    newdata = {}\n",
    "    for k, v in dict_data:\n",
    "        newdata.setdefault(k, []).append(v)\n",
    "    return newdata\n",
    "\n",
    "def test_setdef():\n",
    "    dict_data = ((\"key1\", \"value1\"),\n",
    "                (\"key1\", \"value2\"),\n",
    "                (\"key2\", \"value3\"),\n",
    "                (\"key2\", \"value4\"),\n",
    "                (\"key2\", \"value5\"))\n",
    "    print(usual_dict(dict_data))\n",
    "    print(setdefault_dict(dict_data))"
   ]
  },
  {
   "cell_type": "code",
   "execution_count": 24,
   "metadata": {
    "ExecuteTime": {
     "end_time": "2020-01-03T07:29:47.421719Z",
     "start_time": "2020-01-03T07:29:47.417741Z"
    }
   },
   "outputs": [
    {
     "name": "stdout",
     "output_type": "stream",
     "text": [
      "{'key1': ['value1', 'value2'], 'key2': ['value3', 'value4', 'value5']}\n",
      "{'key1': ['value1', 'value2'], 'key2': ['value3', 'value4', 'value5']}\n"
     ]
    }
   ],
   "source": [
    "test_setdef()"
   ]
  },
  {
   "cell_type": "markdown",
   "metadata": {},
   "source": [
    "## update()"
   ]
  },
  {
   "cell_type": "code",
   "execution_count": 25,
   "metadata": {
    "ExecuteTime": {
     "end_time": "2020-01-03T07:30:37.161062Z",
     "start_time": "2020-01-03T07:30:37.155105Z"
    }
   },
   "outputs": [
    {
     "data": {
      "text/plain": [
       "{'a': 1, 'b': 10}"
      ]
     },
     "execution_count": 25,
     "metadata": {},
     "output_type": "execute_result"
    }
   ],
   "source": [
    "d = {'a' : 1, 'b' : 2}\n",
    "d.update({'b':10})\n",
    "d"
   ]
  },
  {
   "cell_type": "code",
   "execution_count": 26,
   "metadata": {
    "ExecuteTime": {
     "end_time": "2020-01-03T07:30:54.548641Z",
     "start_time": "2020-01-03T07:30:54.543682Z"
    }
   },
   "outputs": [
    {
     "data": {
      "text/plain": [
       "{'a': 1, 'b': 10, 'c': 100}"
      ]
     },
     "execution_count": 26,
     "metadata": {},
     "output_type": "execute_result"
    }
   ],
   "source": [
    "d.update({'c':100})\n",
    "d"
   ]
  },
  {
   "cell_type": "markdown",
   "metadata": {},
   "source": [
    "## get()"
   ]
  },
  {
   "cell_type": "code",
   "execution_count": 27,
   "metadata": {
    "ExecuteTime": {
     "end_time": "2020-01-03T07:31:27.518124Z",
     "start_time": "2020-01-03T07:31:27.512079Z"
    }
   },
   "outputs": [
    {
     "data": {
      "text/plain": [
       "'게임'"
      ]
     },
     "execution_count": 27,
     "metadata": {},
     "output_type": "execute_result"
    }
   ],
   "source": [
    "sunnydale = dict(name=\"잰더\", age=17, hobby=\"게임\")\n",
    "sunnydale.get(\"hobby\")"
   ]
  },
  {
   "cell_type": "code",
   "execution_count": 28,
   "metadata": {
    "ExecuteTime": {
     "end_time": "2020-01-03T07:31:33.862378Z",
     "start_time": "2020-01-03T07:31:33.856358Z"
    }
   },
   "outputs": [
    {
     "data": {
      "text/plain": [
       "'게임'"
      ]
     },
     "execution_count": 28,
     "metadata": {},
     "output_type": "execute_result"
    }
   ],
   "source": [
    "sunnydale['hobby']"
   ]
  },
  {
   "cell_type": "code",
   "execution_count": 29,
   "metadata": {
    "ExecuteTime": {
     "end_time": "2020-01-03T07:31:40.456268Z",
     "start_time": "2020-01-03T07:31:40.453301Z"
    }
   },
   "outputs": [],
   "source": [
    "sunnydale.get('hello') # 값이 없으면 아무것도 반환하지 않는다"
   ]
  },
  {
   "cell_type": "code",
   "execution_count": 30,
   "metadata": {
    "ExecuteTime": {
     "end_time": "2020-01-03T07:31:49.507366Z",
     "start_time": "2020-01-03T07:31:49.498365Z"
    }
   },
   "outputs": [
    {
     "ename": "KeyError",
     "evalue": "'hello'",
     "output_type": "error",
     "traceback": [
      "\u001b[1;31m---------------------------------------------------------------------------\u001b[0m",
      "\u001b[1;31mKeyError\u001b[0m                                  Traceback (most recent call last)",
      "\u001b[1;32m<ipython-input-30-071d426af1b5>\u001b[0m in \u001b[0;36m<module>\u001b[1;34m\u001b[0m\n\u001b[1;32m----> 1\u001b[1;33m \u001b[0msunnydale\u001b[0m\u001b[1;33m[\u001b[0m\u001b[1;34m'hello'\u001b[0m\u001b[1;33m]\u001b[0m\u001b[1;33m\u001b[0m\u001b[1;33m\u001b[0m\u001b[0m\n\u001b[0m",
      "\u001b[1;31mKeyError\u001b[0m: 'hello'"
     ]
    }
   ],
   "source": [
    "sunnydale['hello']"
   ]
  },
  {
   "cell_type": "markdown",
   "metadata": {},
   "source": [
    "## items(), values(), keys()"
   ]
  },
  {
   "cell_type": "code",
   "execution_count": 31,
   "metadata": {
    "ExecuteTime": {
     "end_time": "2020-01-03T07:32:47.508533Z",
     "start_time": "2020-01-03T07:32:47.504530Z"
    }
   },
   "outputs": [
    {
     "data": {
      "text/plain": [
       "dict_items([('name', '잰더'), ('age', 17), ('hobby', '게임')])"
      ]
     },
     "execution_count": 31,
     "metadata": {},
     "output_type": "execute_result"
    }
   ],
   "source": [
    "sunnydale = dict(name=\"잰더\", age=17, hobby=\"게임\")\n",
    "sunnydale.items()"
   ]
  },
  {
   "cell_type": "code",
   "execution_count": 32,
   "metadata": {
    "ExecuteTime": {
     "end_time": "2020-01-03T07:32:58.423140Z",
     "start_time": "2020-01-03T07:32:58.419141Z"
    }
   },
   "outputs": [
    {
     "data": {
      "text/plain": [
       "dict_values(['잰더', 17, '게임'])"
      ]
     },
     "execution_count": 32,
     "metadata": {},
     "output_type": "execute_result"
    }
   ],
   "source": [
    "sunnydale.values()"
   ]
  },
  {
   "cell_type": "code",
   "execution_count": 33,
   "metadata": {
    "ExecuteTime": {
     "end_time": "2020-01-03T07:33:03.927056Z",
     "start_time": "2020-01-03T07:33:03.923093Z"
    }
   },
   "outputs": [
    {
     "data": {
      "text/plain": [
       "dict_keys(['name', 'age', 'hobby'])"
      ]
     },
     "execution_count": 33,
     "metadata": {},
     "output_type": "execute_result"
    }
   ],
   "source": [
    "sunnydale.keys()"
   ]
  },
  {
   "cell_type": "code",
   "execution_count": 34,
   "metadata": {
    "ExecuteTime": {
     "end_time": "2020-01-03T07:33:21.334072Z",
     "start_time": "2020-01-03T07:33:21.331042Z"
    }
   },
   "outputs": [],
   "source": [
    "sunnydale_copy = sunnydale.items()"
   ]
  },
  {
   "cell_type": "code",
   "execution_count": 35,
   "metadata": {
    "ExecuteTime": {
     "end_time": "2020-01-03T07:33:32.965117Z",
     "start_time": "2020-01-03T07:33:32.957116Z"
    }
   },
   "outputs": [
    {
     "ename": "TypeError",
     "evalue": "'dict_items' object does not support item assignment",
     "output_type": "error",
     "traceback": [
      "\u001b[1;31m---------------------------------------------------------------------------\u001b[0m",
      "\u001b[1;31mTypeError\u001b[0m                                 Traceback (most recent call last)",
      "\u001b[1;32m<ipython-input-35-dc49e79e3512>\u001b[0m in \u001b[0;36m<module>\u001b[1;34m\u001b[0m\n\u001b[1;32m----> 1\u001b[1;33m \u001b[0msunnydale_copy\u001b[0m\u001b[1;33m[\u001b[0m\u001b[1;34m'address'\u001b[0m\u001b[1;33m]\u001b[0m \u001b[1;33m=\u001b[0m \u001b[1;34m'서울'\u001b[0m\u001b[1;33m\u001b[0m\u001b[1;33m\u001b[0m\u001b[0m\n\u001b[0m",
      "\u001b[1;31mTypeError\u001b[0m: 'dict_items' object does not support item assignment"
     ]
    }
   ],
   "source": [
    "sunnydale_copy['address'] = '서울'"
   ]
  },
  {
   "cell_type": "code",
   "execution_count": 36,
   "metadata": {
    "ExecuteTime": {
     "end_time": "2020-01-03T07:33:48.532353Z",
     "start_time": "2020-01-03T07:33:48.527386Z"
    }
   },
   "outputs": [
    {
     "data": {
      "text/plain": [
       "{'name': '잰더', 'age': 17, 'hobby': '게임', 'address': '서울'}"
      ]
     },
     "execution_count": 36,
     "metadata": {},
     "output_type": "execute_result"
    }
   ],
   "source": [
    "sunnydale['address'] = \"서울\"\n",
    "sunnydale"
   ]
  },
  {
   "cell_type": "markdown",
   "metadata": {},
   "source": [
    "## pop(), popitem()"
   ]
  },
  {
   "cell_type": "code",
   "execution_count": 37,
   "metadata": {
    "ExecuteTime": {
     "end_time": "2020-01-03T07:34:12.326140Z",
     "start_time": "2020-01-03T07:34:12.320107Z"
    }
   },
   "outputs": [
    {
     "data": {
      "text/plain": [
       "17"
      ]
     },
     "execution_count": 37,
     "metadata": {},
     "output_type": "execute_result"
    }
   ],
   "source": [
    "sunnydale = dict(name=\"잰더\", age=17, hobby=\"게임\", address=\"서울\")\n",
    "sunnydale.pop(\"age\")"
   ]
  },
  {
   "cell_type": "code",
   "execution_count": 38,
   "metadata": {
    "ExecuteTime": {
     "end_time": "2020-01-03T07:34:16.753523Z",
     "start_time": "2020-01-03T07:34:16.749507Z"
    }
   },
   "outputs": [
    {
     "data": {
      "text/plain": [
       "{'name': '잰더', 'hobby': '게임', 'address': '서울'}"
      ]
     },
     "execution_count": 38,
     "metadata": {},
     "output_type": "execute_result"
    }
   ],
   "source": [
    "sunnydale"
   ]
  },
  {
   "cell_type": "code",
   "execution_count": 39,
   "metadata": {
    "ExecuteTime": {
     "end_time": "2020-01-03T07:34:25.377707Z",
     "start_time": "2020-01-03T07:34:25.372724Z"
    }
   },
   "outputs": [
    {
     "data": {
      "text/plain": [
       "('address', '서울')"
      ]
     },
     "execution_count": 39,
     "metadata": {},
     "output_type": "execute_result"
    }
   ],
   "source": [
    "sunnydale.popitem()"
   ]
  },
  {
   "cell_type": "code",
   "execution_count": 40,
   "metadata": {
    "ExecuteTime": {
     "end_time": "2020-01-03T07:34:28.897386Z",
     "start_time": "2020-01-03T07:34:28.893383Z"
    }
   },
   "outputs": [
    {
     "data": {
      "text/plain": [
       "{'name': '잰더', 'hobby': '게임'}"
      ]
     },
     "execution_count": 40,
     "metadata": {},
     "output_type": "execute_result"
    }
   ],
   "source": [
    "sunnydale"
   ]
  },
  {
   "cell_type": "markdown",
   "metadata": {},
   "source": [
    "## clear()"
   ]
  },
  {
   "cell_type": "code",
   "execution_count": 41,
   "metadata": {
    "ExecuteTime": {
     "end_time": "2020-01-03T07:34:58.794439Z",
     "start_time": "2020-01-03T07:34:58.789446Z"
    }
   },
   "outputs": [
    {
     "data": {
      "text/plain": [
       "{}"
      ]
     },
     "execution_count": 41,
     "metadata": {},
     "output_type": "execute_result"
    }
   ],
   "source": [
    "sunnydale.clear()\n",
    "sunnydale"
   ]
  },
  {
   "cell_type": "markdown",
   "metadata": {},
   "source": [
    "## 딕셔너리 성능 측정"
   ]
  },
  {
   "cell_type": "code",
   "execution_count": 42,
   "metadata": {
    "ExecuteTime": {
     "end_time": "2020-01-03T07:38:03.441556Z",
     "start_time": "2020-01-03T07:37:09.374517Z"
    },
    "scrolled": true
   },
   "outputs": [
    {
     "name": "stdout",
     "output_type": "stream",
     "text": [
      "10000,     0.051,     0.001\n",
      "30000,     0.150,     0.001\n",
      "50000,     0.263,     0.001\n",
      "70000,     0.356,     0.001\n",
      "90000,     0.475,     0.002\n",
      "110000,     0.582,     0.001\n",
      "130000,     0.668,     0.001\n",
      "150000,     0.789,     0.001\n",
      "170000,     0.882,     0.001\n",
      "190000,     0.977,     0.001\n",
      "210000,     1.062,     0.001\n",
      "230000,     1.165,     0.001\n",
      "250000,     1.274,     0.001\n",
      "270000,     1.405,     0.001\n",
      "290000,     1.518,     0.001\n",
      "310000,     1.613,     0.001\n",
      "330000,     1.721,     0.001\n",
      "350000,     1.875,     0.001\n",
      "370000,     1.940,     0.001\n",
      "390000,     2.043,     0.001\n",
      "410000,     2.127,     0.001\n",
      "430000,     2.266,     0.001\n",
      "450000,     2.400,     0.001\n",
      "470000,     2.594,     0.001\n",
      "490000,     2.543,     0.001\n",
      "510000,     2.708,     0.001\n",
      "530000,     2.759,     0.001\n",
      "550000,     3.001,     0.001\n",
      "570000,     3.033,     0.001\n",
      "590000,     3.150,     0.001\n",
      "610000,     3.232,     0.001\n"
     ]
    },
    {
     "ename": "KeyboardInterrupt",
     "evalue": "",
     "output_type": "error",
     "traceback": [
      "\u001b[1;31m---------------------------------------------------------------------------\u001b[0m",
      "\u001b[1;31mKeyboardInterrupt\u001b[0m                         Traceback (most recent call last)",
      "\u001b[1;32m<ipython-input-42-f0baf51ce03c>\u001b[0m in \u001b[0;36m<module>\u001b[1;34m\u001b[0m\n\u001b[0;32m      6\u001b[0m                     \"from __main__ import random, x\")\n\u001b[0;32m      7\u001b[0m     \u001b[0mx\u001b[0m \u001b[1;33m=\u001b[0m \u001b[0mlist\u001b[0m\u001b[1;33m(\u001b[0m\u001b[0mrange\u001b[0m\u001b[1;33m(\u001b[0m\u001b[0mi\u001b[0m\u001b[1;33m)\u001b[0m\u001b[1;33m)\u001b[0m \u001b[1;31m# 리스트\u001b[0m\u001b[1;33m\u001b[0m\u001b[1;33m\u001b[0m\u001b[0m\n\u001b[1;32m----> 8\u001b[1;33m     \u001b[0mlst_time\u001b[0m \u001b[1;33m=\u001b[0m \u001b[0mt\u001b[0m\u001b[1;33m.\u001b[0m\u001b[0mtimeit\u001b[0m\u001b[1;33m(\u001b[0m\u001b[0mnumber\u001b[0m\u001b[1;33m=\u001b[0m\u001b[1;36m1000\u001b[0m\u001b[1;33m)\u001b[0m\u001b[1;33m\u001b[0m\u001b[1;33m\u001b[0m\u001b[0m\n\u001b[0m\u001b[0;32m      9\u001b[0m     \u001b[0mx\u001b[0m \u001b[1;33m=\u001b[0m \u001b[1;33m{\u001b[0m\u001b[0mj\u001b[0m\u001b[1;33m:\u001b[0m \u001b[1;32mNone\u001b[0m \u001b[1;32mfor\u001b[0m \u001b[0mj\u001b[0m \u001b[1;32min\u001b[0m \u001b[0mrange\u001b[0m\u001b[1;33m(\u001b[0m\u001b[0mi\u001b[0m\u001b[1;33m)\u001b[0m\u001b[1;33m}\u001b[0m \u001b[1;31m# 딕셔너리\u001b[0m\u001b[1;33m\u001b[0m\u001b[1;33m\u001b[0m\u001b[0m\n\u001b[0;32m     10\u001b[0m     \u001b[0md_time\u001b[0m \u001b[1;33m=\u001b[0m \u001b[0mt\u001b[0m\u001b[1;33m.\u001b[0m\u001b[0mtimeit\u001b[0m\u001b[1;33m(\u001b[0m\u001b[0mnumber\u001b[0m\u001b[1;33m=\u001b[0m\u001b[1;36m1000\u001b[0m\u001b[1;33m)\u001b[0m\u001b[1;33m\u001b[0m\u001b[1;33m\u001b[0m\u001b[0m\n",
      "\u001b[1;32m~\\.conda\\envs\\multicampus\\lib\\timeit.py\u001b[0m in \u001b[0;36mtimeit\u001b[1;34m(self, number)\u001b[0m\n\u001b[0;32m    176\u001b[0m         \u001b[0mgc\u001b[0m\u001b[1;33m.\u001b[0m\u001b[0mdisable\u001b[0m\u001b[1;33m(\u001b[0m\u001b[1;33m)\u001b[0m\u001b[1;33m\u001b[0m\u001b[1;33m\u001b[0m\u001b[0m\n\u001b[0;32m    177\u001b[0m         \u001b[1;32mtry\u001b[0m\u001b[1;33m:\u001b[0m\u001b[1;33m\u001b[0m\u001b[1;33m\u001b[0m\u001b[0m\n\u001b[1;32m--> 178\u001b[1;33m             \u001b[0mtiming\u001b[0m \u001b[1;33m=\u001b[0m \u001b[0mself\u001b[0m\u001b[1;33m.\u001b[0m\u001b[0minner\u001b[0m\u001b[1;33m(\u001b[0m\u001b[0mit\u001b[0m\u001b[1;33m,\u001b[0m \u001b[0mself\u001b[0m\u001b[1;33m.\u001b[0m\u001b[0mtimer\u001b[0m\u001b[1;33m)\u001b[0m\u001b[1;33m\u001b[0m\u001b[1;33m\u001b[0m\u001b[0m\n\u001b[0m\u001b[0;32m    179\u001b[0m         \u001b[1;32mfinally\u001b[0m\u001b[1;33m:\u001b[0m\u001b[1;33m\u001b[0m\u001b[1;33m\u001b[0m\u001b[0m\n\u001b[0;32m    180\u001b[0m             \u001b[1;32mif\u001b[0m \u001b[0mgcold\u001b[0m\u001b[1;33m:\u001b[0m\u001b[1;33m\u001b[0m\u001b[1;33m\u001b[0m\u001b[0m\n",
      "\u001b[1;32m~\\.conda\\envs\\multicampus\\lib\\timeit.py\u001b[0m in \u001b[0;36minner\u001b[1;34m(_it, _timer)\u001b[0m\n",
      "\u001b[1;31mKeyboardInterrupt\u001b[0m: "
     ]
    }
   ],
   "source": [
    "import timeit\n",
    "import random\n",
    "\n",
    "for i in range(10000, 1000001, 20000):\n",
    "    t = timeit.Timer(\"random.randrange(%d) in x\" % i,\n",
    "                    \"from __main__ import random, x\")\n",
    "    x = list(range(i)) # 리스트\n",
    "    lst_time = t.timeit(number=1000)\n",
    "    x = {j: None for j in range(i)} # 딕셔너리\n",
    "    d_time = t.timeit(number=1000)\n",
    "    print(\"%d,%10.3f,%10.3f\" % (i, lst_time, d_time))"
   ]
  },
  {
   "cell_type": "markdown",
   "metadata": {},
   "source": [
    "## 딕셔너리 순회"
   ]
  },
  {
   "cell_type": "code",
   "execution_count": 43,
   "metadata": {
    "ExecuteTime": {
     "end_time": "2020-01-03T07:43:02.814331Z",
     "start_time": "2020-01-03T07:43:02.810334Z"
    }
   },
   "outputs": [
    {
     "name": "stdout",
     "output_type": "stream",
     "text": [
      "a hello\n",
      "b world\n",
      "c !\n"
     ]
    }
   ],
   "source": [
    "d = dict(c=\"!\", b=\"world\", a=\"hello\")\n",
    "for key in sorted(d.keys()):\n",
    "    print(key, d[key])"
   ]
  },
  {
   "cell_type": "markdown",
   "metadata": {},
   "source": [
    "## 딕셔너리 분기"
   ]
  },
  {
   "cell_type": "code",
   "execution_count": 44,
   "metadata": {
    "ExecuteTime": {
     "end_time": "2020-01-03T07:44:34.646981Z",
     "start_time": "2020-01-03T07:44:34.641995Z"
    }
   },
   "outputs": [
    {
     "name": "stdout",
     "output_type": "stream",
     "text": [
      "hello\n"
     ]
    }
   ],
   "source": [
    "def hello():\n",
    "    print(\"hello\")\n",
    "    \n",
    "def world():\n",
    "    print(\"world\")\n",
    "\n",
    "action = \"h\"\n",
    "functions = dict(h=hello, w=world)\n",
    "functions[action]()"
   ]
  },
  {
   "cell_type": "markdown",
   "metadata": {},
   "source": [
    "# 파이썬 컬렉션 데이터 타입"
   ]
  },
  {
   "cell_type": "markdown",
   "metadata": {},
   "source": [
    "## 기본 딕셔너리"
   ]
  },
  {
   "cell_type": "code",
   "execution_count": 45,
   "metadata": {
    "ExecuteTime": {
     "end_time": "2020-01-03T07:46:53.294030Z",
     "start_time": "2020-01-03T07:46:53.289035Z"
    }
   },
   "outputs": [],
   "source": [
    "from collections import defaultdict\n",
    "\n",
    "def defaultdict_example():\n",
    "    pairs = {(\"a\", 1), (\"b\", 2), (\"c\", 3)}\n",
    "    \n",
    "    # 일반 딕셔너리\n",
    "    d1 = {}\n",
    "    for key, value in pairs:\n",
    "        if key not in d1:\n",
    "            d1[key] = []\n",
    "        d1[key].append(value)\n",
    "    print(d1)\n",
    "    \n",
    "    # defalutdict\n",
    "    d2 = defaultdict(list)\n",
    "    for key, value in pairs:\n",
    "        d2[key].append(value)\n",
    "    print(d2)"
   ]
  },
  {
   "cell_type": "code",
   "execution_count": 46,
   "metadata": {
    "ExecuteTime": {
     "end_time": "2020-01-03T07:46:57.562099Z",
     "start_time": "2020-01-03T07:46:57.557102Z"
    }
   },
   "outputs": [
    {
     "name": "stdout",
     "output_type": "stream",
     "text": [
      "{'c': [3], 'b': [2], 'a': [1]}\n",
      "defaultdict(<class 'list'>, {'c': [3], 'b': [2], 'a': [1]})\n"
     ]
    }
   ],
   "source": [
    "defaultdict_example()"
   ]
  },
  {
   "cell_type": "markdown",
   "metadata": {},
   "source": [
    "## 정렬된 딕셔너리"
   ]
  },
  {
   "cell_type": "code",
   "execution_count": 47,
   "metadata": {
    "ExecuteTime": {
     "end_time": "2020-01-03T07:47:52.756584Z",
     "start_time": "2020-01-03T07:47:52.750571Z"
    }
   },
   "outputs": [
    {
     "data": {
      "text/plain": [
       "OrderedDict([(8031, '백업'), (4027, '이메일 스캔'), (5733, '시스템 빌드')])"
      ]
     },
     "execution_count": 47,
     "metadata": {},
     "output_type": "execute_result"
    }
   ],
   "source": [
    "from collections import OrderedDict\n",
    "tasks = OrderedDict()\n",
    "tasks[8031] = \"백업\"\n",
    "tasks[4027] = \"이메일 스캔\"\n",
    "tasks[5733] = \"시스템 빌드\"\n",
    "tasks"
   ]
  },
  {
   "cell_type": "code",
   "execution_count": 48,
   "metadata": {
    "ExecuteTime": {
     "end_time": "2020-01-03T07:49:33.500712Z",
     "start_time": "2020-01-03T07:49:33.494712Z"
    }
   },
   "outputs": [],
   "source": [
    "from collections import OrderedDict\n",
    "\n",
    "def orderedDict_example():\n",
    "    pairs = [(\"c\", 1), (\"b\", 2), (\"a\", 3)]\n",
    "    \n",
    "    # 일반 딕셔너리\n",
    "    d1 = {}\n",
    "    for key, value in pairs:\n",
    "        if key not in d1:\n",
    "            d1[key] = []\n",
    "        d1[key].append(value)\n",
    "    for key in d1:\n",
    "        print(key, d1[key])\n",
    "        \n",
    "    # OrderedDict\n",
    "    d2 = OrderedDict(pairs)\n",
    "    for key in d2:\n",
    "        print(key, d2[key])"
   ]
  },
  {
   "cell_type": "code",
   "execution_count": 49,
   "metadata": {
    "ExecuteTime": {
     "end_time": "2020-01-03T07:49:37.026452Z",
     "start_time": "2020-01-03T07:49:37.020488Z"
    }
   },
   "outputs": [
    {
     "name": "stdout",
     "output_type": "stream",
     "text": [
      "c [1]\n",
      "b [2]\n",
      "a [3]\n",
      "c 1\n",
      "b 2\n",
      "a 3\n"
     ]
    }
   ],
   "source": [
    "orderedDict_example()"
   ]
  },
  {
   "cell_type": "markdown",
   "metadata": {},
   "source": [
    "## 카운터 딕셔너리"
   ]
  },
  {
   "cell_type": "code",
   "execution_count": 50,
   "metadata": {
    "ExecuteTime": {
     "end_time": "2020-01-03T07:53:00.934519Z",
     "start_time": "2020-01-03T07:53:00.928549Z"
    }
   },
   "outputs": [],
   "source": [
    "from collections import Counter\n",
    "\n",
    "def counter_example():\n",
    "    # 항목의 발생 횟수를 매핑하는 딕셔너리를 생성한다.\n",
    "    seq1 = [1,2,3,5,1,2,5,5,2,5,1,4]\n",
    "    seq_counts = Counter(seq1)\n",
    "    print(seq_counts)\n",
    "    \n",
    "    # 항목의 발생 횟수를 수동으로 갱신하거나, update() 메서드를 사용할 수 있다.\n",
    "    seq2 = [1,2,3]\n",
    "    seq_counts.update(seq2)\n",
    "    print(seq_counts)\n",
    "    \n",
    "    seq3 = [1,4,3]\n",
    "    for key in seq3:\n",
    "        seq_counts[key] += 1\n",
    "    print(seq_counts)\n",
    "    \n",
    "    # a+b, a-b 같은 셋 연산을 사용할 수 있다.\n",
    "    seq_counts_2 = Counter(seq3)\n",
    "    print(seq_counts_2)\n",
    "    print(seq_counts + seq_counts_2)\n",
    "    print(seq_counts + seq_counts_2)"
   ]
  },
  {
   "cell_type": "code",
   "execution_count": 51,
   "metadata": {
    "ExecuteTime": {
     "end_time": "2020-01-03T07:53:04.248149Z",
     "start_time": "2020-01-03T07:53:04.244148Z"
    }
   },
   "outputs": [
    {
     "name": "stdout",
     "output_type": "stream",
     "text": [
      "Counter({5: 4, 1: 3, 2: 3, 3: 1, 4: 1})\n",
      "Counter({1: 4, 2: 4, 5: 4, 3: 2, 4: 1})\n",
      "Counter({1: 5, 2: 4, 5: 4, 3: 3, 4: 2})\n",
      "Counter({1: 1, 4: 1, 3: 1})\n",
      "Counter({1: 6, 2: 4, 3: 4, 5: 4, 4: 3})\n",
      "Counter({1: 6, 2: 4, 3: 4, 5: 4, 4: 3})\n"
     ]
    }
   ],
   "source": [
    "counter_example()"
   ]
  },
  {
   "cell_type": "markdown",
   "metadata": {},
   "source": [
    "# 연습문제"
   ]
  },
  {
   "cell_type": "markdown",
   "metadata": {},
   "source": [
    "## 단어 횟수 세기"
   ]
  },
  {
   "cell_type": "code",
   "execution_count": 52,
   "metadata": {
    "ExecuteTime": {
     "end_time": "2020-01-03T07:55:21.679004Z",
     "start_time": "2020-01-03T07:55:21.673042Z"
    }
   },
   "outputs": [],
   "source": [
    "from collections import Counter\n",
    "\n",
    "def find_top_N_recurring_words(seq, N):\n",
    "    dcounter = Counter()\n",
    "    for word in seq.split():\n",
    "        dcounter[word] += 1\n",
    "    return dcounter.most_common(N)\n",
    "\n",
    "def test_find_top_N_recurring_words():\n",
    "    seq = \"버피 에인절 몬스터 잰더 윌로 버피 몬스터 슈퍼 버피 에인절\"\n",
    "    N = 3\n",
    "    assert(find_top_N_recurring_words(seq, N) == [(\"버피\", 3), (\"에인절\", 2), (\"몬스터\", 2)])\n",
    "    print('테스트 통과!')"
   ]
  },
  {
   "cell_type": "code",
   "execution_count": 53,
   "metadata": {
    "ExecuteTime": {
     "end_time": "2020-01-03T07:55:26.274081Z",
     "start_time": "2020-01-03T07:55:26.270088Z"
    }
   },
   "outputs": [
    {
     "name": "stdout",
     "output_type": "stream",
     "text": [
      "테스트 통과!\n"
     ]
    }
   ],
   "source": [
    "test_find_top_N_recurring_words()"
   ]
  },
  {
   "cell_type": "markdown",
   "metadata": {},
   "source": [
    "## 에너그램"
   ]
  },
  {
   "cell_type": "code",
   "execution_count": 54,
   "metadata": {
    "ExecuteTime": {
     "end_time": "2020-01-03T07:57:48.622918Z",
     "start_time": "2020-01-03T07:57:48.617918Z"
    }
   },
   "outputs": [],
   "source": [
    "from collections import Counter\n",
    "\n",
    "def is_anagram(s1, s2):\n",
    "    counter = Counter()\n",
    "    for c in s1:\n",
    "        counter[c] += 1\n",
    "    for c in s2:\n",
    "        counter[c] -= 1\n",
    "    for i in counter.values():\n",
    "        if i:\n",
    "            return False\n",
    "    return True\n",
    "\n",
    "def test_is_anagram():\n",
    "    s1 = \"marina\"\n",
    "    s2 = \"aniram\"\n",
    "    assert(is_anagram(s1, s2) is True)\n",
    "    s1 = \"google\"\n",
    "    s2 = \"gouglo\"\n",
    "    assert(is_anagram(s1, s2) is False)\n",
    "    print('테스트 통과!')"
   ]
  },
  {
   "cell_type": "code",
   "execution_count": 55,
   "metadata": {
    "ExecuteTime": {
     "end_time": "2020-01-03T07:57:54.065779Z",
     "start_time": "2020-01-03T07:57:54.061780Z"
    }
   },
   "outputs": [
    {
     "name": "stdout",
     "output_type": "stream",
     "text": [
      "테스트 통과!\n"
     ]
    }
   ],
   "source": [
    "test_is_anagram()"
   ]
  },
  {
   "cell_type": "markdown",
   "metadata": {},
   "source": [
    "## 애너그램2"
   ]
  },
  {
   "cell_type": "code",
   "execution_count": 57,
   "metadata": {
    "ExecuteTime": {
     "end_time": "2020-01-03T08:02:10.295445Z",
     "start_time": "2020-01-03T08:02:10.288445Z"
    }
   },
   "outputs": [],
   "source": [
    "import string\n",
    "\n",
    "def hash_func(astring):\n",
    "    s = 0\n",
    "    for one in astring:\n",
    "        if one in string.whitespace:\n",
    "            continue\n",
    "        s = s + ord(one) # ord함수는 인수가 유니코드 객체일 때 유니코드를 나타내는 정수를 반환 = ord 값이 동일하면 같은 글자\n",
    "    return s\n",
    "\n",
    "def find_anagram_hash_function(word1, word2):\n",
    "    return hash_func(word1) == hash_func(word2)\n",
    "\n",
    "def test_find_anagram_hash_function():\n",
    "    word1 = \"buffy\"\n",
    "    word2 = \"bffyu\"\n",
    "    word3 = \"bffya\"\n",
    "    assert(find_anagram_hash_function(word1, word2) is True)\n",
    "    assert(find_anagram_hash_function(word1, word3) is False)\n",
    "    print('테스트 통과!')"
   ]
  },
  {
   "cell_type": "code",
   "execution_count": 58,
   "metadata": {
    "ExecuteTime": {
     "end_time": "2020-01-03T08:02:22.273087Z",
     "start_time": "2020-01-03T08:02:22.269096Z"
    }
   },
   "outputs": [
    {
     "name": "stdout",
     "output_type": "stream",
     "text": [
      "테스트 통과!\n"
     ]
    }
   ],
   "source": [
    "test_find_anagram_hash_function()"
   ]
  },
  {
   "cell_type": "markdown",
   "metadata": {},
   "source": [
    "## 주사위 합계 경로"
   ]
  },
  {
   "cell_type": "code",
   "execution_count": 62,
   "metadata": {
    "ExecuteTime": {
     "end_time": "2020-01-03T08:06:05.973940Z",
     "start_time": "2020-01-03T08:06:05.967966Z"
    }
   },
   "outputs": [],
   "source": [
    "from collections import Counter, defaultdict\n",
    "\n",
    "def find_dice_probabilities(S, n_faces=6):\n",
    "    if S > 2 * n_faces or S < 2: # 주사위 면의 2배나 2보다 작은 경우는 존재하지 않음\n",
    "        return None\n",
    "    \n",
    "    cdict = Counter()\n",
    "    ddict = defaultdict(list) # 기본값으로 빈 리스트\n",
    "    \n",
    "    # 두 주사위의 합을 모두 더해서 딕셔너리에 넣는다.\n",
    "    for dice1 in range(1, n_faces+1): # range 함수이기 때문에 +1\n",
    "        for dice2 in range(1, n_faces+1):\n",
    "            t = [dice1, dice2] # 모든 경우의 수\n",
    "            cdict[dice1+dice2] += 1 # 결과값의 갯수를 셈\n",
    "            ddict[dice1+dice2].append(t) # 경우의 수를 추가\n",
    "            \n",
    "    return [cdict[S], ddict[S]]\n",
    "\n",
    "def test_find_dice_probabilities():\n",
    "    n_faces = 6\n",
    "    S = 5\n",
    "    results = find_dice_probabilities(S, n_faces)\n",
    "    print(results)\n",
    "    assert(results[0] == len(results[1]))\n",
    "    print('테스트 통과!')"
   ]
  },
  {
   "cell_type": "code",
   "execution_count": 63,
   "metadata": {
    "ExecuteTime": {
     "end_time": "2020-01-03T08:06:06.596360Z",
     "start_time": "2020-01-03T08:06:06.593362Z"
    }
   },
   "outputs": [
    {
     "name": "stdout",
     "output_type": "stream",
     "text": [
      "[4, [[1, 4], [2, 3], [3, 2], [4, 1]]]\n",
      "테스트 통과!\n"
     ]
    }
   ],
   "source": [
    "test_find_dice_probabilities()"
   ]
  },
  {
   "cell_type": "markdown",
   "metadata": {},
   "source": [
    "## 단어의 중복 문자 제거"
   ]
  },
  {
   "cell_type": "code",
   "execution_count": 64,
   "metadata": {
    "ExecuteTime": {
     "end_time": "2020-01-03T08:11:54.730365Z",
     "start_time": "2020-01-03T08:11:54.725364Z"
    }
   },
   "outputs": [],
   "source": [
    "import string\n",
    "\n",
    "def delete_unique_word(str1):\n",
    "    table_c = {key: 0 for key in string.ascii_lowercase}\n",
    "    for i in str1:\n",
    "        table_c[i] += 1\n",
    "    for key, value in table_c.items():\n",
    "        if value > 1:\n",
    "            str1 = str1.replace(key, \"\")\n",
    "    return str1\n",
    "\n",
    "def test_delete_unique_word():\n",
    "    str1 = \"google\"\n",
    "    assert(delete_unique_word(str1) == \"le\")\n",
    "    print('테스트 통과!')"
   ]
  },
  {
   "cell_type": "code",
   "execution_count": 65,
   "metadata": {
    "ExecuteTime": {
     "end_time": "2020-01-03T08:11:57.876456Z",
     "start_time": "2020-01-03T08:11:57.871455Z"
    }
   },
   "outputs": [
    {
     "name": "stdout",
     "output_type": "stream",
     "text": [
      "테스트 통과!\n"
     ]
    }
   ],
   "source": [
    "test_delete_unique_word()"
   ]
  },
  {
   "cell_type": "code",
   "execution_count": null,
   "metadata": {},
   "outputs": [],
   "source": []
  }
 ],
 "metadata": {
  "kernelspec": {
   "display_name": "Python 3",
   "language": "python",
   "name": "python3"
  },
  "language_info": {
   "codemirror_mode": {
    "name": "ipython",
    "version": 3
   },
   "file_extension": ".py",
   "mimetype": "text/x-python",
   "name": "python",
   "nbconvert_exporter": "python",
   "pygments_lexer": "ipython3",
   "version": "3.6.9"
  },
  "toc": {
   "base_numbering": 1,
   "nav_menu": {},
   "number_sections": true,
   "sideBar": true,
   "skip_h1_title": false,
   "title_cell": "Table of Contents",
   "title_sidebar": "Contents",
   "toc_cell": false,
   "toc_position": {},
   "toc_section_display": true,
   "toc_window_display": false
  },
  "varInspector": {
   "cols": {
    "lenName": 16,
    "lenType": 16,
    "lenVar": 40
   },
   "kernels_config": {
    "python": {
     "delete_cmd_postfix": "",
     "delete_cmd_prefix": "del ",
     "library": "var_list.py",
     "varRefreshCmd": "print(var_dic_list())"
    },
    "r": {
     "delete_cmd_postfix": ") ",
     "delete_cmd_prefix": "rm(",
     "library": "var_list.r",
     "varRefreshCmd": "cat(var_dic_list()) "
    }
   },
   "types_to_exclude": [
    "module",
    "function",
    "builtin_function_or_method",
    "instance",
    "_Feature"
   ],
   "window_display": false
  }
 },
 "nbformat": 4,
 "nbformat_minor": 2
}
