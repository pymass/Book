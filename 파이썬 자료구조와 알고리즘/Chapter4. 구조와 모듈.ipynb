{
 "cells": [
  {
   "cell_type": "markdown",
   "metadata": {},
   "source": [
    "# 모듈\n",
    "\n",
    "모듈은 def를 사용하여 정의한다. def가 실행되면, 함수의 객체와 참조가 같이 생성된다.  \n",
    "반환값을 정의하지 않으면, 파이썬은 자동으로 None을 반환한다.  \n",
    "C언어와 마찬가지로, 아무런 값을 반환하지 않는 함수는 프로시저라고 부른다."
   ]
  },
  {
   "cell_type": "markdown",
   "metadata": {},
   "source": [
    "## 스택과 활성화 레코드\n",
    "함수가 호출될 때마다 활성화 레코드가 생성된다.  \n",
    "활성화 레코드에는 함수의 정보(반환값, 매개변수, 지역변수, 반환값, 반환주소 등)가 기록되며, 이를 스택에 저장한다.  \n",
    "<br/>\n",
    "**활성화 레코드의 처리 순서**\n",
    "1. 함수의 실제 매개변수를 스택에 저장한다.\n",
    "2. 반환 주소를 스택에 저장한다.\n",
    "3. 스택의 최상위 인덱스를 함수의 지역변수에 필요한 총량만큼 늘린다.\n",
    "4. 함수로 건너뛴다.\n",
    "\n",
    "<br/>\n",
    "\n",
    "**활성화 레코드 풀어내는 순서**\n",
    "1. 스택의 최상위 인덱스는 함수에 소비된 총 메모리양(지역변수)만큼 감소한다.\n",
    "2. 반환 주소를 스택에서 빼낸다.\n",
    "3. 스택의 최상위 인덱스는 함수의 실제 매개변수만큼 감소한다."
   ]
  },
  {
   "cell_type": "markdown",
   "metadata": {},
   "source": [
    "# 제어문"
   ]
  },
  {
   "cell_type": "markdown",
   "metadata": {},
   "source": [
    "## if문"
   ]
  },
  {
   "cell_type": "code",
   "execution_count": 1,
   "metadata": {
    "ExecuteTime": {
     "end_time": "2020-01-04T07:28:02.215379Z",
     "start_time": "2020-01-04T07:28:00.262696Z"
    }
   },
   "outputs": [
    {
     "name": "stdout",
     "output_type": "stream",
     "text": [
      "숫자를 입력하세요: 2\n",
      "2 이상의 숫자가 입력되었습니다.\n"
     ]
    }
   ],
   "source": [
    "x = int(input(\"숫자를 입력하세요: \"))\n",
    "if x < 0:\n",
    "    x = 0\n",
    "    print('음수를 입력하여 x를 0으로 변경했습니다.')\n",
    "elif x == 0:\n",
    "    print('0이 입력되었습니다.')\n",
    "elif x == 1:\n",
    "    print('1이 입력되었습니다.')\n",
    "else:\n",
    "    print('2 이상의 숫자가 입력되었습니다.')"
   ]
  },
  {
   "cell_type": "markdown",
   "metadata": {},
   "source": [
    "## for문"
   ]
  },
  {
   "cell_type": "code",
   "execution_count": 2,
   "metadata": {
    "ExecuteTime": {
     "end_time": "2020-01-04T07:29:39.536282Z",
     "start_time": "2020-01-04T07:29:39.457237Z"
    }
   },
   "outputs": [
    {
     "ename": "NameError",
     "evalue": "name 'names' is not defined",
     "output_type": "error",
     "traceback": [
      "\u001b[1;31m---------------------------------------------------------------------------\u001b[0m",
      "\u001b[1;31mNameError\u001b[0m                                 Traceback (most recent call last)",
      "\u001b[1;32m<ipython-input-2-52becf744d49>\u001b[0m in \u001b[0;36m<module>\u001b[1;34m\u001b[0m\n\u001b[1;32m----> 1\u001b[1;33m \u001b[1;32mfor\u001b[0m \u001b[0mname\u001b[0m \u001b[1;32min\u001b[0m \u001b[0mnames\u001b[0m\u001b[1;33m:\u001b[0m\u001b[1;33m\u001b[0m\u001b[1;33m\u001b[0m\u001b[0m\n\u001b[0m\u001b[0;32m      2\u001b[0m     \u001b[0mprint\u001b[0m\u001b[1;33m(\u001b[0m\u001b[0mname\u001b[0m\u001b[1;33m)\u001b[0m\u001b[1;33m\u001b[0m\u001b[1;33m\u001b[0m\u001b[0m\n",
      "\u001b[1;31mNameError\u001b[0m: name 'names' is not defined"
     ]
    }
   ],
   "source": [
    "for name in names:\n",
    "    print(name)"
   ]
  },
  {
   "cell_type": "markdown",
   "metadata": {},
   "source": [
    "## 참과 거짓\n",
    "**False 사용 기준**\n",
    "1. == 또는 != 연산자를 사용하여 내장 변수 None 같은 싱글턴을 비교하지 않는다. 대신 is 또는 is not을 사용한다.\n",
    "2. if x is not None과 if x를 잘 구분해서 사용한다.\n",
    "3. ==를 사용하여 불리언 변수를 False와 비교하지 않는다. 대신 if not x를 사용한다.\n",
    "4. None과 False를 구별할 필요가 있는 경우, if not x and x is not None과 같은 연결 표현식을 사용한다.\n",
    "5. 시퀀스(문자열, 리스트, 튜플)의 경우, 빈 시퀀스는 False다. if len(시퀀스) 또는 if not len(시퀀스)보다는 if not 시퀀스 또는 if 시퀀스를 사용하는 것이 좋다.\n",
    "6. 정수를 처리할 때 뜻하지 않게 None을 0으로 잘못 처리하는 것처럼, 암묵적 False를 사용하는 것은 위험하다."
   ]
  },
  {
   "cell_type": "markdown",
   "metadata": {},
   "source": [
    "## return 대 yield\n",
    "return 키워드는 반환값을 반환하고 메서드를 종료한 후, 호출자에게 제어를 반환한다.  \n",
    "yield 키워드는 각 반환값을 호출자에게 반환하고, 반환값이 모두 소진되었을 때에만 메서드가 종료된다."
   ]
  },
  {
   "cell_type": "code",
   "execution_count": 3,
   "metadata": {
    "ExecuteTime": {
     "end_time": "2020-01-04T07:35:10.737784Z",
     "start_time": "2020-01-04T07:35:10.732779Z"
    }
   },
   "outputs": [],
   "source": [
    "a = [1,2,3]\n",
    "# f(a) 객체를 변수에 저장하고 next()함수를 사용하면 순서대로 값을 볼 수 있다.\n",
    "def f(a):\n",
    "    while a:\n",
    "        yield a.pop()"
   ]
  },
  {
   "cell_type": "markdown",
   "metadata": {},
   "source": [
    "## break 대 continue\n",
    "반복문에서 break 키워드를 만나면, 바로 반복문을 빠져나간다.  \n",
    "반복문에서 continue 키워드를 만나면, 반복문의 다음 단계로 전환한다.(반복문의 다음 반복을 계속한다.)"
   ]
  },
  {
   "cell_type": "code",
   "execution_count": 13,
   "metadata": {
    "ExecuteTime": {
     "end_time": "2020-01-04T07:39:10.918379Z",
     "start_time": "2020-01-04T07:39:10.914378Z"
    }
   },
   "outputs": [
    {
     "name": "stdout",
     "output_type": "stream",
     "text": [
      "0\n",
      "1\n",
      "2\n",
      "3\n"
     ]
    }
   ],
   "source": [
    "for i in range(10):\n",
    "    if i == 4:\n",
    "        break\n",
    "    print(i)\n",
    "else:\n",
    "    print('for문 종료!')"
   ]
  },
  {
   "cell_type": "code",
   "execution_count": 14,
   "metadata": {
    "ExecuteTime": {
     "end_time": "2020-01-04T07:39:11.077402Z",
     "start_time": "2020-01-04T07:39:11.070378Z"
    }
   },
   "outputs": [
    {
     "name": "stdout",
     "output_type": "stream",
     "text": [
      "1\n",
      "3\n",
      "5\n",
      "7\n",
      "9\n",
      "for문 종료!\n"
     ]
    }
   ],
   "source": [
    "for i in range(10):\n",
    "    if i % 2 == 0:\n",
    "        continue\n",
    "    print(i)\n",
    "else:\n",
    "    print('for문 종료!')"
   ]
  },
  {
   "cell_type": "markdown",
   "metadata": {},
   "source": [
    "## range()"
   ]
  },
  {
   "cell_type": "code",
   "execution_count": 15,
   "metadata": {
    "ExecuteTime": {
     "end_time": "2020-01-04T07:39:52.544988Z",
     "start_time": "2020-01-04T07:39:52.538961Z"
    }
   },
   "outputs": [
    {
     "data": {
      "text/plain": [
       "range(0, 10)"
      ]
     },
     "execution_count": 15,
     "metadata": {},
     "output_type": "execute_result"
    }
   ],
   "source": [
    "range(10)"
   ]
  },
  {
   "cell_type": "markdown",
   "metadata": {},
   "source": [
    "## enumerate()"
   ]
  },
  {
   "cell_type": "code",
   "execution_count": 19,
   "metadata": {
    "ExecuteTime": {
     "end_time": "2020-01-04T07:41:33.346476Z",
     "start_time": "2020-01-04T07:41:33.340459Z"
    }
   },
   "outputs": [
    {
     "name": "stdout",
     "output_type": "stream",
     "text": [
      "0 9\n",
      "1 8\n",
      "2 7\n",
      "3 6\n",
      "4 5\n",
      "5 4\n",
      "6 3\n",
      "7 2\n",
      "8 1\n"
     ]
    }
   ],
   "source": [
    "a = range(9, 0, -1)\n",
    "for i, j in enumerate(a):\n",
    "    print(i, j)"
   ]
  },
  {
   "cell_type": "markdown",
   "metadata": {},
   "source": [
    "## zip()"
   ]
  },
  {
   "cell_type": "code",
   "execution_count": 20,
   "metadata": {
    "ExecuteTime": {
     "end_time": "2020-01-04T07:42:11.822381Z",
     "start_time": "2020-01-04T07:42:11.815377Z"
    }
   },
   "outputs": [
    {
     "data": {
      "text/plain": [
       "<zip at 0x2d6ea191108>"
      ]
     },
     "execution_count": 20,
     "metadata": {},
     "output_type": "execute_result"
    }
   ],
   "source": [
    "a = [1,2,3,4,5]\n",
    "b = ['a', 'b', 'c', 'd']\n",
    "zip(a, b)"
   ]
  },
  {
   "cell_type": "code",
   "execution_count": 21,
   "metadata": {
    "ExecuteTime": {
     "end_time": "2020-01-04T07:42:17.759972Z",
     "start_time": "2020-01-04T07:42:17.754966Z"
    }
   },
   "outputs": [
    {
     "data": {
      "text/plain": [
       "[(1, 'a'), (2, 'b'), (3, 'c'), (4, 'd')]"
      ]
     },
     "execution_count": 21,
     "metadata": {},
     "output_type": "execute_result"
    }
   ],
   "source": [
    "list(zip(a,b))"
   ]
  },
  {
   "cell_type": "markdown",
   "metadata": {},
   "source": [
    "## filter()"
   ]
  },
  {
   "cell_type": "code",
   "execution_count": 22,
   "metadata": {
    "ExecuteTime": {
     "end_time": "2020-01-04T07:42:45.254980Z",
     "start_time": "2020-01-04T07:42:45.250011Z"
    }
   },
   "outputs": [
    {
     "data": {
      "text/plain": [
       "False"
      ]
     },
     "execution_count": 22,
     "metadata": {},
     "output_type": "execute_result"
    }
   ],
   "source": [
    "def f(x): return x % 2 != 0 and x % 3 != 0\n",
    "f(33)"
   ]
  },
  {
   "cell_type": "code",
   "execution_count": 23,
   "metadata": {
    "ExecuteTime": {
     "end_time": "2020-01-04T07:42:48.879085Z",
     "start_time": "2020-01-04T07:42:48.873082Z"
    }
   },
   "outputs": [
    {
     "data": {
      "text/plain": [
       "True"
      ]
     },
     "execution_count": 23,
     "metadata": {},
     "output_type": "execute_result"
    }
   ],
   "source": [
    "f(17)"
   ]
  },
  {
   "cell_type": "code",
   "execution_count": 24,
   "metadata": {
    "ExecuteTime": {
     "end_time": "2020-01-04T07:42:56.776894Z",
     "start_time": "2020-01-04T07:42:56.770863Z"
    }
   },
   "outputs": [
    {
     "data": {
      "text/plain": [
       "[5, 7, 11, 13, 17, 19, 23]"
      ]
     },
     "execution_count": 24,
     "metadata": {},
     "output_type": "execute_result"
    }
   ],
   "source": [
    "list(filter(f, range(2, 25)))"
   ]
  },
  {
   "cell_type": "markdown",
   "metadata": {},
   "source": [
    "## map()"
   ]
  },
  {
   "cell_type": "code",
   "execution_count": 25,
   "metadata": {
    "ExecuteTime": {
     "end_time": "2020-01-04T07:43:28.568748Z",
     "start_time": "2020-01-04T07:43:28.562779Z"
    }
   },
   "outputs": [
    {
     "data": {
      "text/plain": [
       "[1, 8, 27, 64, 125, 216, 343, 512, 729, 1000]"
      ]
     },
     "execution_count": 25,
     "metadata": {},
     "output_type": "execute_result"
    }
   ],
   "source": [
    "def cube(x): return x*x*x\n",
    "list(map(cube, range(1,11)))"
   ]
  },
  {
   "cell_type": "code",
   "execution_count": 26,
   "metadata": {
    "ExecuteTime": {
     "end_time": "2020-01-04T07:44:16.135266Z",
     "start_time": "2020-01-04T07:44:16.127265Z"
    }
   },
   "outputs": [
    {
     "data": {
      "text/plain": [
       "[(0, 0), (1, 1), (2, 4), (3, 9), (4, 16), (5, 25), (6, 36), (7, 49)]"
      ]
     },
     "execution_count": 26,
     "metadata": {},
     "output_type": "execute_result"
    }
   ],
   "source": [
    "seq = range(8)\n",
    "def square(x): return x*x\n",
    "list(zip(seq, map(square, seq)))"
   ]
  },
  {
   "cell_type": "markdown",
   "metadata": {},
   "source": [
    "## 람다 함수"
   ]
  },
  {
   "cell_type": "code",
   "execution_count": 27,
   "metadata": {
    "ExecuteTime": {
     "end_time": "2020-01-04T07:44:59.492621Z",
     "start_time": "2020-01-04T07:44:59.486659Z"
    }
   },
   "outputs": [
    {
     "data": {
      "text/plain": [
       "10.0"
      ]
     },
     "execution_count": 27,
     "metadata": {},
     "output_type": "execute_result"
    }
   ],
   "source": [
    "def area(b, h):\n",
    "    return 0.5 * b * h\n",
    "area(5,4)"
   ]
  },
  {
   "cell_type": "code",
   "execution_count": 28,
   "metadata": {
    "ExecuteTime": {
     "end_time": "2020-01-04T07:45:19.944123Z",
     "start_time": "2020-01-04T07:45:19.938157Z"
    }
   },
   "outputs": [
    {
     "data": {
      "text/plain": [
       "10.0"
      ]
     },
     "execution_count": 28,
     "metadata": {},
     "output_type": "execute_result"
    }
   ],
   "source": [
    "area = lambda b, h: 0.5 * b * h\n",
    "area(5,4)"
   ]
  },
  {
   "cell_type": "code",
   "execution_count": 29,
   "metadata": {
    "ExecuteTime": {
     "end_time": "2020-01-04T07:46:21.661545Z",
     "start_time": "2020-01-04T07:46:21.657568Z"
    }
   },
   "outputs": [],
   "source": [
    "import collections\n",
    "minus_one_dict = collections.defaultdict(lambda: -1)\n",
    "point_zero_dict = collections.defaultdict(lambda: (0,0))\n",
    "message_dict = collections.defaultdict(lambda: \"No message\")"
   ]
  },
  {
   "cell_type": "markdown",
   "metadata": {},
   "source": [
    "# 파일 처리"
   ]
  },
  {
   "cell_type": "code",
   "execution_count": 30,
   "metadata": {
    "ExecuteTime": {
     "end_time": "2020-01-04T07:54:16.400903Z",
     "start_time": "2020-01-04T07:54:16.392896Z"
    }
   },
   "outputs": [],
   "source": [
    "import sys\n",
    "\n",
    "def read_data(filename):\n",
    "    lines = []\n",
    "    fh = None\n",
    "    try:\n",
    "        fh = open(filename)\n",
    "        for line in fh:\n",
    "            if line.strip():\n",
    "                lines.append(line)\n",
    "    except (IOError, OSError) as err:\n",
    "        print(err)\n",
    "    finally:\n",
    "        if fh is not None:\n",
    "            fh.close()\n",
    "    return lines\n",
    "\n",
    "def write_data(lines, filename):\n",
    "    fh = None\n",
    "    try:\n",
    "        fh = open(filename, 'w')\n",
    "        for line in lines:\n",
    "            fh.write(line)\n",
    "    except (EnvironmentError) as err:\n",
    "        print(err)\n",
    "    finally:\n",
    "        if fh is not None:\n",
    "            fh.close()\n",
    "            \n",
    "def remove_blank_lines():\n",
    "    if len(sys.argv) < 2:\n",
    "        print(\"Usage: python {0} [file...]\".format(sys.argv[0]))\n",
    "        \n",
    "    for filename in sys.argv[1:]:\n",
    "        lines = read_data(filename)\n",
    "        if lines:\n",
    "            write_data(lines, filename)"
   ]
  },
  {
   "cell_type": "markdown",
   "metadata": {},
   "source": [
    "## open()\n",
    "- r : 읽기 모드\n",
    "- w : 쓰기 모드(동명 파일이 있다면, 그 파일을 지운 후 내용을 새로 쓴다)\n",
    "- a : 추가 모드(동명 파일이 있다면, 그 파일 끝에 내용을 추가한다)\n",
    "- r+ : 읽기와 쓰기 모드\n",
    "- t : 텍스트 모드\n",
    "- b : 바이너리 모드"
   ]
  },
  {
   "cell_type": "markdown",
   "metadata": {},
   "source": [
    "# shutil 모듈"
   ]
  },
  {
   "cell_type": "code",
   "execution_count": 34,
   "metadata": {
    "ExecuteTime": {
     "end_time": "2020-01-04T08:02:25.903644Z",
     "start_time": "2020-01-04T08:02:25.897674Z"
    }
   },
   "outputs": [],
   "source": [
    "import os\n",
    "import sys\n",
    "import shutil\n",
    "\n",
    "def change_file_ext():\n",
    "    if len(sys.argv) < 2:\n",
    "        print(\"Usage: python {0} filename.old_ext 'new_ext'\".format(sys.argv[0]))\n",
    "        sys.exit()\n",
    "    \n",
    "    name = os.path.splitext(sys.argv[1])[0] + \".\" + sys.argv[2]\n",
    "    print(name)\n",
    "    \n",
    "    try:\n",
    "        shutil.copyfile(sys.argv[1], name)\n",
    "    except OSError as err:\n",
    "        print(err)"
   ]
  },
  {
   "cell_type": "markdown",
   "metadata": {},
   "source": [
    "# pickle 모듈\n",
    "\n",
    "pickle 모듈은 파이썬 객체를 가져와서 문자열 표현으로 변환한다.  \n",
    "이러한 과정을 피클링이라 한다. 반대로, 문자열 표현을 객체로 재구성하는 것을 언피클링이라 한다."
   ]
  },
  {
   "cell_type": "code",
   "execution_count": 35,
   "metadata": {
    "ExecuteTime": {
     "end_time": "2020-01-04T08:04:34.873173Z",
     "start_time": "2020-01-04T08:04:34.867191Z"
    }
   },
   "outputs": [],
   "source": [
    "import pickle\n",
    "x = {}\n",
    "x[\"name\"] = \"아스틴\"\n",
    "x[\"age\"] = 23\n",
    "with open(\"name.pkl\", \"wb\") as f: # 피클링\n",
    "    pickle.dump(x, f)"
   ]
  },
  {
   "cell_type": "code",
   "execution_count": 36,
   "metadata": {
    "ExecuteTime": {
     "end_time": "2020-01-04T08:04:58.839886Z",
     "start_time": "2020-01-04T08:04:58.830885Z"
    }
   },
   "outputs": [],
   "source": [
    "with open(\"name.pkl\", \"rb\") as f: # 언피클링\n",
    "    name = pickle.load(f)"
   ]
  },
  {
   "cell_type": "code",
   "execution_count": 37,
   "metadata": {
    "ExecuteTime": {
     "end_time": "2020-01-04T08:05:00.368886Z",
     "start_time": "2020-01-04T08:05:00.362868Z"
    }
   },
   "outputs": [
    {
     "data": {
      "text/plain": [
       "{'name': '아스틴', 'age': 23}"
      ]
     },
     "execution_count": 37,
     "metadata": {},
     "output_type": "execute_result"
    }
   ],
   "source": [
    "name"
   ]
  },
  {
   "cell_type": "markdown",
   "metadata": {},
   "source": [
    "# struct 모듈\n",
    "파이썬 객체를 이진 표현으로 변환하거나, 이진 표현을 파이썬 객체로 변환할 수 있다."
   ]
  },
  {
   "cell_type": "code",
   "execution_count": 38,
   "metadata": {
    "ExecuteTime": {
     "end_time": "2020-01-04T08:05:53.759873Z",
     "start_time": "2020-01-04T08:05:53.753869Z"
    }
   },
   "outputs": [
    {
     "data": {
      "text/plain": [
       "b'\\x00\\x01\\x00\\x02\\x00\\x00\\x00\\x03'"
      ]
     },
     "execution_count": 38,
     "metadata": {},
     "output_type": "execute_result"
    }
   ],
   "source": [
    "import struct\n",
    "abc = struct.pack('>hhl', 1, 2, 3)\n",
    "abc"
   ]
  },
  {
   "cell_type": "code",
   "execution_count": 39,
   "metadata": {
    "ExecuteTime": {
     "end_time": "2020-01-04T08:06:07.169318Z",
     "start_time": "2020-01-04T08:06:07.163295Z"
    }
   },
   "outputs": [
    {
     "data": {
      "text/plain": [
       "(1, 2, 3)"
      ]
     },
     "execution_count": 39,
     "metadata": {},
     "output_type": "execute_result"
    }
   ],
   "source": [
    "struct.unpack('>hhl', abc)"
   ]
  },
  {
   "cell_type": "code",
   "execution_count": 40,
   "metadata": {
    "ExecuteTime": {
     "end_time": "2020-01-04T08:06:21.186829Z",
     "start_time": "2020-01-04T08:06:21.181827Z"
    }
   },
   "outputs": [
    {
     "data": {
      "text/plain": [
       "8"
      ]
     },
     "execution_count": 40,
     "metadata": {},
     "output_type": "execute_result"
    }
   ],
   "source": [
    "struct.calcsize('>hhl')"
   ]
  },
  {
   "cell_type": "markdown",
   "metadata": {},
   "source": [
    "# 오류 처리\n",
    "파이썬 컴파일 시 발생할 수 있는 2가지 오류 : 구문 오류와 예외"
   ]
  },
  {
   "cell_type": "markdown",
   "metadata": {},
   "source": [
    "## 예외 처리"
   ]
  },
  {
   "cell_type": "code",
   "execution_count": 41,
   "metadata": {
    "ExecuteTime": {
     "end_time": "2020-01-04T08:09:49.737055Z",
     "start_time": "2020-01-04T08:09:44.267642Z"
    }
   },
   "outputs": [
    {
     "name": "stdout",
     "output_type": "stream",
     "text": [
      "숫자를 입력하세요: a\n",
      "숫자가 아닙니다. 다시 입력해주세요!\n",
      "숫자를 입력하세요: -\n",
      "숫자가 아닙니다. 다시 입력해주세요!\n",
      "숫자를 입력하세요: 12\n"
     ]
    }
   ],
   "source": [
    "\"\"\"try:\n",
    "    에외 발생이 예측되는 코드\n",
    "except 예외1 as 예외_변수1:\n",
    "    예외 처리1\n",
    "...\n",
    "except 예외N as 예외_변수N:\n",
    "    예외 처리N\"\"\"\n",
    "\n",
    "while True:\n",
    "    try:\n",
    "        x = int(input('숫자를 입력하세요: '))\n",
    "        break\n",
    "    except ValueError:\n",
    "        print('숫자가 아닙니다. 다시 입력해주세요!')"
   ]
  },
  {
   "cell_type": "code",
   "execution_count": 42,
   "metadata": {
    "ExecuteTime": {
     "end_time": "2020-01-04T08:12:07.064727Z",
     "start_time": "2020-01-04T08:12:07.052709Z"
    }
   },
   "outputs": [
    {
     "name": "stdout",
     "output_type": "stream",
     "text": [
      "에외 발생: <class 'ZeroDivisionError'>\n"
     ]
    },
    {
     "ename": "ZeroDivisionError",
     "evalue": "division by zero",
     "output_type": "error",
     "traceback": [
      "\u001b[1;31m---------------------------------------------------------------------------\u001b[0m",
      "\u001b[1;31mZeroDivisionError\u001b[0m                         Traceback (most recent call last)",
      "\u001b[1;32m<ipython-input-42-d7a6f3c2af29>\u001b[0m in \u001b[0;36m<module>\u001b[1;34m\u001b[0m\n\u001b[0;32m      3\u001b[0m \u001b[1;32mimport\u001b[0m \u001b[0msys\u001b[0m\u001b[1;33m\u001b[0m\u001b[1;33m\u001b[0m\u001b[0m\n\u001b[0;32m      4\u001b[0m \u001b[1;32mtry\u001b[0m\u001b[1;33m:\u001b[0m\u001b[1;33m\u001b[0m\u001b[1;33m\u001b[0m\u001b[0m\n\u001b[1;32m----> 5\u001b[1;33m     \u001b[1;36m1\u001b[0m\u001b[1;33m/\u001b[0m\u001b[1;36m0\u001b[0m \u001b[1;31m# ZeroDivisionError 발생\u001b[0m\u001b[1;33m\u001b[0m\u001b[1;33m\u001b[0m\u001b[0m\n\u001b[0m\u001b[0;32m      6\u001b[0m     \u001b[0mf\u001b[0m \u001b[1;33m=\u001b[0m \u001b[0mopen\u001b[0m\u001b[1;33m(\u001b[0m\u001b[1;34m'myfile.txt'\u001b[0m\u001b[1;33m)\u001b[0m\u001b[1;33m\u001b[0m\u001b[1;33m\u001b[0m\u001b[0m\n\u001b[0;32m      7\u001b[0m     \u001b[0ms\u001b[0m \u001b[1;33m=\u001b[0m \u001b[0mf\u001b[0m\u001b[1;33m.\u001b[0m\u001b[0mreadline\u001b[0m\u001b[1;33m(\u001b[0m\u001b[1;33m)\u001b[0m\u001b[1;33m\u001b[0m\u001b[1;33m\u001b[0m\u001b[0m\n",
      "\u001b[1;31mZeroDivisionError\u001b[0m: division by zero"
     ]
    }
   ],
   "source": [
    "# rasie 문을 사용하여 특정 예외를 의도적으로 발생\n",
    "import string\n",
    "import sys\n",
    "try:\n",
    "    1/0 # ZeroDivisionError 발생\n",
    "    f = open('myfile.txt')\n",
    "    s = f.readline()\n",
    "    i = int(string.strip(s))\n",
    "except IOError as err:\n",
    "    # errno, strerror = err.args\n",
    "    print(err)\n",
    "except ValueError:\n",
    "    print('데이터를 숫자로 변환할 수 없습니다')\n",
    "except:\n",
    "    print('에외 발생: {0}'.format(sys.exc_info()[0]))\n",
    "    raise"
   ]
  },
  {
   "cell_type": "code",
   "execution_count": null,
   "metadata": {},
   "outputs": [],
   "source": []
  }
 ],
 "metadata": {
  "kernelspec": {
   "display_name": "Python 3",
   "language": "python",
   "name": "python3"
  },
  "language_info": {
   "codemirror_mode": {
    "name": "ipython",
    "version": 3
   },
   "file_extension": ".py",
   "mimetype": "text/x-python",
   "name": "python",
   "nbconvert_exporter": "python",
   "pygments_lexer": "ipython3",
   "version": "3.6.9"
  },
  "toc": {
   "base_numbering": 1,
   "nav_menu": {},
   "number_sections": true,
   "sideBar": true,
   "skip_h1_title": false,
   "title_cell": "Table of Contents",
   "title_sidebar": "Contents",
   "toc_cell": false,
   "toc_position": {},
   "toc_section_display": true,
   "toc_window_display": false
  },
  "varInspector": {
   "cols": {
    "lenName": 16,
    "lenType": 16,
    "lenVar": 40
   },
   "kernels_config": {
    "python": {
     "delete_cmd_postfix": "",
     "delete_cmd_prefix": "del ",
     "library": "var_list.py",
     "varRefreshCmd": "print(var_dic_list())"
    },
    "r": {
     "delete_cmd_postfix": ") ",
     "delete_cmd_prefix": "rm(",
     "library": "var_list.r",
     "varRefreshCmd": "cat(var_dic_list()) "
    }
   },
   "types_to_exclude": [
    "module",
    "function",
    "builtin_function_or_method",
    "instance",
    "_Feature"
   ],
   "window_display": false
  }
 },
 "nbformat": 4,
 "nbformat_minor": 2
}
