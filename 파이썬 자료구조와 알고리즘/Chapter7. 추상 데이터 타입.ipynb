{
 "cells": [
  {
   "cell_type": "markdown",
   "metadata": {},
   "source": [
    "# 스택\n",
    "스택은 배열의 끝에서만 데이터를 접근할 수 있는 선형 자료구조다. 스택은 배열 인덱스 접근이 제한되며, 후입선출 구조다.\n",
    "\n",
    "- push : 스택 맨 끝(맨 위)에 항목을 삽입한다.\n",
    "- pop : 스택 맨 끝 항목을 반환하는 동시에 제거한다.\n",
    "- top/peek : 스택 맨 끝 항목을 조회한다.\n",
    "- empty : 스택이 비어 있는지 확인한다.\n",
    "- size : 스택 크기를 확인한다."
   ]
  },
  {
   "cell_type": "code",
   "execution_count": 5,
   "metadata": {
    "ExecuteTime": {
     "end_time": "2020-01-06T04:30:27.166135Z",
     "start_time": "2020-01-06T04:30:27.160135Z"
    }
   },
   "outputs": [],
   "source": [
    "class Stack(object):\n",
    "    def __init__(self):\n",
    "        self.items = []\n",
    "        \n",
    "    def push(self, value):\n",
    "        self.items.append(value)\n",
    "        \n",
    "    def isEmpty(self):\n",
    "        return not bool(self.items)\n",
    "    \n",
    "    def pop(self):\n",
    "        value = self.items.pop()\n",
    "        if value is not None:\n",
    "            return value\n",
    "        else:\n",
    "            print('Stack is empty.')\n",
    "            \n",
    "    def size(self):\n",
    "        return len(self.items)\n",
    "    \n",
    "    def peek(self):\n",
    "        if self.items:\n",
    "            return self.items[-1]\n",
    "        else:\n",
    "            print('Stack is empty.')\n",
    "            \n",
    "    def __repr__(self):\n",
    "        return repr(self.items) #repr 메서드는 표현해준다."
   ]
  },
  {
   "cell_type": "code",
   "execution_count": 6,
   "metadata": {
    "ExecuteTime": {
     "end_time": "2020-01-06T04:30:27.475135Z",
     "start_time": "2020-01-06T04:30:27.468134Z"
    }
   },
   "outputs": [
    {
     "name": "stdout",
     "output_type": "stream",
     "text": [
      "스택이 비었나요? True\n",
      "스택에 숫자 0~9를 추가합니다.\n",
      "스택 크기: 10\n",
      "peek: 9\n",
      "pop: 9\n",
      "peek: 8\n",
      "스택이 비었나요? False\n",
      "[0, 1, 2, 3, 4, 5, 6, 7, 8]\n"
     ]
    }
   ],
   "source": [
    "stack = Stack()\n",
    "print(\"스택이 비었나요? {0}\".format(stack.isEmpty()))\n",
    "print(\"스택에 숫자 0~9를 추가합니다.\")\n",
    "for i in range(10):\n",
    "    stack.push(i)\n",
    "print(\"스택 크기: {0}\".format(stack.size()))\n",
    "print(\"peek: {0}\".format(stack.peek()))\n",
    "print(\"pop: {0}\".format(stack.pop()))\n",
    "print(\"peek: {0}\".format(stack.peek()))\n",
    "print(\"스택이 비었나요? {0}\".format(stack.isEmpty()))\n",
    "print(stack)"
   ]
  },
  {
   "cell_type": "code",
   "execution_count": 7,
   "metadata": {
    "ExecuteTime": {
     "end_time": "2020-01-06T04:34:51.685113Z",
     "start_time": "2020-01-06T04:34:51.676099Z"
    }
   },
   "outputs": [],
   "source": [
    "# 노드의 컨테이너로 스택을 구현\n",
    "class Node(object):\n",
    "    def __init__(self, value=None, pointer=None):\n",
    "        self.value = value\n",
    "        self.pointer = pointer\n",
    "        \n",
    "class Stack(object):\n",
    "    def __init__(self):\n",
    "        self.head = None\n",
    "        self.count = 0\n",
    "        \n",
    "    def isEmpty(self):\n",
    "        return not bool(self.head)\n",
    "    \n",
    "    def push(self, item):\n",
    "        self.head = Node(item, self.head)\n",
    "        self.count += 1\n",
    "        \n",
    "    def pop(self):\n",
    "        if self.count > 0 and self.head:\n",
    "            node = self.head\n",
    "            self.head = node.pointer\n",
    "            self.count -= 1\n",
    "            return node.value\n",
    "        else:\n",
    "            print(\"Stack is empty.\")\n",
    "            \n",
    "    def peek(self):\n",
    "        if self.count > 0 and self.head:\n",
    "            return self.head.value\n",
    "        else:\n",
    "            print(\"Stack is empty.\")\n",
    "            \n",
    "    def size(self):\n",
    "        return self.count\n",
    "    \n",
    "    def _printList(self):\n",
    "        node = self.head\n",
    "        while node:\n",
    "            print(node.value, end=\" \")\n",
    "            node = node.pointer\n",
    "        print()"
   ]
  },
  {
   "cell_type": "code",
   "execution_count": 8,
   "metadata": {
    "ExecuteTime": {
     "end_time": "2020-01-06T04:35:28.964270Z",
     "start_time": "2020-01-06T04:35:28.955271Z"
    }
   },
   "outputs": [
    {
     "name": "stdout",
     "output_type": "stream",
     "text": [
      "스택이 비었나요? True\n",
      "스택에 숫자 0~9를 추가합니다.\n",
      "9 8 7 6 5 4 3 2 1 0 \n",
      "스택 크기: 10\n",
      "peek: 9\n",
      "pop: 9\n",
      "peek: 8\n",
      "스택이 비었나요? False\n",
      "8 7 6 5 4 3 2 1 0 \n"
     ]
    }
   ],
   "source": [
    "stack = Stack()\n",
    "print(\"스택이 비었나요? {0}\".format(stack.isEmpty()))\n",
    "print(\"스택에 숫자 0~9를 추가합니다.\")\n",
    "for i in range(10):\n",
    "    stack.push(i)\n",
    "stack._printList()\n",
    "print(\"스택 크기: {0}\".format(stack.size()))\n",
    "print(\"peek: {0}\".format(stack.peek()))\n",
    "print(\"pop: {0}\".format(stack.pop()))\n",
    "print(\"peek: {0}\".format(stack.peek()))\n",
    "print(\"스택이 비었나요? {0}\".format(stack.isEmpty()))\n",
    "stack._printList()"
   ]
  },
  {
   "cell_type": "markdown",
   "metadata": {},
   "source": [
    "# 큐\n",
    "큐는 스택과 다르게 항목이 들어온 순서대로 접근 가능하다. 즉, 먼저 들어온 데이터가 먼저 나가는 선입선출 구조다.\n",
    "\n",
    "- enqueue : 큐 뒤쪽에 항목을 삽입한다.\n",
    "- dequeue : 큐 앞쪽의 항목을 반환하고, 제거한다.\n",
    "- peek/front : 큐 앞쪽의 항목을 조회한다.\n",
    "- empty : 큐가 비어 있는지 확인한다.\n",
    "- size : 큐의 크기를 확인한다."
   ]
  },
  {
   "cell_type": "code",
   "execution_count": 25,
   "metadata": {
    "ExecuteTime": {
     "end_time": "2020-01-06T05:03:28.281865Z",
     "start_time": "2020-01-06T05:03:28.275852Z"
    }
   },
   "outputs": [],
   "source": [
    "class Queue(object):\n",
    "    def __init__(self):\n",
    "        self.items = []\n",
    "        \n",
    "    def isEmpty(self):\n",
    "        return not bool(self.items)\n",
    "    \n",
    "    def enqueue(self, item):\n",
    "        self.items.insert(0, item)\n",
    "        \n",
    "    def dequeue(self):\n",
    "        value = self.items.pop()\n",
    "        if value is not None:\n",
    "            return value\n",
    "        else:\n",
    "            print(\"Queue is empty.\")\n",
    "            \n",
    "    def size(self):\n",
    "        return len(self.items)\n",
    "    \n",
    "    def peek(self):\n",
    "        if self.items:\n",
    "            return self.items[-1]\n",
    "        else:\n",
    "            print(\"Queue is empty\")\n",
    "            \n",
    "    def __repr__(self):\n",
    "        return repr(self.items)"
   ]
  },
  {
   "cell_type": "code",
   "execution_count": 13,
   "metadata": {
    "ExecuteTime": {
     "end_time": "2020-01-06T04:41:21.474428Z",
     "start_time": "2020-01-06T04:41:21.468426Z"
    }
   },
   "outputs": [
    {
     "name": "stdout",
     "output_type": "stream",
     "text": [
      "큐가 비었나요? True\n",
      "큐에 숫자 0~9를 추가합니다.\n",
      "큐 크기: 10\n",
      "peek: 0\n",
      "dequeue: 0\n",
      "peek: 1\n",
      "큐가 비었나요? False\n",
      "[9, 8, 7, 6, 5, 4, 3, 2, 1]\n"
     ]
    }
   ],
   "source": [
    "queue = Queue()\n",
    "print(\"큐가 비었나요? {0}\".format(queue.isEmpty()))\n",
    "print(\"큐에 숫자 0~9를 추가합니다.\")\n",
    "for i in range(10):\n",
    "    queue.enqueue(i)\n",
    "print(\"큐 크기: {0}\".format(queue.size()))\n",
    "print(\"peek: {0}\".format(queue.peek()))\n",
    "print(\"dequeue: {0}\".format(queue.dequeue()))\n",
    "print(\"peek: {0}\".format(queue.peek()))\n",
    "print(\"큐가 비었나요? {0}\".format(queue.isEmpty()))\n",
    "print(queue)"
   ]
  },
  {
   "cell_type": "code",
   "execution_count": 14,
   "metadata": {
    "ExecuteTime": {
     "end_time": "2020-01-06T04:46:14.914647Z",
     "start_time": "2020-01-06T04:46:14.905646Z"
    }
   },
   "outputs": [],
   "source": [
    "# 두 개의 큐를 사용한 효율적인 큐\n",
    "class Queue(object):\n",
    "    def __init__(self):\n",
    "        self.in_stack = []\n",
    "        self.out_stack = []\n",
    "        \n",
    "    def _transfer(self):\n",
    "        while self.in_stack:\n",
    "            self.out_stack.append(self.in_stack.pop())\n",
    "            \n",
    "    def enqueue(self, item):\n",
    "        return self.in_stack.append(item)\n",
    "    \n",
    "    def dequeue(self):\n",
    "        if not self.out_stack:\n",
    "            self._transfer()\n",
    "        if self.out_stack:\n",
    "            return self.out_stack.pop()\n",
    "        else:\n",
    "            print(\"Queue is empty!\")\n",
    "            \n",
    "    def size(self):\n",
    "        return len(self.in_stack) + len(self.out_stack)\n",
    "    \n",
    "    def peek(self):\n",
    "        if not self.out_stack:\n",
    "            self._transfer()\n",
    "        if self.out_stack:\n",
    "            return self.out_stack[-1]\n",
    "        else:\n",
    "            print(\"Queue is empty\")\n",
    "            \n",
    "    def __repr__(self):\n",
    "        if not self.out_stack:\n",
    "            self._transfer()\n",
    "        if self.out_stack:\n",
    "            return repr(self.out_stack)\n",
    "        else:\n",
    "            print(\"Queue is empty\")\n",
    "            \n",
    "    def isEmpty(self):\n",
    "        return not (bool(self.in_stack) or bool(self.out_stack))"
   ]
  },
  {
   "cell_type": "code",
   "execution_count": 15,
   "metadata": {
    "ExecuteTime": {
     "end_time": "2020-01-06T04:46:38.107945Z",
     "start_time": "2020-01-06T04:46:38.100938Z"
    }
   },
   "outputs": [
    {
     "name": "stdout",
     "output_type": "stream",
     "text": [
      "큐가 비었나요? True\n",
      "큐에 숫자 0~9를 추가합니다.\n",
      "큐 크기: 10\n",
      "peek: 0\n",
      "dequeue: 0\n",
      "peek: 1\n",
      "큐가 비었나요? False\n",
      "[9, 8, 7, 6, 5, 4, 3, 2, 1]\n"
     ]
    }
   ],
   "source": [
    "queue = Queue()\n",
    "print(\"큐가 비었나요? {0}\".format(queue.isEmpty()))\n",
    "print(\"큐에 숫자 0~9를 추가합니다.\")\n",
    "for i in range(10):\n",
    "    queue.enqueue(i)\n",
    "print(\"큐 크기: {0}\".format(queue.size()))\n",
    "print(\"peek: {0}\".format(queue.peek()))\n",
    "print(\"dequeue: {0}\".format(queue.dequeue()))\n",
    "print(\"peek: {0}\".format(queue.peek()))\n",
    "print(\"큐가 비었나요? {0}\".format(queue.isEmpty()))\n",
    "print(queue)"
   ]
  },
  {
   "cell_type": "code",
   "execution_count": 21,
   "metadata": {
    "ExecuteTime": {
     "end_time": "2020-01-06T04:56:35.870837Z",
     "start_time": "2020-01-06T04:56:35.861837Z"
    }
   },
   "outputs": [],
   "source": [
    "# 노드의 컨테이너로 큐를 구현\n",
    "class Node(object):\n",
    "    def __init__(self, value=None, pointer=None):\n",
    "        self.value = value\n",
    "        self.pointer = None\n",
    "        \n",
    "class LinkedQueue(object):\n",
    "    def __init__(self):\n",
    "        self.head = None\n",
    "        self.tail = None\n",
    "        self.count = 0\n",
    "\n",
    "    def isEmpty(self):\n",
    "        return not bool(self.head)\n",
    "    \n",
    "    def dequeue(self):\n",
    "        if self.head:\n",
    "            value = self.head.value\n",
    "            self.head = self.head.pointer\n",
    "            self.count -= 1\n",
    "            return value\n",
    "        else:\n",
    "            print(\"Queue is empty\")\n",
    "            \n",
    "    def enqueue(self, value):\n",
    "        node = Node(value)\n",
    "        if not self.head:\n",
    "            self.head = node\n",
    "            self.tail = node\n",
    "        else:\n",
    "            if self.tail:\n",
    "                self.tail.pointer = node\n",
    "            self.tail = node\n",
    "        self.count += 1\n",
    "        \n",
    "    def size(self):\n",
    "        return self.count\n",
    "    \n",
    "    def peek(self):\n",
    "        return self.head.value\n",
    "    \n",
    "    def print(self):\n",
    "        node = self.head\n",
    "        while node:\n",
    "            print(node.value, end=\" \")\n",
    "            node = node.pointer\n",
    "        print()"
   ]
  },
  {
   "cell_type": "code",
   "execution_count": 22,
   "metadata": {
    "ExecuteTime": {
     "end_time": "2020-01-06T04:56:36.001841Z",
     "start_time": "2020-01-06T04:56:35.993836Z"
    }
   },
   "outputs": [
    {
     "name": "stdout",
     "output_type": "stream",
     "text": [
      "큐가 비었나요? True\n",
      "큐에 숫자 0~9를 추가합니다.\n",
      "큐가 비었나요? False\n",
      "0 1 2 3 4 5 6 7 8 9 \n",
      "큐 크기: 10\n",
      "peek: 0\n",
      "dequeue: 0\n",
      "peek: 1\n",
      "1 2 3 4 5 6 7 8 9 \n"
     ]
    }
   ],
   "source": [
    "queue = LinkedQueue()\n",
    "print(\"큐가 비었나요? {0}\".format(queue.isEmpty()))\n",
    "print(\"큐에 숫자 0~9를 추가합니다.\")\n",
    "for i in range(10):\n",
    "    queue.enqueue(i)\n",
    "print(\"큐가 비었나요? {0}\".format(queue.isEmpty()))\n",
    "queue.print()\n",
    "\n",
    "print(\"큐 크기: {0}\".format(queue.size()))\n",
    "print(\"peek: {0}\".format(queue.peek()))\n",
    "print(\"dequeue: {0}\".format(queue.dequeue()))\n",
    "print(\"peek: {0}\".format(queue.peek()))\n",
    "queue.print()"
   ]
  },
  {
   "cell_type": "markdown",
   "metadata": {},
   "source": [
    "# 데크\n",
    "데크는 스택과 큐의 결합체로 볼 수 있다. 양쪽 끝에서 항목의 조회, 삽입, 삭제가 가능하다."
   ]
  },
  {
   "cell_type": "code",
   "execution_count": 27,
   "metadata": {
    "ExecuteTime": {
     "end_time": "2020-01-06T05:03:35.328569Z",
     "start_time": "2020-01-06T05:03:35.323570Z"
    }
   },
   "outputs": [],
   "source": [
    "# 위에 구현한 Queue를 사용\n",
    "class Deque(Queue):\n",
    "    def enqueue_back(self, item):\n",
    "        self.items.append(item)\n",
    "        \n",
    "    def dequeue_front(self):\n",
    "        value = self.items.pop(0)\n",
    "        if value is not None:\n",
    "            return value\n",
    "        else:\n",
    "            print(\"Deque is empty\")"
   ]
  },
  {
   "cell_type": "code",
   "execution_count": 28,
   "metadata": {
    "ExecuteTime": {
     "end_time": "2020-01-06T05:03:35.603569Z",
     "start_time": "2020-01-06T05:03:35.594567Z"
    }
   },
   "outputs": [
    {
     "name": "stdout",
     "output_type": "stream",
     "text": [
      "데크가 비었나요? True\n",
      "데크에 숫자 0~9를 추가합니다.\n",
      "데크 크기: 10\n",
      "peek: 0\n",
      "dequeue: 0\n",
      "peek: 1\n",
      "데크가 비었나요? False\n",
      "데크: [9, 8, 7, 6, 5, 4, 3, 2, 1]\n",
      "dequeue: 9\n",
      "peek: 1\n",
      "데크: [8, 7, 6, 5, 4, 3, 2, 1]\n",
      "enqueue_back(50)을 수행합니다.\n",
      "peek: 50\n",
      "데크: [8, 7, 6, 5, 4, 3, 2, 1, 50]\n"
     ]
    }
   ],
   "source": [
    "deque = Deque()\n",
    "print(\"데크가 비었나요? {0}\".format(deque.isEmpty()))\n",
    "print(\"데크에 숫자 0~9를 추가합니다.\")\n",
    "for i in range(10):\n",
    "    deque.enqueue(i)\n",
    "print(\"데크 크기: {0}\".format(deque.size()))\n",
    "print(\"peek: {0}\".format(deque.peek()))\n",
    "print(\"dequeue: {0}\".format(deque.dequeue()))\n",
    "print(\"peek: {0}\".format(deque.peek()))\n",
    "print(\"데크가 비었나요? {0}\".format(deque.isEmpty()))\n",
    "print(\"데크: {0}\".format(deque))\n",
    "print(\"dequeue: {0}\".format(deque.dequeue_front()))\n",
    "print(\"peek: {0}\".format(deque.peek()))\n",
    "print(\"데크: {0}\".format(deque))\n",
    "print(\"enqueue_back(50)을 수행합니다.\")\n",
    "deque.enqueue_back(50)\n",
    "print(\"peek: {0}\".format(deque.peek()))\n",
    "print(\"데크: {0}\".format(deque))"
   ]
  },
  {
   "cell_type": "code",
   "execution_count": 29,
   "metadata": {
    "ExecuteTime": {
     "end_time": "2020-01-06T05:04:55.276684Z",
     "start_time": "2020-01-06T05:04:55.268703Z"
    }
   },
   "outputs": [
    {
     "data": {
      "text/plain": [
       "deque(['버피', '잰더', '윌로'])"
      ]
     },
     "execution_count": 29,
     "metadata": {},
     "output_type": "execute_result"
    }
   ],
   "source": [
    "# collections 모듈에 deque가 구현되어 있다.\n",
    "from collections import deque\n",
    "q = deque([\"버피\", \"잰더\", \"윌로\"])\n",
    "q"
   ]
  },
  {
   "cell_type": "code",
   "execution_count": 30,
   "metadata": {
    "ExecuteTime": {
     "end_time": "2020-01-06T05:05:05.148233Z",
     "start_time": "2020-01-06T05:05:05.144248Z"
    }
   },
   "outputs": [
    {
     "data": {
      "text/plain": [
       "deque(['버피', '잰더', '윌로', '자일스'])"
      ]
     },
     "execution_count": 30,
     "metadata": {},
     "output_type": "execute_result"
    }
   ],
   "source": [
    "q.append(\"자일스\")\n",
    "q"
   ]
  },
  {
   "cell_type": "code",
   "execution_count": 31,
   "metadata": {
    "ExecuteTime": {
     "end_time": "2020-01-06T05:05:10.146882Z",
     "start_time": "2020-01-06T05:05:10.142860Z"
    }
   },
   "outputs": [
    {
     "data": {
      "text/plain": [
       "'버피'"
      ]
     },
     "execution_count": 31,
     "metadata": {},
     "output_type": "execute_result"
    }
   ],
   "source": [
    "q.popleft()"
   ]
  },
  {
   "cell_type": "code",
   "execution_count": 32,
   "metadata": {
    "ExecuteTime": {
     "end_time": "2020-01-06T05:05:13.087214Z",
     "start_time": "2020-01-06T05:05:13.083181Z"
    }
   },
   "outputs": [
    {
     "data": {
      "text/plain": [
       "'자일스'"
      ]
     },
     "execution_count": 32,
     "metadata": {},
     "output_type": "execute_result"
    }
   ],
   "source": [
    "q.pop()\n",
    "q"
   ]
  },
  {
   "cell_type": "code",
   "execution_count": 34,
   "metadata": {
    "ExecuteTime": {
     "end_time": "2020-01-06T05:05:27.434129Z",
     "start_time": "2020-01-06T05:05:27.431127Z"
    }
   },
   "outputs": [],
   "source": [
    "q.appendleft('엔젤')\n",
    "q"
   ]
  },
  {
   "cell_type": "code",
   "execution_count": 37,
   "metadata": {
    "ExecuteTime": {
     "end_time": "2020-01-06T05:06:06.804353Z",
     "start_time": "2020-01-06T05:06:06.799386Z"
    }
   },
   "outputs": [
    {
     "data": {
      "text/plain": [
       "deque(['잰더', '윌로', '엔젤'])"
      ]
     },
     "execution_count": 37,
     "metadata": {},
     "output_type": "execute_result"
    }
   ],
   "source": [
    "q.rotate(1)\n",
    "q"
   ]
  },
  {
   "cell_type": "code",
   "execution_count": 38,
   "metadata": {
    "ExecuteTime": {
     "end_time": "2020-01-06T05:06:13.923023Z",
     "start_time": "2020-01-06T05:06:13.919022Z"
    }
   },
   "outputs": [
    {
     "data": {
      "text/plain": [
       "deque(['윌로', '엔젤', '잰더'])"
      ]
     },
     "execution_count": 38,
     "metadata": {},
     "output_type": "execute_result"
    }
   ],
   "source": [
    "q.rotate(2)\n",
    "q"
   ]
  },
  {
   "cell_type": "code",
   "execution_count": 40,
   "metadata": {
    "ExecuteTime": {
     "end_time": "2020-01-06T05:06:24.737095Z",
     "start_time": "2020-01-06T05:06:24.732093Z"
    }
   },
   "outputs": [
    {
     "data": {
      "text/plain": [
       "deque(['잰더', '윌로', '엔젤'])"
      ]
     },
     "execution_count": 40,
     "metadata": {},
     "output_type": "execute_result"
    }
   ],
   "source": [
    "q.rotate(-1)\n",
    "q"
   ]
  },
  {
   "cell_type": "markdown",
   "metadata": {},
   "source": [
    "# 우선순위 큐와 힙\n",
    "우선순위 큐는 일반 스택과 큐와 비슷한 추상 데이터 타입이지만, 각 항목마다 연관된 우선순위가 있다. 두 항목의 우선순위가 같으면 큐의 순서를 따른다. 우선순위 큐는 힙을 사용하여 구현한다."
   ]
  },
  {
   "cell_type": "markdown",
   "metadata": {},
   "source": [
    "## 힙\n",
    "힙은 각 노드가 하위 노드보다 작은(또는 큰) 이진 트리다. 힙은 일반적으로, 리스트에서 가장 작은(또는 가장 큰) 요소에 반복적으로 접근하는 프로그램에 유용하다."
   ]
  },
  {
   "cell_type": "code",
   "execution_count": 41,
   "metadata": {
    "ExecuteTime": {
     "end_time": "2020-01-06T05:16:33.044074Z",
     "start_time": "2020-01-06T05:16:33.038066Z"
    }
   },
   "outputs": [
    {
     "data": {
      "text/plain": [
       "[1, 4, 8, 6]"
      ]
     },
     "execution_count": 41,
     "metadata": {},
     "output_type": "execute_result"
    }
   ],
   "source": [
    "# heapq 모듈\n",
    "\n",
    "import heapq\n",
    "list1 = [4, 6, 8, 1]\n",
    "heapq.heapify(list1) # 리스트를 힙으로 변환\n",
    "list1"
   ]
  },
  {
   "cell_type": "code",
   "execution_count": 42,
   "metadata": {
    "ExecuteTime": {
     "end_time": "2020-01-06T05:17:54.182095Z",
     "start_time": "2020-01-06T05:17:54.176096Z"
    }
   },
   "outputs": [
    {
     "data": {
      "text/plain": [
       "[(1, 'food'), (2, 'have fun'), (3, 'work'), (4, 'study')]"
      ]
     },
     "execution_count": 42,
     "metadata": {},
     "output_type": "execute_result"
    }
   ],
   "source": [
    "h = []\n",
    "heapq.heappush(h, (1, 'food'))\n",
    "heapq.heappush(h, (2, 'have fun'))\n",
    "heapq.heappush(h, (3, 'work'))\n",
    "heapq.heappush(h, (4, 'study'))\n",
    "h"
   ]
  },
  {
   "cell_type": "code",
   "execution_count": 43,
   "metadata": {
    "ExecuteTime": {
     "end_time": "2020-01-06T05:18:07.036161Z",
     "start_time": "2020-01-06T05:18:07.032198Z"
    }
   },
   "outputs": [
    {
     "data": {
      "text/plain": [
       "[1, 4, 8, 6]"
      ]
     },
     "execution_count": 43,
     "metadata": {},
     "output_type": "execute_result"
    }
   ],
   "source": [
    "list1"
   ]
  },
  {
   "cell_type": "code",
   "execution_count": 44,
   "metadata": {
    "ExecuteTime": {
     "end_time": "2020-01-06T05:18:15.662390Z",
     "start_time": "2020-01-06T05:18:15.657423Z"
    }
   },
   "outputs": [
    {
     "data": {
      "text/plain": [
       "1"
      ]
     },
     "execution_count": 44,
     "metadata": {},
     "output_type": "execute_result"
    }
   ],
   "source": [
    "heapq.heappop(list1) # 가장 작은 항목을 제거하고 반환"
   ]
  },
  {
   "cell_type": "code",
   "execution_count": 45,
   "metadata": {
    "ExecuteTime": {
     "end_time": "2020-01-06T05:18:27.605305Z",
     "start_time": "2020-01-06T05:18:27.601299Z"
    }
   },
   "outputs": [
    {
     "data": {
      "text/plain": [
       "[4, 6, 8]"
      ]
     },
     "execution_count": 45,
     "metadata": {},
     "output_type": "execute_result"
    }
   ],
   "source": [
    "list1"
   ]
  },
  {
   "cell_type": "code",
   "execution_count": 46,
   "metadata": {
    "ExecuteTime": {
     "end_time": "2020-01-06T05:19:21.479828Z",
     "start_time": "2020-01-06T05:19:21.475866Z"
    }
   },
   "outputs": [
    {
     "name": "stdout",
     "output_type": "stream",
     "text": [
      "1\n",
      "2\n",
      "3\n",
      "4\n",
      "5\n",
      "6\n"
     ]
    }
   ],
   "source": [
    "for x in heapq.merge([1,3,5],[2,4,6]):\n",
    "    print(x)"
   ]
  },
  {
   "cell_type": "markdown",
   "metadata": {},
   "source": [
    "## 최대 힙 구현하기"
   ]
  },
  {
   "cell_type": "code",
   "execution_count": 49,
   "metadata": {
    "ExecuteTime": {
     "end_time": "2020-01-06T05:38:05.554944Z",
     "start_time": "2020-01-06T05:38:05.542946Z"
    }
   },
   "outputs": [],
   "source": [
    "class Heapify(object):\n",
    "    def __init__(self, data=None):\n",
    "        self.data = data or []\n",
    "        for i in range(len(data)//2, -1,-1):\n",
    "            self.__max_heapify__(i)\n",
    "            \n",
    "    def __repr__(self):\n",
    "        return repr(self.data)\n",
    "    \n",
    "    def parent(self, i):\n",
    "        if i & 1:\n",
    "            return i >> 1 # x >> y : x를 2**y으로 나눈다 (반대인 <<는 x에 2**y를 곱한다) \n",
    "        else:\n",
    "            return (i >> 1) - 1\n",
    "        \n",
    "    def left_child(self, i):\n",
    "        return (i << 1) + 1\n",
    "    \n",
    "    def rigth_child(self, i):\n",
    "        return (i << 1) + 2\n",
    "    \n",
    "    def __max_heapify__(self, i):\n",
    "        largest = i # 현재 노드\n",
    "        left = self.left_child(i)\n",
    "        right = self.rigth_child(i)\n",
    "        n = len(self.data)\n",
    "        \n",
    "        # 왼쪽 자식\n",
    "        largest = (left < n and self.data[left] > self.data[i]) and left or i\n",
    "        # 오른쪽 자식\n",
    "        largest = (right < n and self.data[right] > self.data[largest]) and right or largest\n",
    "        \n",
    "        # 현재 노드가 자식들보다 크다면 Skip, 자식이 크다면 Swap\n",
    "        if i is not largest:\n",
    "            self.data[i], self.data[largest] = self.data[largest], self.data[i]\n",
    "            # print(self.data)\n",
    "            self.__max_heapify__(largest)\n",
    "            \n",
    "    def extract_max(self):\n",
    "        n = len(self.data)\n",
    "        max_element = self.data[0]\n",
    "        # 첫 번째 노드에 마지막 노드를 삽입\n",
    "        self.data[0] = self.data[n - 1]\n",
    "        self.data = self.data[:n - 1]\n",
    "        self.__max_heapify__(0)\n",
    "        return max_element\n",
    "    \n",
    "    def insert(self, item):\n",
    "        i = len(self.data)\n",
    "        self.data.append(item)\n",
    "        while (i != 0) and item > self.data[self.parent(i)]:\n",
    "            print(self.data)\n",
    "            self.data[i] = self.data[self.parent(i)]\n",
    "            i = self.parent(i)\n",
    "        self.data[i] = item\n",
    "        \n",
    "def test_heapify():\n",
    "    l1 = [3, 2, 5, 1, 7, 8, 2]\n",
    "    h = Heapify(l1)\n",
    "    assert(h.extract_max() == 8)\n",
    "    print(\"테스트 통과!\")"
   ]
  },
  {
   "cell_type": "code",
   "execution_count": 50,
   "metadata": {
    "ExecuteTime": {
     "end_time": "2020-01-06T05:38:06.022948Z",
     "start_time": "2020-01-06T05:38:06.019944Z"
    }
   },
   "outputs": [
    {
     "name": "stdout",
     "output_type": "stream",
     "text": [
      "테스트 통과!\n"
     ]
    }
   ],
   "source": [
    "test_heapify()"
   ]
  },
  {
   "cell_type": "markdown",
   "metadata": {},
   "source": [
    "## 우선순위 큐 구현하기"
   ]
  },
  {
   "cell_type": "code",
   "execution_count": 51,
   "metadata": {
    "ExecuteTime": {
     "end_time": "2020-01-06T06:09:31.612038Z",
     "start_time": "2020-01-06T06:09:31.603038Z"
    }
   },
   "outputs": [],
   "source": [
    "import heapq\n",
    "\n",
    "class PriorityQueue(object): # object는 사실 안써줘도 된다.\n",
    "    def __init__(self):\n",
    "        self._queue = []\n",
    "        self._index = 0\n",
    "        \n",
    "    def push(self, item, priority):\n",
    "        heapq.heappush(self._queue, (-priority, self._index, item))\n",
    "        self._index += 1\n",
    "        \n",
    "    def pop(self):\n",
    "        return heapq.heappop(self._queue)[-1]\n",
    "    \n",
    "class Item:\n",
    "    def __init__(self, name):\n",
    "        self.name = name\n",
    "        \n",
    "    def __repr__(self):\n",
    "        return \"Item({0!r})\".format(self.name)\n",
    "    \n",
    "def test_priority_queue():\n",
    "    '''push와 pop은 모두 0(logN)이다.'''\n",
    "    q = PriorityQueue()\n",
    "    q.push(Item('test1'), 1)\n",
    "    q.push(Item('test2'), 4)\n",
    "    q.push(Item('test3'), 3)\n",
    "    assert(str(q.pop()) == \"Item('test2')\")\n",
    "    print(\"테스트 통과!\")"
   ]
  },
  {
   "cell_type": "code",
   "execution_count": 52,
   "metadata": {
    "ExecuteTime": {
     "end_time": "2020-01-06T06:09:35.144633Z",
     "start_time": "2020-01-06T06:09:35.138641Z"
    }
   },
   "outputs": [
    {
     "name": "stdout",
     "output_type": "stream",
     "text": [
      "테스트 통과!\n"
     ]
    }
   ],
   "source": [
    "test_priority_queue()"
   ]
  },
  {
   "cell_type": "markdown",
   "metadata": {},
   "source": [
    "# 연결 리스트\n",
    "연결 리스트는 값과 다음 노드에 대한 포인터(참조)가 포함된 노드로 이루어진 선형 리스트다. 마지막 노드는 null 값(파이썬에서는 None)을 갖는다. 또한, 연결 리스트로 스택(새 항목을 헤드에 추가)과 큐(새 항목을 테일에 추가)를 구현할 수 있다."
   ]
  },
  {
   "cell_type": "code",
   "execution_count": 7,
   "metadata": {
    "ExecuteTime": {
     "end_time": "2020-01-06T08:29:32.780673Z",
     "start_time": "2020-01-06T08:29:32.775664Z"
    }
   },
   "outputs": [],
   "source": [
    "class Node(object):\n",
    "    def __init__(self, value=None, pointer=None):\n",
    "        self.value = value\n",
    "        self.pointer = pointer\n",
    "\n",
    "    def getData(self):\n",
    "        return self.value\n",
    "\n",
    "    def getNext(self):\n",
    "        return self.pointer\n",
    "\n",
    "    def setData(self, newdata):\n",
    "        self.value = newdata\n",
    "\n",
    "    def setNext(self, newpointer):\n",
    "        self.pointer = newpointer"
   ]
  },
  {
   "cell_type": "code",
   "execution_count": 8,
   "metadata": {
    "ExecuteTime": {
     "end_time": "2020-01-06T08:29:33.038668Z",
     "start_time": "2020-01-06T08:29:33.033637Z"
    }
   },
   "outputs": [
    {
     "name": "stdout",
     "output_type": "stream",
     "text": [
      "a\n",
      "b\n",
      "aa\n",
      "e\n"
     ]
    }
   ],
   "source": [
    "L = Node(\"a\", Node(\"b\", Node(\"c\", Node(\"d\"))))\n",
    "assert(L.pointer.pointer.value == \"c\")\n",
    "\n",
    "print(L.getData())\n",
    "print(L.getNext().getData())\n",
    "L.setData(\"aa\")\n",
    "L.setNext(Node(\"e\"))\n",
    "print(L.getData())\n",
    "print(L.getNext().getData())"
   ]
  },
  {
   "cell_type": "code",
   "execution_count": 9,
   "metadata": {
    "ExecuteTime": {
     "end_time": "2020-01-06T08:29:54.992525Z",
     "start_time": "2020-01-06T08:29:54.982518Z"
    }
   },
   "outputs": [],
   "source": [
    "class LinkedListLIFO(object):\n",
    "    def __init__(self):\n",
    "        self.head = None\n",
    "        self.length = 0\n",
    "\n",
    "    # 헤드부터 각 노드의 값을 출력한다.\n",
    "    def _printList(self):\n",
    "        node = self.head\n",
    "        while node:\n",
    "            print(node.value, end=\" \")\n",
    "            node = node.pointer\n",
    "        print()\n",
    "\n",
    "    # 이전 노드(prev)를 기반으로 노드(node)를 삭제한다.\n",
    "    def _delete(self, prev, node):\n",
    "        self.length -= 1\n",
    "        if not prev:\n",
    "            self.head = node.pointer\n",
    "        else:\n",
    "            prev.pointer = node.pointer\n",
    "\n",
    "    # 새 노드를 추가한다. 다음 노드로 헤드를 가리키고,\n",
    "    # 헤드는 새 노드를 가리킨다.\n",
    "    def _add(self, value):\n",
    "        self.length += 1\n",
    "        self.head = Node(value, self.head)\n",
    "\n",
    "    # 인덱스로 노드를 찾는다.\n",
    "    def _find(self, index):\n",
    "        prev = None\n",
    "        node = self.head\n",
    "        i = 0\n",
    "        while node and i < index:\n",
    "            prev = node\n",
    "            node = node.pointer\n",
    "            i += 1\n",
    "        return node, prev, i\n",
    "\n",
    "    # 값으로 노드를 찾는다.\n",
    "    def _find_by_value(self, value):\n",
    "        prev = None\n",
    "        node = self.head\n",
    "        found = False\n",
    "        while node and not found:\n",
    "            if node.value == value:\n",
    "                found = True\n",
    "            else:\n",
    "                prev = node\n",
    "                node = node.pointer\n",
    "        return node, prev, found\n",
    "\n",
    "    # 인덱스로 노드를 찾아서 삭제한다.\n",
    "    def deleteNode(self, index):\n",
    "        node, prev, i = self._find(index)\n",
    "        if index == i:\n",
    "            self._delete(prev, node)\n",
    "        else:\n",
    "            print(\"인덱스 {0}에 해당하는 노드가 없습니다.\".format(index))\n",
    "\n",
    "    # 값으로 노드를 찾아서 삭제한다.\n",
    "    def deleteNodeByValue(self, value):\n",
    "        node, prev, found = self._find_by_value(value)\n",
    "        if found:\n",
    "            self._delete(prev, node)\n",
    "        else:\n",
    "            print(\"값 {0}에 해당하는 노드가 없습니다.\".format(value))"
   ]
  },
  {
   "cell_type": "code",
   "execution_count": 10,
   "metadata": {
    "ExecuteTime": {
     "end_time": "2020-01-06T08:30:06.325242Z",
     "start_time": "2020-01-06T08:30:06.316244Z"
    }
   },
   "outputs": [
    {
     "name": "stdout",
     "output_type": "stream",
     "text": [
      "연결 리스트 출력:\n",
      "4 3 2 1 \n",
      "인덱스가 2인 노드 삭제 후, 연결 리스트 출력:\n",
      "4 3 1 \n",
      "값이 3인 노드 삭제 후, 연결 리스트 출력:\n",
      "4 1 \n",
      "값이 15인 노드 추가 후, 연결 리스트 출력:\n",
      "15 4 1 \n",
      "모든 노드 모두 삭제 후, 연결 리스트 출력:\n",
      "\n"
     ]
    }
   ],
   "source": [
    "ll = LinkedListLIFO()\n",
    "for i in range(1, 5):\n",
    "    ll._add(i)\n",
    "print(\"연결 리스트 출력:\")\n",
    "ll._printList()\n",
    "print(\"인덱스가 2인 노드 삭제 후, 연결 리스트 출력:\")\n",
    "ll.deleteNode(2)\n",
    "ll._printList()\n",
    "print(\"값이 3인 노드 삭제 후, 연결 리스트 출력:\")\n",
    "ll.deleteNodeByValue(3)\n",
    "ll._printList()\n",
    "print(\"값이 15인 노드 추가 후, 연결 리스트 출력:\")\n",
    "ll._add(15)\n",
    "ll._printList()\n",
    "print(\"모든 노드 모두 삭제 후, 연결 리스트 출력:\")\n",
    "for i in range(ll.length-1, -1, -1):\n",
    "    ll.deleteNode(i)\n",
    "ll._printList()"
   ]
  },
  {
   "cell_type": "code",
   "execution_count": 11,
   "metadata": {
    "ExecuteTime": {
     "end_time": "2020-01-06T08:31:24.573552Z",
     "start_time": "2020-01-06T08:31:24.560575Z"
    }
   },
   "outputs": [],
   "source": [
    "class LinkedListFIFO(object):\n",
    "    def __init__(self):\n",
    "        self.head = None  # 헤드(머리)\n",
    "        self.length = 0\n",
    "        self.tail = None  # 테일(꼬리)\n",
    "\n",
    "    # 헤드부터 각 노드의 값을 출력한다.\n",
    "    def _printList(self):\n",
    "        node = self.head\n",
    "        while node:\n",
    "            print(node.value, end=\" \")\n",
    "            node = node.pointer\n",
    "        print()\n",
    "\n",
    "    # 첫 번째 위치에 노드를 추가한다.\n",
    "    def _addFirst(self, value):\n",
    "        self.length = 1\n",
    "        node = Node(value)\n",
    "        self.head = node\n",
    "        self.tail = node\n",
    "\n",
    "    # 첫 번째 위치의 노드를 삭제한다.\n",
    "    def _deleteFirst(self):\n",
    "        self.length = 0\n",
    "        self.head = None\n",
    "        self.tail = None\n",
    "        print(\"연결 리스트가 비었습니다.\")\n",
    "\n",
    "    # 새 노드를 추가한다. 테일이 있다면, 테일의 다음 노드는\n",
    "    # 새 노드를 가리키고, 테일은 새 노드를 가리킨다.\n",
    "    def _add(self, value):\n",
    "        self.length += 1\n",
    "        node = Node(value)\n",
    "        if self.tail:\n",
    "            self.tail.pointer = node\n",
    "        self.tail = node\n",
    "\n",
    "    # 새 노드를 추가한다.\n",
    "    def addNode(self, value):\n",
    "        if not self.head:\n",
    "            self._addFirst(value)\n",
    "        else:\n",
    "            self._add(value)\n",
    "\n",
    "    # 인덱스로 노드를 찾는다.\n",
    "    def _find(self, index):\n",
    "        prev = None\n",
    "        node = self.head\n",
    "        i = 0\n",
    "        while node and i < index:\n",
    "            prev = node\n",
    "            node = node.pointer\n",
    "            i += 1\n",
    "        return node, prev, i\n",
    "\n",
    "    # 값으로 노드를 찾는다.\n",
    "    def _find_by_value(self, value):\n",
    "        prev = None\n",
    "        node = self.head\n",
    "        found = False\n",
    "        while node and not found:\n",
    "            if node.value == value:\n",
    "                found = True\n",
    "            else:\n",
    "                prev = node\n",
    "                node = node.pointer\n",
    "        return node, prev, found\n",
    "\n",
    "    # 인덱스에 해당하는 노드를 삭제한다.\n",
    "    def deleteNode(self, index):\n",
    "        if not self.head or not self.head.pointer:\n",
    "            self._deleteFirst()\n",
    "        else:\n",
    "            node, prev, i = self._find(index)\n",
    "            if i == index and node:\n",
    "                self.length -= 1\n",
    "                if i == 0 or not prev:\n",
    "                    self.head = node.pointer\n",
    "                    self.tail = node.pointer\n",
    "                else:\n",
    "                    prev.pointer = node.pointer\n",
    "            else:\n",
    "                print(\"인덱스 {0}에 해당하는 노드가 없습니다.\".format(index))\n",
    "\n",
    "    # 값에 해당하는 노드를 삭제한다.\n",
    "    def deleteNodeByValue(self, value):\n",
    "        if not self.head or not self.head.pointer:\n",
    "            self._deleteFirst()\n",
    "        else:\n",
    "            node, prev, i = self._find_by_value(value)\n",
    "            if node and node.value == value:\n",
    "                self.length -= 1\n",
    "                if i == 0 or not prev:\n",
    "                    self.head = node.pointer\n",
    "                    self.tail = node.pointer\n",
    "                else:\n",
    "                    prev.pointer = node.pointer\n",
    "            else:\n",
    "                print(\"값 {0}에 해당하는 노드가 없습니다.\".format(value))"
   ]
  },
  {
   "cell_type": "code",
   "execution_count": 12,
   "metadata": {
    "ExecuteTime": {
     "end_time": "2020-01-06T08:31:38.307421Z",
     "start_time": "2020-01-06T08:31:38.299433Z"
    }
   },
   "outputs": [
    {
     "name": "stdout",
     "output_type": "stream",
     "text": [
      "연결 리스트 출력:\n",
      "1 2 3 4 \n",
      "인덱스가 2인 노드 삭제 후, 연결 리스트 출력:\n",
      "1 2 4 \n",
      "값이 15인 노드 추가 후, 연결 리스트 출력:\n",
      "1 2 4 15 \n",
      "모든 노드 모두 삭제 후, 연결 리스트 출력:\n",
      "연결 리스트가 비었습니다.\n",
      "\n"
     ]
    }
   ],
   "source": [
    "ll = LinkedListFIFO()\n",
    "for i in range(1, 5):\n",
    "    ll.addNode(i)\n",
    "print(\"연결 리스트 출력:\")\n",
    "ll._printList()\n",
    "print(\"인덱스가 2인 노드 삭제 후, 연결 리스트 출력:\")\n",
    "ll.deleteNode(2)\n",
    "ll._printList()\n",
    "print(\"값이 15인 노드 추가 후, 연결 리스트 출력:\")\n",
    "ll.addNode(15)\n",
    "ll._printList()\n",
    "print(\"모든 노드 모두 삭제 후, 연결 리스트 출력:\")\n",
    "for i in range(ll.length-1, -1, -1):\n",
    "    ll.deleteNode(i)\n",
    "ll._printList()"
   ]
  },
  {
   "cell_type": "markdown",
   "metadata": {},
   "source": [
    "## 해시 테이블\n",
    "해시 테이블은 키를 값에 연결하여, 하나의 키가 0 또는 1개의 값과 연관된다. 각 키는 해시 함수를 계산할 수 있어야 한다. 해시 테이블은 해시 버킷의 배열로 구성된다."
   ]
  },
  {
   "cell_type": "code",
   "execution_count": 13,
   "metadata": {
    "ExecuteTime": {
     "end_time": "2020-01-06T08:32:02.943597Z",
     "start_time": "2020-01-06T08:32:02.934606Z"
    }
   },
   "outputs": [],
   "source": [
    "class HashTableLL(object):\n",
    "    def __init__(self, size):\n",
    "        self.size = size\n",
    "        self.slots = []\n",
    "        self._createHashTable()\n",
    "\n",
    "    def _createHashTable(self):\n",
    "        for i in range(self.size):\n",
    "            self.slots.append(LinkedListFIFO())\n",
    "\n",
    "    def _find(self, item):\n",
    "        return item % self.size\n",
    "\n",
    "    def _add(self, item):\n",
    "        index = self._find(item)\n",
    "        self.slots[index].addNode(item)\n",
    "\n",
    "    def _delete(self, item):\n",
    "        index = self._find(item)\n",
    "        self.slots[index].deleteNodeByValue(item)\n",
    "\n",
    "    def _print(self):\n",
    "        for i in range(self.size):\n",
    "            print(\"슬롯(slot) {0}:\".format(i))\n",
    "            self.slots[i]._printList()\n",
    "\n",
    "\n",
    "def test_hash_tables():\n",
    "    H1 = HashTableLL(3)\n",
    "    for i in range(0, 20):\n",
    "        H1._add(i)\n",
    "    H1._print()\n",
    "    print(\"\\n항목 0, 1, 2를 삭제합니다.\")\n",
    "    H1._delete(0)\n",
    "    H1._delete(1)\n",
    "    H1._delete(2)\n",
    "    H1._print()"
   ]
  },
  {
   "cell_type": "code",
   "execution_count": 14,
   "metadata": {
    "ExecuteTime": {
     "end_time": "2020-01-06T08:32:04.678364Z",
     "start_time": "2020-01-06T08:32:04.672393Z"
    }
   },
   "outputs": [
    {
     "name": "stdout",
     "output_type": "stream",
     "text": [
      "슬롯(slot) 0:\n",
      "0 3 6 9 12 15 18 \n",
      "슬롯(slot) 1:\n",
      "1 4 7 10 13 16 19 \n",
      "슬롯(slot) 2:\n",
      "2 5 8 11 14 17 \n",
      "\n",
      "항목 0, 1, 2를 삭제합니다.\n",
      "슬롯(slot) 0:\n",
      "3 6 9 12 15 18 \n",
      "슬롯(slot) 1:\n",
      "4 7 10 13 16 19 \n",
      "슬롯(slot) 2:\n",
      "5 8 11 14 17 \n"
     ]
    }
   ],
   "source": [
    "test_hash_tables()"
   ]
  },
  {
   "cell_type": "markdown",
   "metadata": {},
   "source": [
    "# 연습문제"
   ]
  },
  {
   "cell_type": "code",
   "execution_count": null,
   "metadata": {},
   "outputs": [],
   "source": []
  }
 ],
 "metadata": {
  "kernelspec": {
   "display_name": "Python 3",
   "language": "python",
   "name": "python3"
  },
  "language_info": {
   "codemirror_mode": {
    "name": "ipython",
    "version": 3
   },
   "file_extension": ".py",
   "mimetype": "text/x-python",
   "name": "python",
   "nbconvert_exporter": "python",
   "pygments_lexer": "ipython3",
   "version": "3.6.9"
  },
  "toc": {
   "base_numbering": 1,
   "nav_menu": {},
   "number_sections": true,
   "sideBar": true,
   "skip_h1_title": false,
   "title_cell": "Table of Contents",
   "title_sidebar": "Contents",
   "toc_cell": false,
   "toc_position": {},
   "toc_section_display": true,
   "toc_window_display": false
  },
  "varInspector": {
   "cols": {
    "lenName": 16,
    "lenType": 16,
    "lenVar": 40
   },
   "kernels_config": {
    "python": {
     "delete_cmd_postfix": "",
     "delete_cmd_prefix": "del ",
     "library": "var_list.py",
     "varRefreshCmd": "print(var_dic_list())"
    },
    "r": {
     "delete_cmd_postfix": ") ",
     "delete_cmd_prefix": "rm(",
     "library": "var_list.r",
     "varRefreshCmd": "cat(var_dic_list()) "
    }
   },
   "types_to_exclude": [
    "module",
    "function",
    "builtin_function_or_method",
    "instance",
    "_Feature"
   ],
   "window_display": false
  }
 },
 "nbformat": 4,
 "nbformat_minor": 2
}
