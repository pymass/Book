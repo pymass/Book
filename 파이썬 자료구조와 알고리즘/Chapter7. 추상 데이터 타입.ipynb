{
 "cells": [
  {
   "cell_type": "markdown",
   "metadata": {},
   "source": [
    "# 스택\n",
    "스택은 배열의 끝에서만 데이터를 접근할 수 있는 선형 자료구조다. 스택은 배열 인덱스 접근이 제한되며, 후입선출 구조다.\n",
    "\n",
    "- push : 스택 맨 끝(맨 위)에 항목을 삽입한다.\n",
    "- pop : 스택 맨 끝 항목을 반환하는 동시에 제거한다.\n",
    "- top/peek : 스택 맨 끝 항목을 조회한다.\n",
    "- empty : 스택이 비어 있는지 확인한다.\n",
    "- size : 스택 크기를 확인한다."
   ]
  },
  {
   "cell_type": "code",
   "execution_count": 65,
   "metadata": {
    "ExecuteTime": {
     "end_time": "2020-01-07T04:53:25.094444Z",
     "start_time": "2020-01-07T04:53:25.088475Z"
    }
   },
   "outputs": [],
   "source": [
    "class Stack(object):\n",
    "    def __init__(self):\n",
    "        self.items = []\n",
    "        \n",
    "    def push(self, value):\n",
    "        self.items.append(value)\n",
    "        \n",
    "    def isEmpty(self):\n",
    "        return not bool(self.items)\n",
    "    \n",
    "    def pop(self):\n",
    "        value = self.items.pop()\n",
    "        if value is not None:\n",
    "            return value\n",
    "        else:\n",
    "            print('Stack is empty.')\n",
    "            \n",
    "    def size(self):\n",
    "        return len(self.items)\n",
    "    \n",
    "    def peek(self):\n",
    "        if self.items:\n",
    "            return self.items[-1]\n",
    "        else:\n",
    "            print('Stack is empty.')\n",
    "            \n",
    "    def __repr__(self):\n",
    "        return repr(self.items) #repr 메서드는 표현해준다."
   ]
  },
  {
   "cell_type": "code",
   "execution_count": 2,
   "metadata": {
    "ExecuteTime": {
     "end_time": "2020-01-07T04:33:40.469218Z",
     "start_time": "2020-01-07T04:33:40.457207Z"
    }
   },
   "outputs": [
    {
     "name": "stdout",
     "output_type": "stream",
     "text": [
      "스택이 비었나요? True\n",
      "스택에 숫자 0~9를 추가합니다.\n",
      "스택 크기: 10\n",
      "peek: 9\n",
      "pop: 9\n",
      "peek: 8\n",
      "스택이 비었나요? False\n",
      "[0, 1, 2, 3, 4, 5, 6, 7, 8]\n"
     ]
    }
   ],
   "source": [
    "stack = Stack()\n",
    "print(\"스택이 비었나요? {0}\".format(stack.isEmpty()))\n",
    "print(\"스택에 숫자 0~9를 추가합니다.\")\n",
    "for i in range(10):\n",
    "    stack.push(i)\n",
    "print(\"스택 크기: {0}\".format(stack.size()))\n",
    "print(\"peek: {0}\".format(stack.peek()))\n",
    "print(\"pop: {0}\".format(stack.pop()))\n",
    "print(\"peek: {0}\".format(stack.peek()))\n",
    "print(\"스택이 비었나요? {0}\".format(stack.isEmpty()))\n",
    "print(stack)"
   ]
  },
  {
   "cell_type": "code",
   "execution_count": 3,
   "metadata": {
    "ExecuteTime": {
     "end_time": "2020-01-07T04:33:40.483207Z",
     "start_time": "2020-01-07T04:33:40.473210Z"
    }
   },
   "outputs": [],
   "source": [
    "# 노드의 컨테이너로 스택을 구현\n",
    "class Node(object):\n",
    "    def __init__(self, value=None, pointer=None):\n",
    "        self.value = value\n",
    "        self.pointer = pointer\n",
    "        \n",
    "class Stack(object):\n",
    "    def __init__(self):\n",
    "        self.head = None\n",
    "        self.count = 0\n",
    "        \n",
    "    def isEmpty(self):\n",
    "        return not bool(self.head)\n",
    "    \n",
    "    def push(self, item):\n",
    "        self.head = Node(item, self.head)\n",
    "        self.count += 1\n",
    "        \n",
    "    def pop(self):\n",
    "        if self.count > 0 and self.head:\n",
    "            node = self.head\n",
    "            self.head = node.pointer\n",
    "            self.count -= 1\n",
    "            return node.value\n",
    "        else:\n",
    "            print(\"Stack is empty.\")\n",
    "            \n",
    "    def peek(self):\n",
    "        if self.count > 0 and self.head:\n",
    "            return self.head.value\n",
    "        else:\n",
    "            print(\"Stack is empty.\")\n",
    "            \n",
    "    def size(self):\n",
    "        return self.count\n",
    "    \n",
    "    def _printList(self):\n",
    "        node = self.head\n",
    "        while node:\n",
    "            print(node.value, end=\" \")\n",
    "            node = node.pointer\n",
    "        print()"
   ]
  },
  {
   "cell_type": "code",
   "execution_count": 4,
   "metadata": {
    "ExecuteTime": {
     "end_time": "2020-01-07T04:33:40.501239Z",
     "start_time": "2020-01-07T04:33:40.486216Z"
    }
   },
   "outputs": [
    {
     "name": "stdout",
     "output_type": "stream",
     "text": [
      "스택이 비었나요? True\n",
      "스택에 숫자 0~9를 추가합니다.\n",
      "9 8 7 6 5 4 3 2 1 0 \n",
      "스택 크기: 10\n",
      "peek: 9\n",
      "pop: 9\n",
      "peek: 8\n",
      "스택이 비었나요? False\n",
      "8 7 6 5 4 3 2 1 0 \n"
     ]
    }
   ],
   "source": [
    "stack = Stack()\n",
    "print(\"스택이 비었나요? {0}\".format(stack.isEmpty()))\n",
    "print(\"스택에 숫자 0~9를 추가합니다.\")\n",
    "for i in range(10):\n",
    "    stack.push(i)\n",
    "stack._printList()\n",
    "print(\"스택 크기: {0}\".format(stack.size()))\n",
    "print(\"peek: {0}\".format(stack.peek()))\n",
    "print(\"pop: {0}\".format(stack.pop()))\n",
    "print(\"peek: {0}\".format(stack.peek()))\n",
    "print(\"스택이 비었나요? {0}\".format(stack.isEmpty()))\n",
    "stack._printList()"
   ]
  },
  {
   "cell_type": "markdown",
   "metadata": {},
   "source": [
    "# 큐\n",
    "큐는 스택과 다르게 항목이 들어온 순서대로 접근 가능하다. 즉, 먼저 들어온 데이터가 먼저 나가는 선입선출 구조다.\n",
    "\n",
    "- enqueue : 큐 뒤쪽에 항목을 삽입한다.\n",
    "- dequeue : 큐 앞쪽의 항목을 반환하고, 제거한다.\n",
    "- peek/front : 큐 앞쪽의 항목을 조회한다.\n",
    "- empty : 큐가 비어 있는지 확인한다.\n",
    "- size : 큐의 크기를 확인한다."
   ]
  },
  {
   "cell_type": "code",
   "execution_count": 26,
   "metadata": {
    "ExecuteTime": {
     "end_time": "2020-01-07T04:37:05.597247Z",
     "start_time": "2020-01-07T04:37:05.590217Z"
    }
   },
   "outputs": [],
   "source": [
    "class Queue(object):\n",
    "    def __init__(self):\n",
    "        self.items = []\n",
    "        \n",
    "    def isEmpty(self):\n",
    "        return not bool(self.items)\n",
    "    \n",
    "    def enqueue(self, item):\n",
    "        self.items.insert(0, item)\n",
    "        \n",
    "    def dequeue(self):\n",
    "        value = self.items.pop()\n",
    "        if value is not None:\n",
    "            return value\n",
    "        else:\n",
    "            print(\"Queue is empty.\")\n",
    "            \n",
    "    def size(self):\n",
    "        return len(self.items)\n",
    "    \n",
    "    def peek(self):\n",
    "        if self.items:\n",
    "            return self.items[-1]\n",
    "        else:\n",
    "            print(\"Queue is empty\")\n",
    "            \n",
    "    def __repr__(self):\n",
    "        return repr(self.items)"
   ]
  },
  {
   "cell_type": "code",
   "execution_count": 22,
   "metadata": {
    "ExecuteTime": {
     "end_time": "2020-01-07T04:36:24.167585Z",
     "start_time": "2020-01-07T04:36:24.158542Z"
    }
   },
   "outputs": [
    {
     "name": "stdout",
     "output_type": "stream",
     "text": [
      "큐가 비었나요? True\n",
      "큐에 숫자 0~9를 추가합니다.\n",
      "큐 크기: 10\n",
      "peek: 0\n",
      "dequeue: 0\n",
      "peek: 1\n",
      "큐가 비었나요? False\n",
      "[9, 8, 7, 6, 5, 4, 3, 2, 1]\n"
     ]
    }
   ],
   "source": [
    "queue = Queue()\n",
    "print(\"큐가 비었나요? {0}\".format(queue.isEmpty()))\n",
    "print(\"큐에 숫자 0~9를 추가합니다.\")\n",
    "for i in range(10):\n",
    "    queue.enqueue(i)\n",
    "print(\"큐 크기: {0}\".format(queue.size()))\n",
    "print(\"peek: {0}\".format(queue.peek()))\n",
    "print(\"dequeue: {0}\".format(queue.dequeue()))\n",
    "print(\"peek: {0}\".format(queue.peek()))\n",
    "print(\"큐가 비었나요? {0}\".format(queue.isEmpty()))\n",
    "print(queue)"
   ]
  },
  {
   "cell_type": "code",
   "execution_count": 23,
   "metadata": {
    "ExecuteTime": {
     "end_time": "2020-01-07T04:36:26.141270Z",
     "start_time": "2020-01-07T04:36:26.130241Z"
    }
   },
   "outputs": [],
   "source": [
    "# 두 개의 큐를 사용한 효율적인 큐\n",
    "class Queue(object):\n",
    "    def __init__(self):\n",
    "        self.in_stack = []\n",
    "        self.out_stack = []\n",
    "        \n",
    "    def _transfer(self):\n",
    "        while self.in_stack:\n",
    "            self.out_stack.append(self.in_stack.pop())\n",
    "            \n",
    "    def enqueue(self, item):\n",
    "        return self.in_stack.append(item)\n",
    "    \n",
    "    def dequeue(self):\n",
    "        if not self.out_stack:\n",
    "            self._transfer()\n",
    "        if self.out_stack:\n",
    "            return self.out_stack.pop()\n",
    "        else:\n",
    "            print(\"Queue is empty!\")\n",
    "            \n",
    "    def size(self):\n",
    "        return len(self.in_stack) + len(self.out_stack)\n",
    "    \n",
    "    def peek(self):\n",
    "        if not self.out_stack:\n",
    "            self._transfer()\n",
    "        if self.out_stack:\n",
    "            return self.out_stack[-1]\n",
    "        else:\n",
    "            print(\"Queue is empty\")\n",
    "            \n",
    "    def __repr__(self):\n",
    "        if not self.out_stack:\n",
    "            self._transfer()\n",
    "        if self.out_stack:\n",
    "            return repr(self.out_stack)\n",
    "        else:\n",
    "            print(\"Queue is empty\")\n",
    "            \n",
    "    def isEmpty(self):\n",
    "        return not (bool(self.in_stack) or bool(self.out_stack))"
   ]
  },
  {
   "cell_type": "code",
   "execution_count": 24,
   "metadata": {
    "ExecuteTime": {
     "end_time": "2020-01-07T04:36:26.688325Z",
     "start_time": "2020-01-07T04:36:26.680307Z"
    }
   },
   "outputs": [
    {
     "name": "stdout",
     "output_type": "stream",
     "text": [
      "큐가 비었나요? True\n",
      "큐에 숫자 0~9를 추가합니다.\n",
      "큐 크기: 10\n",
      "peek: 0\n",
      "dequeue: 0\n",
      "peek: 1\n",
      "큐가 비었나요? False\n",
      "[9, 8, 7, 6, 5, 4, 3, 2, 1]\n"
     ]
    }
   ],
   "source": [
    "queue = Queue()\n",
    "print(\"큐가 비었나요? {0}\".format(queue.isEmpty()))\n",
    "print(\"큐에 숫자 0~9를 추가합니다.\")\n",
    "for i in range(10):\n",
    "    queue.enqueue(i)\n",
    "print(\"큐 크기: {0}\".format(queue.size()))\n",
    "print(\"peek: {0}\".format(queue.peek()))\n",
    "print(\"dequeue: {0}\".format(queue.dequeue()))\n",
    "print(\"peek: {0}\".format(queue.peek()))\n",
    "print(\"큐가 비었나요? {0}\".format(queue.isEmpty()))\n",
    "print(queue)"
   ]
  },
  {
   "cell_type": "code",
   "execution_count": 9,
   "metadata": {
    "ExecuteTime": {
     "end_time": "2020-01-07T04:33:40.565214Z",
     "start_time": "2020-01-07T04:33:40.554212Z"
    }
   },
   "outputs": [],
   "source": [
    "# 노드의 컨테이너로 큐를 구현\n",
    "class Node(object):\n",
    "    def __init__(self, value=None, pointer=None):\n",
    "        self.value = value\n",
    "        self.pointer = None\n",
    "        \n",
    "class LinkedQueue(object):\n",
    "    def __init__(self):\n",
    "        self.head = None\n",
    "        self.tail = None\n",
    "        self.count = 0\n",
    "\n",
    "    def isEmpty(self):\n",
    "        return not bool(self.head)\n",
    "    \n",
    "    def dequeue(self):\n",
    "        if self.head:\n",
    "            value = self.head.value\n",
    "            self.head = self.head.pointer\n",
    "            self.count -= 1\n",
    "            return value\n",
    "        else:\n",
    "            print(\"Queue is empty\")\n",
    "            \n",
    "    def enqueue(self, value):\n",
    "        node = Node(value)\n",
    "        if not self.head:\n",
    "            self.head = node\n",
    "            self.tail = node\n",
    "        else:\n",
    "            if self.tail:\n",
    "                self.tail.pointer = node\n",
    "            self.tail = node\n",
    "        self.count += 1\n",
    "        \n",
    "    def size(self):\n",
    "        return self.count\n",
    "    \n",
    "    def peek(self):\n",
    "        return self.head.value\n",
    "    \n",
    "    def print(self):\n",
    "        node = self.head\n",
    "        while node:\n",
    "            print(node.value, end=\" \")\n",
    "            node = node.pointer\n",
    "        print()"
   ]
  },
  {
   "cell_type": "code",
   "execution_count": 10,
   "metadata": {
    "ExecuteTime": {
     "end_time": "2020-01-07T04:33:40.581211Z",
     "start_time": "2020-01-07T04:33:40.567210Z"
    }
   },
   "outputs": [
    {
     "name": "stdout",
     "output_type": "stream",
     "text": [
      "큐가 비었나요? True\n",
      "큐에 숫자 0~9를 추가합니다.\n",
      "큐가 비었나요? False\n",
      "0 1 2 3 4 5 6 7 8 9 \n",
      "큐 크기: 10\n",
      "peek: 0\n",
      "dequeue: 0\n",
      "peek: 1\n",
      "1 2 3 4 5 6 7 8 9 \n"
     ]
    }
   ],
   "source": [
    "queue = LinkedQueue()\n",
    "print(\"큐가 비었나요? {0}\".format(queue.isEmpty()))\n",
    "print(\"큐에 숫자 0~9를 추가합니다.\")\n",
    "for i in range(10):\n",
    "    queue.enqueue(i)\n",
    "print(\"큐가 비었나요? {0}\".format(queue.isEmpty()))\n",
    "queue.print()\n",
    "\n",
    "print(\"큐 크기: {0}\".format(queue.size()))\n",
    "print(\"peek: {0}\".format(queue.peek()))\n",
    "print(\"dequeue: {0}\".format(queue.dequeue()))\n",
    "print(\"peek: {0}\".format(queue.peek()))\n",
    "queue.print()"
   ]
  },
  {
   "cell_type": "markdown",
   "metadata": {},
   "source": [
    "# 데크\n",
    "데크는 스택과 큐의 결합체로 볼 수 있다. 양쪽 끝에서 항목의 조회, 삽입, 삭제가 가능하다."
   ]
  },
  {
   "cell_type": "code",
   "execution_count": 27,
   "metadata": {
    "ExecuteTime": {
     "end_time": "2020-01-07T04:37:57.249982Z",
     "start_time": "2020-01-07T04:37:57.244969Z"
    }
   },
   "outputs": [],
   "source": [
    "# 위에 구현한 Queue를 사용\n",
    "class Deque(Queue):\n",
    "    def enqueue_back(self, item):\n",
    "        self.items.append(item)\n",
    "        \n",
    "    def dequeue_front(self):\n",
    "        value = self.items.pop(0)\n",
    "        if value is not None:\n",
    "            return value\n",
    "        else:\n",
    "            print(\"Deque is empty\")"
   ]
  },
  {
   "cell_type": "code",
   "execution_count": 28,
   "metadata": {
    "ExecuteTime": {
     "end_time": "2020-01-07T04:37:57.575013Z",
     "start_time": "2020-01-07T04:37:57.564978Z"
    }
   },
   "outputs": [
    {
     "name": "stdout",
     "output_type": "stream",
     "text": [
      "데크가 비었나요? True\n",
      "데크에 숫자 0~9를 추가합니다.\n",
      "데크 크기: 10\n",
      "peek: 0\n",
      "dequeue: 0\n",
      "peek: 1\n",
      "데크가 비었나요? False\n",
      "데크: [9, 8, 7, 6, 5, 4, 3, 2, 1]\n",
      "dequeue: 9\n",
      "peek: 1\n",
      "데크: [8, 7, 6, 5, 4, 3, 2, 1]\n",
      "enqueue_back(50)을 수행합니다.\n",
      "peek: 50\n",
      "데크: [8, 7, 6, 5, 4, 3, 2, 1, 50]\n"
     ]
    }
   ],
   "source": [
    "deque = Deque()\n",
    "print(\"데크가 비었나요? {0}\".format(deque.isEmpty()))\n",
    "print(\"데크에 숫자 0~9를 추가합니다.\")\n",
    "for i in range(10):\n",
    "    deque.enqueue(i)\n",
    "print(\"데크 크기: {0}\".format(deque.size()))\n",
    "print(\"peek: {0}\".format(deque.peek()))\n",
    "print(\"dequeue: {0}\".format(deque.dequeue()))\n",
    "print(\"peek: {0}\".format(deque.peek()))\n",
    "print(\"데크가 비었나요? {0}\".format(deque.isEmpty()))\n",
    "print(\"데크: {0}\".format(deque))\n",
    "print(\"dequeue: {0}\".format(deque.dequeue_front()))\n",
    "print(\"peek: {0}\".format(deque.peek()))\n",
    "print(\"데크: {0}\".format(deque))\n",
    "print(\"enqueue_back(50)을 수행합니다.\")\n",
    "deque.enqueue_back(50)\n",
    "print(\"peek: {0}\".format(deque.peek()))\n",
    "print(\"데크: {0}\".format(deque))"
   ]
  },
  {
   "cell_type": "code",
   "execution_count": 29,
   "metadata": {
    "ExecuteTime": {
     "end_time": "2020-01-07T04:38:02.884083Z",
     "start_time": "2020-01-07T04:38:02.872087Z"
    }
   },
   "outputs": [
    {
     "data": {
      "text/plain": [
       "deque(['버피', '잰더', '윌로'])"
      ]
     },
     "execution_count": 29,
     "metadata": {},
     "output_type": "execute_result"
    }
   ],
   "source": [
    "# collections 모듈에 deque가 구현되어 있다.\n",
    "from collections import deque\n",
    "q = deque([\"버피\", \"잰더\", \"윌로\"])\n",
    "q"
   ]
  },
  {
   "cell_type": "code",
   "execution_count": 30,
   "metadata": {
    "ExecuteTime": {
     "end_time": "2020-01-07T04:38:03.096639Z",
     "start_time": "2020-01-07T04:38:03.090634Z"
    }
   },
   "outputs": [
    {
     "data": {
      "text/plain": [
       "deque(['버피', '잰더', '윌로', '자일스'])"
      ]
     },
     "execution_count": 30,
     "metadata": {},
     "output_type": "execute_result"
    }
   ],
   "source": [
    "q.append(\"자일스\")\n",
    "q"
   ]
  },
  {
   "cell_type": "code",
   "execution_count": 31,
   "metadata": {
    "ExecuteTime": {
     "end_time": "2020-01-07T04:38:03.435090Z",
     "start_time": "2020-01-07T04:38:03.430095Z"
    }
   },
   "outputs": [
    {
     "data": {
      "text/plain": [
       "'버피'"
      ]
     },
     "execution_count": 31,
     "metadata": {},
     "output_type": "execute_result"
    }
   ],
   "source": [
    "q.popleft()"
   ]
  },
  {
   "cell_type": "code",
   "execution_count": 32,
   "metadata": {
    "ExecuteTime": {
     "end_time": "2020-01-07T04:38:03.661086Z",
     "start_time": "2020-01-07T04:38:03.655091Z"
    }
   },
   "outputs": [
    {
     "data": {
      "text/plain": [
       "deque(['잰더', '윌로'])"
      ]
     },
     "execution_count": 32,
     "metadata": {},
     "output_type": "execute_result"
    }
   ],
   "source": [
    "q.pop()\n",
    "q"
   ]
  },
  {
   "cell_type": "code",
   "execution_count": 33,
   "metadata": {
    "ExecuteTime": {
     "end_time": "2020-01-07T04:38:03.856182Z",
     "start_time": "2020-01-07T04:38:03.851184Z"
    }
   },
   "outputs": [
    {
     "data": {
      "text/plain": [
       "deque(['엔젤', '잰더', '윌로'])"
      ]
     },
     "execution_count": 33,
     "metadata": {},
     "output_type": "execute_result"
    }
   ],
   "source": [
    "q.appendleft('엔젤')\n",
    "q"
   ]
  },
  {
   "cell_type": "code",
   "execution_count": 34,
   "metadata": {
    "ExecuteTime": {
     "end_time": "2020-01-07T04:38:04.078186Z",
     "start_time": "2020-01-07T04:38:04.072183Z"
    }
   },
   "outputs": [
    {
     "data": {
      "text/plain": [
       "deque(['윌로', '엔젤', '잰더'])"
      ]
     },
     "execution_count": 34,
     "metadata": {},
     "output_type": "execute_result"
    }
   ],
   "source": [
    "q.rotate(1)\n",
    "q"
   ]
  },
  {
   "cell_type": "code",
   "execution_count": 35,
   "metadata": {
    "ExecuteTime": {
     "end_time": "2020-01-07T04:38:04.295217Z",
     "start_time": "2020-01-07T04:38:04.290178Z"
    }
   },
   "outputs": [
    {
     "data": {
      "text/plain": [
       "deque(['엔젤', '잰더', '윌로'])"
      ]
     },
     "execution_count": 35,
     "metadata": {},
     "output_type": "execute_result"
    }
   ],
   "source": [
    "q.rotate(2)\n",
    "q"
   ]
  },
  {
   "cell_type": "code",
   "execution_count": 36,
   "metadata": {
    "ExecuteTime": {
     "end_time": "2020-01-07T04:38:04.537178Z",
     "start_time": "2020-01-07T04:38:04.530186Z"
    }
   },
   "outputs": [
    {
     "data": {
      "text/plain": [
       "deque(['잰더', '윌로', '엔젤'])"
      ]
     },
     "execution_count": 36,
     "metadata": {},
     "output_type": "execute_result"
    }
   ],
   "source": [
    "q.rotate(-1)\n",
    "q"
   ]
  },
  {
   "cell_type": "markdown",
   "metadata": {},
   "source": [
    "# 우선순위 큐와 힙\n",
    "우선순위 큐는 일반 스택과 큐와 비슷한 추상 데이터 타입이지만, 각 항목마다 연관된 우선순위가 있다. 두 항목의 우선순위가 같으면 큐의 순서를 따른다. 우선순위 큐는 힙을 사용하여 구현한다."
   ]
  },
  {
   "cell_type": "markdown",
   "metadata": {},
   "source": [
    "## 힙\n",
    "힙은 각 노드가 하위 노드보다 작은(또는 큰) 이진 트리다. 힙은 일반적으로, 리스트에서 가장 작은(또는 가장 큰) 요소에 반복적으로 접근하는 프로그램에 유용하다."
   ]
  },
  {
   "cell_type": "code",
   "execution_count": 37,
   "metadata": {
    "ExecuteTime": {
     "end_time": "2020-01-07T04:38:05.350180Z",
     "start_time": "2020-01-07T04:38:05.343183Z"
    }
   },
   "outputs": [
    {
     "data": {
      "text/plain": [
       "[1, 4, 8, 6]"
      ]
     },
     "execution_count": 37,
     "metadata": {},
     "output_type": "execute_result"
    }
   ],
   "source": [
    "# heapq 모듈\n",
    "\n",
    "import heapq\n",
    "list1 = [4, 6, 8, 1]\n",
    "heapq.heapify(list1) # 리스트를 힙으로 변환\n",
    "list1"
   ]
  },
  {
   "cell_type": "code",
   "execution_count": 38,
   "metadata": {
    "ExecuteTime": {
     "end_time": "2020-01-07T04:38:05.598586Z",
     "start_time": "2020-01-07T04:38:05.591586Z"
    }
   },
   "outputs": [
    {
     "data": {
      "text/plain": [
       "[(1, 'food'), (2, 'have fun'), (3, 'work'), (4, 'study')]"
      ]
     },
     "execution_count": 38,
     "metadata": {},
     "output_type": "execute_result"
    }
   ],
   "source": [
    "h = []\n",
    "heapq.heappush(h, (1, 'food'))\n",
    "heapq.heappush(h, (2, 'have fun'))\n",
    "heapq.heappush(h, (3, 'work'))\n",
    "heapq.heappush(h, (4, 'study'))\n",
    "h"
   ]
  },
  {
   "cell_type": "code",
   "execution_count": 39,
   "metadata": {
    "ExecuteTime": {
     "end_time": "2020-01-07T04:38:06.010700Z",
     "start_time": "2020-01-07T04:38:06.004707Z"
    }
   },
   "outputs": [
    {
     "data": {
      "text/plain": [
       "[1, 4, 8, 6]"
      ]
     },
     "execution_count": 39,
     "metadata": {},
     "output_type": "execute_result"
    }
   ],
   "source": [
    "list1"
   ]
  },
  {
   "cell_type": "code",
   "execution_count": 40,
   "metadata": {
    "ExecuteTime": {
     "end_time": "2020-01-07T04:38:06.265695Z",
     "start_time": "2020-01-07T04:38:06.259694Z"
    }
   },
   "outputs": [
    {
     "data": {
      "text/plain": [
       "1"
      ]
     },
     "execution_count": 40,
     "metadata": {},
     "output_type": "execute_result"
    }
   ],
   "source": [
    "heapq.heappop(list1) # 가장 작은 항목을 제거하고 반환"
   ]
  },
  {
   "cell_type": "code",
   "execution_count": 41,
   "metadata": {
    "ExecuteTime": {
     "end_time": "2020-01-07T04:38:07.019102Z",
     "start_time": "2020-01-07T04:38:07.012101Z"
    }
   },
   "outputs": [
    {
     "data": {
      "text/plain": [
       "[4, 6, 8]"
      ]
     },
     "execution_count": 41,
     "metadata": {},
     "output_type": "execute_result"
    }
   ],
   "source": [
    "list1"
   ]
  },
  {
   "cell_type": "code",
   "execution_count": 42,
   "metadata": {
    "ExecuteTime": {
     "end_time": "2020-01-07T04:38:07.344818Z",
     "start_time": "2020-01-07T04:38:07.338845Z"
    }
   },
   "outputs": [
    {
     "name": "stdout",
     "output_type": "stream",
     "text": [
      "1\n",
      "2\n",
      "3\n",
      "4\n",
      "5\n",
      "6\n"
     ]
    }
   ],
   "source": [
    "for x in heapq.merge([1,3,5],[2,4,6]):\n",
    "    print(x)"
   ]
  },
  {
   "cell_type": "markdown",
   "metadata": {},
   "source": [
    "## 최대 힙 구현하기"
   ]
  },
  {
   "cell_type": "code",
   "execution_count": 43,
   "metadata": {
    "ExecuteTime": {
     "end_time": "2020-01-07T04:38:08.025709Z",
     "start_time": "2020-01-07T04:38:08.008736Z"
    }
   },
   "outputs": [],
   "source": [
    "class Heapify(object):\n",
    "    def __init__(self, data=None):\n",
    "        self.data = data or []\n",
    "        for i in range(len(data)//2, -1,-1):\n",
    "            self.__max_heapify__(i)\n",
    "            \n",
    "    def __repr__(self):\n",
    "        return repr(self.data)\n",
    "    \n",
    "    def parent(self, i):\n",
    "        if i & 1:\n",
    "            return i >> 1 # x >> y : x를 2**y으로 나눈다 (반대인 <<는 x에 2**y를 곱한다) \n",
    "        else:\n",
    "            return (i >> 1) - 1\n",
    "        \n",
    "    def left_child(self, i):\n",
    "        return (i << 1) + 1\n",
    "    \n",
    "    def rigth_child(self, i):\n",
    "        return (i << 1) + 2\n",
    "    \n",
    "    def __max_heapify__(self, i):\n",
    "        largest = i # 현재 노드\n",
    "        left = self.left_child(i)\n",
    "        right = self.rigth_child(i)\n",
    "        n = len(self.data)\n",
    "        \n",
    "        # 왼쪽 자식\n",
    "        largest = (left < n and self.data[left] > self.data[i]) and left or i\n",
    "        # 오른쪽 자식\n",
    "        largest = (right < n and self.data[right] > self.data[largest]) and right or largest\n",
    "        \n",
    "        # 현재 노드가 자식들보다 크다면 Skip, 자식이 크다면 Swap\n",
    "        if i is not largest:\n",
    "            self.data[i], self.data[largest] = self.data[largest], self.data[i]\n",
    "            # print(self.data)\n",
    "            self.__max_heapify__(largest)\n",
    "            \n",
    "    def extract_max(self):\n",
    "        n = len(self.data)\n",
    "        max_element = self.data[0]\n",
    "        # 첫 번째 노드에 마지막 노드를 삽입\n",
    "        self.data[0] = self.data[n - 1]\n",
    "        self.data = self.data[:n - 1]\n",
    "        self.__max_heapify__(0)\n",
    "        return max_element\n",
    "    \n",
    "    def insert(self, item):\n",
    "        i = len(self.data)\n",
    "        self.data.append(item)\n",
    "        while (i != 0) and item > self.data[self.parent(i)]:\n",
    "            print(self.data)\n",
    "            self.data[i] = self.data[self.parent(i)]\n",
    "            i = self.parent(i)\n",
    "        self.data[i] = item\n",
    "        \n",
    "def test_heapify():\n",
    "    l1 = [3, 2, 5, 1, 7, 8, 2]\n",
    "    h = Heapify(l1)\n",
    "    assert(h.extract_max() == 8)\n",
    "    print(\"테스트 통과!\")"
   ]
  },
  {
   "cell_type": "code",
   "execution_count": 44,
   "metadata": {
    "ExecuteTime": {
     "end_time": "2020-01-07T04:38:08.911052Z",
     "start_time": "2020-01-07T04:38:08.907055Z"
    }
   },
   "outputs": [
    {
     "name": "stdout",
     "output_type": "stream",
     "text": [
      "테스트 통과!\n"
     ]
    }
   ],
   "source": [
    "test_heapify()"
   ]
  },
  {
   "cell_type": "markdown",
   "metadata": {},
   "source": [
    "## 우선순위 큐 구현하기"
   ]
  },
  {
   "cell_type": "code",
   "execution_count": 45,
   "metadata": {
    "ExecuteTime": {
     "end_time": "2020-01-07T04:38:09.756654Z",
     "start_time": "2020-01-07T04:38:09.747629Z"
    }
   },
   "outputs": [],
   "source": [
    "import heapq\n",
    "\n",
    "class PriorityQueue(object): # object는 사실 안써줘도 된다.\n",
    "    def __init__(self):\n",
    "        self._queue = []\n",
    "        self._index = 0\n",
    "        \n",
    "    def push(self, item, priority):\n",
    "        heapq.heappush(self._queue, (-priority, self._index, item))\n",
    "        self._index += 1\n",
    "        \n",
    "    def pop(self):\n",
    "        return heapq.heappop(self._queue)[-1]\n",
    "    \n",
    "class Item:\n",
    "    def __init__(self, name):\n",
    "        self.name = name\n",
    "        \n",
    "    def __repr__(self):\n",
    "        return \"Item({0!r})\".format(self.name)\n",
    "    \n",
    "def test_priority_queue():\n",
    "    '''push와 pop은 모두 0(logN)이다.'''\n",
    "    q = PriorityQueue()\n",
    "    q.push(Item('test1'), 1)\n",
    "    q.push(Item('test2'), 4)\n",
    "    q.push(Item('test3'), 3)\n",
    "    assert(str(q.pop()) == \"Item('test2')\")\n",
    "    print(\"테스트 통과!\")"
   ]
  },
  {
   "cell_type": "code",
   "execution_count": 46,
   "metadata": {
    "ExecuteTime": {
     "end_time": "2020-01-07T04:38:10.322625Z",
     "start_time": "2020-01-07T04:38:10.317627Z"
    }
   },
   "outputs": [
    {
     "name": "stdout",
     "output_type": "stream",
     "text": [
      "테스트 통과!\n"
     ]
    }
   ],
   "source": [
    "test_priority_queue()"
   ]
  },
  {
   "cell_type": "markdown",
   "metadata": {},
   "source": [
    "# 연결 리스트\n",
    "연결 리스트는 값과 다음 노드에 대한 포인터(참조)가 포함된 노드로 이루어진 선형 리스트다. 마지막 노드는 null 값(파이썬에서는 None)을 갖는다. 또한, 연결 리스트로 스택(새 항목을 헤드에 추가)과 큐(새 항목을 테일에 추가)를 구현할 수 있다."
   ]
  },
  {
   "cell_type": "code",
   "execution_count": 82,
   "metadata": {
    "ExecuteTime": {
     "end_time": "2020-01-07T06:26:12.586923Z",
     "start_time": "2020-01-07T06:26:12.579923Z"
    }
   },
   "outputs": [],
   "source": [
    "class Node(object):\n",
    "    def __init__(self, value=None, pointer=None):\n",
    "        self.value = value\n",
    "        self.pointer = pointer\n",
    "\n",
    "    def getData(self):\n",
    "        return self.value\n",
    "\n",
    "    def getNext(self):\n",
    "        return self.pointer\n",
    "\n",
    "    def setData(self, newdata):\n",
    "        self.value = newdata\n",
    "\n",
    "    def setNext(self, newpointer):\n",
    "        self.pointer = newpointer"
   ]
  },
  {
   "cell_type": "code",
   "execution_count": 48,
   "metadata": {
    "ExecuteTime": {
     "end_time": "2020-01-07T04:38:11.722007Z",
     "start_time": "2020-01-07T04:38:11.715987Z"
    }
   },
   "outputs": [
    {
     "name": "stdout",
     "output_type": "stream",
     "text": [
      "a\n",
      "b\n",
      "aa\n",
      "e\n"
     ]
    }
   ],
   "source": [
    "L = Node(\"a\", Node(\"b\", Node(\"c\", Node(\"d\"))))\n",
    "assert(L.pointer.pointer.value == \"c\")\n",
    "\n",
    "print(L.getData())\n",
    "print(L.getNext().getData())\n",
    "L.setData(\"aa\")\n",
    "L.setNext(Node(\"e\"))\n",
    "print(L.getData())\n",
    "print(L.getNext().getData())"
   ]
  },
  {
   "cell_type": "code",
   "execution_count": 49,
   "metadata": {
    "ExecuteTime": {
     "end_time": "2020-01-07T04:38:12.309270Z",
     "start_time": "2020-01-07T04:38:12.297247Z"
    }
   },
   "outputs": [],
   "source": [
    "class LinkedListLIFO(object):\n",
    "    def __init__(self):\n",
    "        self.head = None\n",
    "        self.length = 0\n",
    "\n",
    "    # 헤드부터 각 노드의 값을 출력한다.\n",
    "    def _printList(self):\n",
    "        node = self.head\n",
    "        while node:\n",
    "            print(node.value, end=\" \")\n",
    "            node = node.pointer\n",
    "        print()\n",
    "\n",
    "    # 이전 노드(prev)를 기반으로 노드(node)를 삭제한다.\n",
    "    def _delete(self, prev, node):\n",
    "        self.length -= 1\n",
    "        if not prev:\n",
    "            self.head = node.pointer\n",
    "        else:\n",
    "            prev.pointer = node.pointer\n",
    "\n",
    "    # 새 노드를 추가한다. 다음 노드로 헤드를 가리키고,\n",
    "    # 헤드는 새 노드를 가리킨다.\n",
    "    def _add(self, value):\n",
    "        self.length += 1\n",
    "        self.head = Node(value, self.head)\n",
    "\n",
    "    # 인덱스로 노드를 찾는다.\n",
    "    def _find(self, index):\n",
    "        prev = None\n",
    "        node = self.head\n",
    "        i = 0\n",
    "        while node and i < index:\n",
    "            prev = node\n",
    "            node = node.pointer\n",
    "            i += 1\n",
    "        return node, prev, i\n",
    "\n",
    "    # 값으로 노드를 찾는다.\n",
    "    def _find_by_value(self, value):\n",
    "        prev = None\n",
    "        node = self.head\n",
    "        found = False\n",
    "        while node and not found:\n",
    "            if node.value == value:\n",
    "                found = True\n",
    "            else:\n",
    "                prev = node\n",
    "                node = node.pointer\n",
    "        return node, prev, found\n",
    "\n",
    "    # 인덱스로 노드를 찾아서 삭제한다.\n",
    "    def deleteNode(self, index):\n",
    "        node, prev, i = self._find(index)\n",
    "        if index == i:\n",
    "            self._delete(prev, node)\n",
    "        else:\n",
    "            print(\"인덱스 {0}에 해당하는 노드가 없습니다.\".format(index))\n",
    "\n",
    "    # 값으로 노드를 찾아서 삭제한다.\n",
    "    def deleteNodeByValue(self, value):\n",
    "        node, prev, found = self._find_by_value(value)\n",
    "        if found:\n",
    "            self._delete(prev, node)\n",
    "        else:\n",
    "            print(\"값 {0}에 해당하는 노드가 없습니다.\".format(value))"
   ]
  },
  {
   "cell_type": "code",
   "execution_count": 50,
   "metadata": {
    "ExecuteTime": {
     "end_time": "2020-01-07T04:38:12.857312Z",
     "start_time": "2020-01-07T04:38:12.846293Z"
    }
   },
   "outputs": [
    {
     "name": "stdout",
     "output_type": "stream",
     "text": [
      "연결 리스트 출력:\n",
      "4 3 2 1 \n",
      "인덱스가 2인 노드 삭제 후, 연결 리스트 출력:\n",
      "4 3 1 \n",
      "값이 3인 노드 삭제 후, 연결 리스트 출력:\n",
      "4 1 \n",
      "값이 15인 노드 추가 후, 연결 리스트 출력:\n",
      "15 4 1 \n",
      "모든 노드 모두 삭제 후, 연결 리스트 출력:\n",
      "\n"
     ]
    }
   ],
   "source": [
    "ll = LinkedListLIFO()\n",
    "for i in range(1, 5):\n",
    "    ll._add(i)\n",
    "print(\"연결 리스트 출력:\")\n",
    "ll._printList()\n",
    "print(\"인덱스가 2인 노드 삭제 후, 연결 리스트 출력:\")\n",
    "ll.deleteNode(2)\n",
    "ll._printList()\n",
    "print(\"값이 3인 노드 삭제 후, 연결 리스트 출력:\")\n",
    "ll.deleteNodeByValue(3)\n",
    "ll._printList()\n",
    "print(\"값이 15인 노드 추가 후, 연결 리스트 출력:\")\n",
    "ll._add(15)\n",
    "ll._printList()\n",
    "print(\"모든 노드 모두 삭제 후, 연결 리스트 출력:\")\n",
    "for i in range(ll.length-1, -1, -1):\n",
    "    ll.deleteNode(i)\n",
    "ll._printList()"
   ]
  },
  {
   "cell_type": "code",
   "execution_count": 51,
   "metadata": {
    "ExecuteTime": {
     "end_time": "2020-01-07T04:38:13.530264Z",
     "start_time": "2020-01-07T04:38:13.516292Z"
    }
   },
   "outputs": [],
   "source": [
    "class LinkedListFIFO(object):\n",
    "    def __init__(self):\n",
    "        self.head = None  # 헤드(머리)\n",
    "        self.length = 0\n",
    "        self.tail = None  # 테일(꼬리)\n",
    "\n",
    "    # 헤드부터 각 노드의 값을 출력한다.\n",
    "    def _printList(self):\n",
    "        node = self.head\n",
    "        while node:\n",
    "            print(node.value, end=\" \")\n",
    "            node = node.pointer\n",
    "        print()\n",
    "\n",
    "    # 첫 번째 위치에 노드를 추가한다.\n",
    "    def _addFirst(self, value):\n",
    "        self.length = 1\n",
    "        node = Node(value)\n",
    "        self.head = node\n",
    "        self.tail = node\n",
    "\n",
    "    # 첫 번째 위치의 노드를 삭제한다.\n",
    "    def _deleteFirst(self):\n",
    "        self.length = 0\n",
    "        self.head = None\n",
    "        self.tail = None\n",
    "        print(\"연결 리스트가 비었습니다.\")\n",
    "\n",
    "    # 새 노드를 추가한다. 테일이 있다면, 테일의 다음 노드는\n",
    "    # 새 노드를 가리키고, 테일은 새 노드를 가리킨다.\n",
    "    def _add(self, value):\n",
    "        self.length += 1\n",
    "        node = Node(value)\n",
    "        if self.tail:\n",
    "            self.tail.pointer = node\n",
    "        self.tail = node\n",
    "\n",
    "    # 새 노드를 추가한다.\n",
    "    def addNode(self, value):\n",
    "        if not self.head:\n",
    "            self._addFirst(value)\n",
    "        else:\n",
    "            self._add(value)\n",
    "\n",
    "    # 인덱스로 노드를 찾는다.\n",
    "    def _find(self, index):\n",
    "        prev = None\n",
    "        node = self.head\n",
    "        i = 0\n",
    "        while node and i < index:\n",
    "            prev = node\n",
    "            node = node.pointer\n",
    "            i += 1\n",
    "        return node, prev, i\n",
    "\n",
    "    # 값으로 노드를 찾는다.\n",
    "    def _find_by_value(self, value):\n",
    "        prev = None\n",
    "        node = self.head\n",
    "        found = False\n",
    "        while node and not found:\n",
    "            if node.value == value:\n",
    "                found = True\n",
    "            else:\n",
    "                prev = node\n",
    "                node = node.pointer\n",
    "        return node, prev, found\n",
    "\n",
    "    # 인덱스에 해당하는 노드를 삭제한다.\n",
    "    def deleteNode(self, index):\n",
    "        if not self.head or not self.head.pointer:\n",
    "            self._deleteFirst()\n",
    "        else:\n",
    "            node, prev, i = self._find(index)\n",
    "            if i == index and node:\n",
    "                self.length -= 1\n",
    "                if i == 0 or not prev:\n",
    "                    self.head = node.pointer\n",
    "                    self.tail = node.pointer\n",
    "                else:\n",
    "                    prev.pointer = node.pointer\n",
    "            else:\n",
    "                print(\"인덱스 {0}에 해당하는 노드가 없습니다.\".format(index))\n",
    "\n",
    "    # 값에 해당하는 노드를 삭제한다.\n",
    "    def deleteNodeByValue(self, value):\n",
    "        if not self.head or not self.head.pointer:\n",
    "            self._deleteFirst()\n",
    "        else:\n",
    "            node, prev, i = self._find_by_value(value)\n",
    "            if node and node.value == value:\n",
    "                self.length -= 1\n",
    "                if i == 0 or not prev:\n",
    "                    self.head = node.pointer\n",
    "                    self.tail = node.pointer\n",
    "                else:\n",
    "                    prev.pointer = node.pointer\n",
    "            else:\n",
    "                print(\"값 {0}에 해당하는 노드가 없습니다.\".format(value))"
   ]
  },
  {
   "cell_type": "code",
   "execution_count": 52,
   "metadata": {
    "ExecuteTime": {
     "end_time": "2020-01-07T04:38:13.985266Z",
     "start_time": "2020-01-07T04:38:13.975267Z"
    }
   },
   "outputs": [
    {
     "name": "stdout",
     "output_type": "stream",
     "text": [
      "연결 리스트 출력:\n",
      "1 2 3 4 \n",
      "인덱스가 2인 노드 삭제 후, 연결 리스트 출력:\n",
      "1 2 4 \n",
      "값이 15인 노드 추가 후, 연결 리스트 출력:\n",
      "1 2 4 15 \n",
      "모든 노드 모두 삭제 후, 연결 리스트 출력:\n",
      "연결 리스트가 비었습니다.\n",
      "\n"
     ]
    }
   ],
   "source": [
    "ll = LinkedListFIFO()\n",
    "for i in range(1, 5):\n",
    "    ll.addNode(i)\n",
    "print(\"연결 리스트 출력:\")\n",
    "ll._printList()\n",
    "print(\"인덱스가 2인 노드 삭제 후, 연결 리스트 출력:\")\n",
    "ll.deleteNode(2)\n",
    "ll._printList()\n",
    "print(\"값이 15인 노드 추가 후, 연결 리스트 출력:\")\n",
    "ll.addNode(15)\n",
    "ll._printList()\n",
    "print(\"모든 노드 모두 삭제 후, 연결 리스트 출력:\")\n",
    "for i in range(ll.length-1, -1, -1):\n",
    "    ll.deleteNode(i)\n",
    "ll._printList()"
   ]
  },
  {
   "cell_type": "markdown",
   "metadata": {},
   "source": [
    "## 해시 테이블\n",
    "해시 테이블은 키를 값에 연결하여, 하나의 키가 0 또는 1개의 값과 연관된다. 각 키는 해시 함수를 계산할 수 있어야 한다. 해시 테이블은 해시 버킷의 배열로 구성된다."
   ]
  },
  {
   "cell_type": "code",
   "execution_count": 53,
   "metadata": {
    "ExecuteTime": {
     "end_time": "2020-01-07T04:38:15.146313Z",
     "start_time": "2020-01-07T04:38:15.137335Z"
    }
   },
   "outputs": [],
   "source": [
    "class HashTableLL(object):\n",
    "    def __init__(self, size):\n",
    "        self.size = size\n",
    "        self.slots = []\n",
    "        self._createHashTable()\n",
    "\n",
    "    def _createHashTable(self):\n",
    "        for i in range(self.size):\n",
    "            self.slots.append(LinkedListFIFO())\n",
    "\n",
    "    def _find(self, item):\n",
    "        return item % self.size\n",
    "\n",
    "    def _add(self, item):\n",
    "        index = self._find(item)\n",
    "        self.slots[index].addNode(item)\n",
    "\n",
    "    def _delete(self, item):\n",
    "        index = self._find(item)\n",
    "        self.slots[index].deleteNodeByValue(item)\n",
    "\n",
    "    def _print(self):\n",
    "        for i in range(self.size):\n",
    "            print(\"슬롯(slot) {0}:\".format(i))\n",
    "            self.slots[i]._printList()\n",
    "\n",
    "\n",
    "def test_hash_tables():\n",
    "    H1 = HashTableLL(3)\n",
    "    for i in range(0, 20):\n",
    "        H1._add(i)\n",
    "    H1._print()\n",
    "    print(\"\\n항목 0, 1, 2를 삭제합니다.\")\n",
    "    H1._delete(0)\n",
    "    H1._delete(1)\n",
    "    H1._delete(2)\n",
    "    H1._print()"
   ]
  },
  {
   "cell_type": "code",
   "execution_count": 54,
   "metadata": {
    "ExecuteTime": {
     "end_time": "2020-01-07T04:38:16.044312Z",
     "start_time": "2020-01-07T04:38:16.034315Z"
    }
   },
   "outputs": [
    {
     "name": "stdout",
     "output_type": "stream",
     "text": [
      "슬롯(slot) 0:\n",
      "0 3 6 9 12 15 18 \n",
      "슬롯(slot) 1:\n",
      "1 4 7 10 13 16 19 \n",
      "슬롯(slot) 2:\n",
      "2 5 8 11 14 17 \n",
      "\n",
      "항목 0, 1, 2를 삭제합니다.\n",
      "슬롯(slot) 0:\n",
      "3 6 9 12 15 18 \n",
      "슬롯(slot) 1:\n",
      "4 7 10 13 16 19 \n",
      "슬롯(slot) 2:\n",
      "5 8 11 14 17 \n"
     ]
    }
   ],
   "source": [
    "test_hash_tables()"
   ]
  },
  {
   "cell_type": "markdown",
   "metadata": {},
   "source": [
    "# 연습문제"
   ]
  },
  {
   "cell_type": "markdown",
   "metadata": {},
   "source": [
    "## 스택을 활용한 문자열 반전하기"
   ]
  },
  {
   "cell_type": "code",
   "execution_count": 55,
   "metadata": {
    "ExecuteTime": {
     "end_time": "2020-01-07T04:39:26.395378Z",
     "start_time": "2020-01-07T04:39:26.390395Z"
    }
   },
   "outputs": [],
   "source": [
    "def reverse_string_with_stack(str1):\n",
    "    s = Stack()\n",
    "    revStr = ''\n",
    "    \n",
    "    for c in str1:\n",
    "        s.push(c)\n",
    "        \n",
    "    while not s.isEmpty():\n",
    "        revStr += s.pop()\n",
    "        \n",
    "    return revStr"
   ]
  },
  {
   "cell_type": "code",
   "execution_count": 56,
   "metadata": {
    "ExecuteTime": {
     "end_time": "2020-01-07T04:39:46.402088Z",
     "start_time": "2020-01-07T04:39:46.397089Z"
    }
   },
   "outputs": [
    {
     "name": "stdout",
     "output_type": "stream",
     "text": [
      "버피는 천사다.\n",
      ".다사천 는피버\n"
     ]
    }
   ],
   "source": [
    "str1 = '버피는 천사다.'\n",
    "print(str1)\n",
    "print(reverse_string_with_stack(str1))"
   ]
  },
  {
   "cell_type": "markdown",
   "metadata": {},
   "source": [
    "## 스택을 활용한 괄호의 짝 확인하기"
   ]
  },
  {
   "cell_type": "code",
   "execution_count": 57,
   "metadata": {
    "ExecuteTime": {
     "end_time": "2020-01-07T04:42:07.451561Z",
     "start_time": "2020-01-07T04:42:07.444574Z"
    }
   },
   "outputs": [],
   "source": [
    "def balance_par_str_with_stack(str1):\n",
    "    s = Stack()\n",
    "    balanced = True\n",
    "    index = 0\n",
    "    \n",
    "    while index < len(str1) and balanced:\n",
    "        symbol = str1[index]\n",
    "        \n",
    "        if symbol == \"(\":\n",
    "            s.push(symbol)\n",
    "            \n",
    "        else:\n",
    "            if s.isEmpty():\n",
    "                balanced =False\n",
    "            else:\n",
    "                s.pop()\n",
    "                \n",
    "        index += 1\n",
    "        \n",
    "    if balanced and s.isEmpty():\n",
    "        return True\n",
    "    \n",
    "    else:\n",
    "        return False"
   ]
  },
  {
   "cell_type": "code",
   "execution_count": 58,
   "metadata": {
    "ExecuteTime": {
     "end_time": "2020-01-07T04:42:27.768818Z",
     "start_time": "2020-01-07T04:42:27.762824Z"
    }
   },
   "outputs": [
    {
     "name": "stdout",
     "output_type": "stream",
     "text": [
      "True\n",
      "False\n"
     ]
    }
   ],
   "source": [
    "print(balance_par_str_with_stack('((()))'))\n",
    "print(balance_par_str_with_stack('(()'))"
   ]
  },
  {
   "cell_type": "markdown",
   "metadata": {},
   "source": [
    "## 스택을 사용하여 10진수를 2진수로"
   ]
  },
  {
   "cell_type": "code",
   "execution_count": 59,
   "metadata": {
    "ExecuteTime": {
     "end_time": "2020-01-07T04:44:31.178839Z",
     "start_time": "2020-01-07T04:44:31.174839Z"
    }
   },
   "outputs": [],
   "source": [
    "def dec2bin_with_stack(decnum):\n",
    "    s = Stack()\n",
    "    str_aux = \"\"\n",
    "    \n",
    "    while decnum > 0:\n",
    "        dig = decnum % 2\n",
    "        decnum = decnum // 2\n",
    "        s.push(dig)\n",
    "        \n",
    "    while not s.isEmpty():\n",
    "        str_aux += str(s.pop())\n",
    "        \n",
    "    return str_aux"
   ]
  },
  {
   "cell_type": "code",
   "execution_count": 60,
   "metadata": {
    "ExecuteTime": {
     "end_time": "2020-01-07T04:44:46.326511Z",
     "start_time": "2020-01-07T04:44:46.321509Z"
    }
   },
   "outputs": [
    {
     "name": "stdout",
     "output_type": "stream",
     "text": [
      "1001\n"
     ]
    }
   ],
   "source": [
    "decnum = 9\n",
    "print(dec2bin_with_stack(decnum))"
   ]
  },
  {
   "cell_type": "markdown",
   "metadata": {},
   "source": [
    "## 스택에서 최솟값을 O(1)로 조회하기"
   ]
  },
  {
   "cell_type": "code",
   "execution_count": 66,
   "metadata": {
    "ExecuteTime": {
     "end_time": "2020-01-07T04:53:35.433360Z",
     "start_time": "2020-01-07T04:53:35.426392Z"
    }
   },
   "outputs": [],
   "source": [
    "class NodeWithMin(object):\n",
    "    def __init__(self, value=None, minimum=None):\n",
    "        self.value = value\n",
    "        self.minimum = minimum\n",
    "        \n",
    "class StackMin(Stack):\n",
    "    def __init__(self):\n",
    "        self.items = []\n",
    "        self.minimum = None\n",
    "        \n",
    "    def push(self, value):\n",
    "        if self.isEmpty() or self.minimum > value:\n",
    "            self.minimum = value\n",
    "        self.items.append(NodeWithMin(value, self.minimum))\n",
    "        \n",
    "    def peek(self):\n",
    "        return self.items[-1].value\n",
    "    \n",
    "    def peekMinimum(self):\n",
    "        return self.items[-1].minimum\n",
    "    \n",
    "    def pop(self):\n",
    "        item = self.items.pop()\n",
    "        if item:\n",
    "            if item.value == self.minimum:\n",
    "                self.minimum = self.peekMinimum()\n",
    "            return item.value\n",
    "        else:\n",
    "            print(\"Stack is empty.\")\n",
    "            \n",
    "    def __repr__(self):\n",
    "        aux = []\n",
    "        for i in self.items:\n",
    "            aux.append(i.value)\n",
    "        return repr(aux)"
   ]
  },
  {
   "cell_type": "code",
   "execution_count": 68,
   "metadata": {
    "ExecuteTime": {
     "end_time": "2020-01-07T04:53:42.895797Z",
     "start_time": "2020-01-07T04:53:42.884802Z"
    }
   },
   "outputs": [
    {
     "name": "stdout",
     "output_type": "stream",
     "text": [
      "스택이 비었나요? True\n",
      "스택에 숫자 10~1과 1~4를 추가합니다.\n",
      "[10, 9, 8, 7, 6, 5, 4, 3, 2, 1, 1, 2, 3, 4]\n",
      "스택 크기: 14\n",
      "peek: 4\n",
      "peekMinimum: 1\n",
      "pop: 4\n",
      "peek: 3\n",
      "peekMinimum: 1\n",
      "스택이 비었나요? False\n",
      "[10, 9, 8, 7, 6, 5, 4, 3, 2, 1, 1, 2, 3]\n"
     ]
    }
   ],
   "source": [
    "stack = StackMin()\n",
    "print(\"스택이 비었나요? {0}\".format(stack.isEmpty()))\n",
    "print(\"스택에 숫자 10~1과 1~4를 추가합니다.\")\n",
    "for i in range(10, 0, -1):\n",
    "    stack.push(i)\n",
    "for i in range(1, 5):\n",
    "    stack.push(i)\n",
    "print(stack)\n",
    "\n",
    "print(\"스택 크기: {0}\".format(stack.size()))\n",
    "print(\"peek: {0}\".format(stack.peek()))\n",
    "print(\"peekMinimum: {0}\".format(stack.peekMinimum()))\n",
    "print(\"pop: {0}\".format(stack.pop()))\n",
    "print(\"peek: {0}\".format(stack.peek()))\n",
    "print(\"peekMinimum: {0}\".format(stack.peekMinimum()))\n",
    "print(\"스택이 비었나요? {0}\".format(stack.isEmpty()))\n",
    "print(stack)"
   ]
  },
  {
   "cell_type": "markdown",
   "metadata": {},
   "source": [
    "## 스택 집합\n",
    "단일 스택에 용량 제한이 있다면 스택 집합이 존재할 것이고, 이 때 스택 집합에서도 단일 스택과 같이 push(), pop() 사용하기"
   ]
  },
  {
   "cell_type": "code",
   "execution_count": 69,
   "metadata": {
    "ExecuteTime": {
     "end_time": "2020-01-07T05:14:27.925766Z",
     "start_time": "2020-01-07T05:14:27.917745Z"
    }
   },
   "outputs": [],
   "source": [
    "class SetOfStacks(Stack):\n",
    "    def __init__(self, capacity=4):\n",
    "        self.setofstacks = []\n",
    "        self.items = []\n",
    "        self.capacity = capacity\n",
    "        \n",
    "    def push(self, value):\n",
    "        if self.size() >= self.capacity:\n",
    "            self.setofstacks.append(self.items)\n",
    "            self.items = []\n",
    "        self.items.append(value)\n",
    "        \n",
    "    def pop(self):\n",
    "        value = self.items.pop()\n",
    "        if self.isEmpty() and self.setofstacks:\n",
    "            self.items = self.setofstacks.pop()\n",
    "        return value\n",
    "    \n",
    "    def sizeStack(self):\n",
    "        return len(self.setofstacks) * self.capacity + self.size()\n",
    "    \n",
    "    def __repr__(self):\n",
    "        aux = []\n",
    "        for s in self.setofstacks:\n",
    "            aux.extend(s)\n",
    "        aux.extend(self.items)\n",
    "        return repr(aux)"
   ]
  },
  {
   "cell_type": "code",
   "execution_count": 70,
   "metadata": {
    "ExecuteTime": {
     "end_time": "2020-01-07T05:16:15.556632Z",
     "start_time": "2020-01-07T05:16:15.547613Z"
    }
   },
   "outputs": [
    {
     "name": "stdout",
     "output_type": "stream",
     "text": [
      "스택이 비었나요? True\n",
      "스택에 숫자 0~9를 추가합니다.\n",
      "[0, 1, 2, 3, 4, 5, 6, 7, 8, 9]\n",
      "스택 크기: 10\n",
      "peek: 9\n",
      "pop: 9\n",
      "peek: 8\n",
      "스택이 비었나요? False\n",
      "[0, 1, 2, 3, 4, 5, 6, 7, 8]\n"
     ]
    }
   ],
   "source": [
    "capacity = 5\n",
    "stack = SetOfStacks(capacity)\n",
    "print(\"스택이 비었나요? {0}\".format(stack.isEmpty()))\n",
    "print(\"스택에 숫자 0~9를 추가합니다.\")\n",
    "for i in range(10):\n",
    "    stack.push(i)\n",
    "print(stack)\n",
    "print(\"스택 크기: {0}\".format(stack.sizeStack()))\n",
    "print(\"peek: {0}\".format(stack.peek()))\n",
    "print(\"pop: {0}\".format(stack.pop()))\n",
    "print(\"peek: {0}\".format(stack.peek()))\n",
    "print(\"스택이 비었나요? {0}\".format(stack.isEmpty()))\n",
    "print(stack)"
   ]
  },
  {
   "cell_type": "markdown",
   "metadata": {},
   "source": [
    "## 데크와 회문"
   ]
  },
  {
   "cell_type": "code",
   "execution_count": 71,
   "metadata": {
    "ExecuteTime": {
     "end_time": "2020-01-07T05:20:59.132033Z",
     "start_time": "2020-01-07T05:20:59.126033Z"
    }
   },
   "outputs": [],
   "source": [
    "import string\n",
    "import collections\n",
    "\n",
    "STRIP = string.whitespace + string.punctuation + \"\\\"'\"\n",
    "\n",
    "def palindrome_checker_with_deque(str1):\n",
    "    d1 = Deque()\n",
    "    d2 = collections.deque()\n",
    "    \n",
    "    for s in str1.lower():\n",
    "        if s not in STRIP:\n",
    "            d2.append(s)\n",
    "            d1.enqueue(s)\n",
    "            \n",
    "    eq1 = True\n",
    "    while d1.size() > 1 and eq1:\n",
    "        if d1.dequeue_front() != d1.dequeue():\n",
    "            eq1 = False\n",
    "            \n",
    "    eq2 = True\n",
    "    while len(d2) > 1 and eq2:\n",
    "        if d2.pop() != d2.popleft():\n",
    "            eq2 = False\n",
    "    \n",
    "    return eq1, eq2"
   ]
  },
  {
   "cell_type": "code",
   "execution_count": 72,
   "metadata": {
    "ExecuteTime": {
     "end_time": "2020-01-07T05:21:30.144023Z",
     "start_time": "2020-01-07T05:21:30.139019Z"
    }
   },
   "outputs": [
    {
     "name": "stdout",
     "output_type": "stream",
     "text": [
      "(True, True)\n",
      "(False, False)\n"
     ]
    }
   ],
   "source": [
    "str1 = \"Madam Im Adam\"\n",
    "str2 = \"Buffy is a Slayer\"\n",
    "print(palindrome_checker_with_deque(str1))\n",
    "print(palindrome_checker_with_deque(str2))"
   ]
  },
  {
   "cell_type": "markdown",
   "metadata": {},
   "source": [
    "## 큐와 동물 보호소\n",
    "개와 고양이를 입양했다가 다시 출양하는 동물 보호소를 큐로 구현해보자"
   ]
  },
  {
   "cell_type": "code",
   "execution_count": 73,
   "metadata": {
    "ExecuteTime": {
     "end_time": "2020-01-07T05:46:32.783327Z",
     "start_time": "2020-01-07T05:46:32.759367Z"
    }
   },
   "outputs": [],
   "source": [
    "class Node(object):\n",
    "    def __init__(self, animalName=None, animalKind=None, pointer=None):\n",
    "        self.animalName = animalName\n",
    "        self.animalKind = animalKind\n",
    "        self.pointer = pointer\n",
    "        self.timestamp = 0\n",
    "        \n",
    "class AnimalShelter(object):\n",
    "    def __init__(self):\n",
    "        self.headCat = None\n",
    "        self.headDog = None\n",
    "        self.tailCat = None\n",
    "        self.tailDog = None\n",
    "        self.animalNumber = 0\n",
    "        \n",
    "    def enqueue(self, animalName, animalKind):\n",
    "        self.animalNumber += 1\n",
    "        newAnimal = Node(animalName, animalKind)\n",
    "        newAnimal.timestamp = self.animalNumber\n",
    "        \n",
    "        if animalKind == 'cat':\n",
    "            if not self.headCat:\n",
    "                self.headCat = newAnimal\n",
    "            if self.tailCat:\n",
    "                self.tailCat.pointer = newAnimal\n",
    "            self.tailCat = newAnimal\n",
    "            \n",
    "        elif animalKind == 'dog':\n",
    "            if not self.headDog:\n",
    "                self.headDog = newAnimal\n",
    "            if self.tailDog:\n",
    "                self.tailDog.pointer = newAnimal\n",
    "            self.tailDog = newAnimal\n",
    "            \n",
    "    def dequeueDog(self):\n",
    "        if self.headDog:\n",
    "            newAnimal = self.headDog\n",
    "            self.headDog = newAnimal.pointer\n",
    "            return str(newAnimal.animalName)\n",
    "        else:\n",
    "            print(\"개가 없습니다!\")\n",
    "            \n",
    "    def dequeueCat(self):\n",
    "        if self.headCat:\n",
    "            newAnimal = self.headCat\n",
    "            self.headCat = newAnimal.pointer\n",
    "            return str(newAnimal.animalName)\n",
    "        else:\n",
    "            print(\"고양이가 없습니다!\")\n",
    "            \n",
    "    def dequeueAny(self):\n",
    "        if self.headCat and not self.headDog:\n",
    "            return self.dequeueCat()\n",
    "        elif self.headDog and not self.headCat:\n",
    "            return self.dequeueDog()\n",
    "        elif self.headDog and self.headCat:\n",
    "            if self.headDog.timestamp < self.headCat.timestamp:\n",
    "                return self.dequeueDog()\n",
    "            else:\n",
    "                return self.dequeueCat()\n",
    "        else:\n",
    "            print(\"동물이 없습니다.\")\n",
    "            \n",
    "    def _print(self):\n",
    "        print(\"고양이:\")\n",
    "        cats = self.headCat\n",
    "        while cats:\n",
    "            print(\"\\t{0}\".format(cats.animalName))\n",
    "            cats = cats.pointer\n",
    "        print(\"개:\")\n",
    "        dogs = self.headDog\n",
    "        while dogs:\n",
    "            print(\"\\t{0}\".format(dogs.animalName))\n",
    "            dogs = dogs.pointer"
   ]
  },
  {
   "cell_type": "code",
   "execution_count": 75,
   "metadata": {
    "ExecuteTime": {
     "end_time": "2020-01-07T05:47:48.126980Z",
     "start_time": "2020-01-07T05:47:48.116983Z"
    }
   },
   "outputs": [
    {
     "name": "stdout",
     "output_type": "stream",
     "text": [
      "고양이:\n",
      "\t밥\n",
      "\t미아\n",
      "개:\n",
      "\t요다\n",
      "\t울프\n",
      "하나의 개와 고양이에 대해서 dequeue를 실행합니다.\n",
      "고양이:\n",
      "\t미아\n",
      "개:\n",
      "\t울프\n"
     ]
    }
   ],
   "source": [
    "qs = AnimalShelter()\n",
    "qs.enqueue(\"밥\", \"cat\")\n",
    "qs.enqueue(\"미아\", \"cat\")\n",
    "qs.enqueue(\"요다\", \"dog\")\n",
    "qs.enqueue(\"울프\", \"dog\")\n",
    "qs._print()\n",
    "\n",
    "print(\"하나의 개와 고양이에 대해서 dequeue를 실행합니다.\")\n",
    "qs.dequeueDog()\n",
    "qs.dequeueCat()\n",
    "qs._print()"
   ]
  },
  {
   "cell_type": "markdown",
   "metadata": {},
   "source": [
    "## 우선순위 큐와 힙\n",
    "heapq 모듈을 사용하여 시퀀스에서 N개의 가장 큰 항목과 가장 작은 항목을 찾아보자."
   ]
  },
  {
   "cell_type": "code",
   "execution_count": 76,
   "metadata": {
    "ExecuteTime": {
     "end_time": "2020-01-07T05:53:06.302994Z",
     "start_time": "2020-01-07T05:53:06.288987Z"
    }
   },
   "outputs": [],
   "source": [
    "import heapq\n",
    "\n",
    "def find_N_largest_items_seq(seq, N):\n",
    "    return heapq.nlargest(N, seq)\n",
    "\n",
    "def find_N_smallest_items_seq(seq, N):\n",
    "    return heapq.nsmallest(N, seq)\n",
    "\n",
    "def find_smallest_items_seq_heap(seq):\n",
    "    heapq.heapify(seq)\n",
    "    return heapq.heappop(seq)\n",
    "\n",
    "def find_smallest_items_seq(seq):\n",
    "    return min(seq)\n",
    "\n",
    "def find_N_smallest_items_seq_sorted(seq, N):\n",
    "    return sorted(seq)[:N]\n",
    "\n",
    "def find_N_largest_items_seq_sorted(seq, N):\n",
    "    return sorted(seq)[len(seq)-N:]\n",
    "\n",
    "def test_find_N_largest_smallest_items_seq():\n",
    "    seq = [1, 3, 2, 8, 6, 10, 9]\n",
    "    N = 3\n",
    "    assert(find_N_largest_items_seq(seq, N) == [10,9,8])\n",
    "    assert(find_N_largest_items_seq_sorted(seq, N) == [8,9,10])\n",
    "    assert(find_N_smallest_items_seq(seq, N) == [1,2,3])\n",
    "    assert(find_N_smallest_items_seq_sorted(seq, N) == [1,2,3])\n",
    "    assert(find_smallest_items_seq(seq) == 1)\n",
    "    assert(find_smallest_items_seq_heap(seq) == 1)\n",
    "    \n",
    "    print(\"테스트 통과!\")"
   ]
  },
  {
   "cell_type": "code",
   "execution_count": 77,
   "metadata": {
    "ExecuteTime": {
     "end_time": "2020-01-07T05:53:09.800359Z",
     "start_time": "2020-01-07T05:53:09.793357Z"
    }
   },
   "outputs": [
    {
     "name": "stdout",
     "output_type": "stream",
     "text": [
      "테스트 통과!\n"
     ]
    }
   ],
   "source": [
    "test_find_N_largest_smallest_items_seq()"
   ]
  },
  {
   "cell_type": "markdown",
   "metadata": {},
   "source": [
    "## heapq 모듈 사용 정렬된 두 시퀀스 병합"
   ]
  },
  {
   "cell_type": "code",
   "execution_count": 78,
   "metadata": {
    "ExecuteTime": {
     "end_time": "2020-01-07T05:55:28.635622Z",
     "start_time": "2020-01-07T05:55:28.629596Z"
    }
   },
   "outputs": [],
   "source": [
    "import heapq\n",
    "\n",
    "def merge_sorted_seqs(seq1, seq2):\n",
    "    result = []\n",
    "    for c in heapq.merge(seq1, seq2):\n",
    "        result.append(c)\n",
    "    return result\n",
    "\n",
    "def test_merge_sorted_seqs():\n",
    "    seq1 = [1,2,3,8,9,10]\n",
    "    seq2 = [2,3,4,5,6,7,9]\n",
    "    seq3 = seq1 + seq2\n",
    "    assert(merge_sorted_seqs(seq1, seq2) == sorted(seq3))\n",
    "    print(\"테스트 통과!\")"
   ]
  },
  {
   "cell_type": "code",
   "execution_count": 79,
   "metadata": {
    "ExecuteTime": {
     "end_time": "2020-01-07T05:55:32.971101Z",
     "start_time": "2020-01-07T05:55:32.965099Z"
    }
   },
   "outputs": [
    {
     "name": "stdout",
     "output_type": "stream",
     "text": [
      "테스트 통과!\n"
     ]
    }
   ],
   "source": [
    "test_merge_sorted_seqs()"
   ]
  },
  {
   "cell_type": "markdown",
   "metadata": {},
   "source": [
    "## 연결 리스트\n",
    "끝에서 k번째 항목 찾기"
   ]
  },
  {
   "cell_type": "code",
   "execution_count": 80,
   "metadata": {
    "ExecuteTime": {
     "end_time": "2020-01-07T06:23:27.765705Z",
     "start_time": "2020-01-07T06:23:27.760575Z"
    }
   },
   "outputs": [],
   "source": [
    "class KthFromLast(LinkedListFIFO):\n",
    "    def find_kth_to_last(self, k):\n",
    "        p1, p2 = self.head, self.head\n",
    "        i = 0\n",
    "        while p1:\n",
    "            if i > k-1:\n",
    "                try:\n",
    "                    p2 = p2.pointer\n",
    "                except AttributeError:\n",
    "                    break\n",
    "            p1 = p1.pointer\n",
    "            i += 1\n",
    "        return p2.value"
   ]
  },
  {
   "cell_type": "code",
   "execution_count": 83,
   "metadata": {
    "ExecuteTime": {
     "end_time": "2020-01-07T06:26:16.884761Z",
     "start_time": "2020-01-07T06:26:16.878755Z"
    }
   },
   "outputs": [
    {
     "name": "stdout",
     "output_type": "stream",
     "text": [
      "연결 리스트: 1 2 3 4 5 6 7 8 9 10 \n",
      "연결 리스트의 끝에서 3번째 항목은 8입니다.\n"
     ]
    }
   ],
   "source": [
    "ll = KthFromLast()\n",
    "for i in range(1, 11):\n",
    "    ll.addNode(i)\n",
    "print(\"연결 리스트: \", end=\"\")\n",
    "ll._printList()\n",
    "k = 3\n",
    "k_from_last = ll.find_kth_to_last(k)\n",
    "print(\"연결 리스트의 끝에서 {0}번째 항목은 {1}입니다.\".format(k, k_from_last))"
   ]
  },
  {
   "cell_type": "markdown",
   "metadata": {},
   "source": [
    "## 연결 리스트 분할하기\n",
    "한 항목을 선택했을 때, 왼쪽은 작은 값만 오른쪽은 큰 값만 나오도록 분할해보자"
   ]
  },
  {
   "cell_type": "code",
   "execution_count": 84,
   "metadata": {
    "ExecuteTime": {
     "end_time": "2020-01-07T06:29:38.399698Z",
     "start_time": "2020-01-07T06:29:38.392687Z"
    }
   },
   "outputs": [],
   "source": [
    "def partList(ll, n):\n",
    "    more = LinkedListFIFO()\n",
    "    less = LinkedListFIFO()\n",
    "    \n",
    "    node = ll.head\n",
    "    \n",
    "    while node:\n",
    "        item = node.value\n",
    "        \n",
    "        if item < n:\n",
    "            less.addNode(item)\n",
    "            \n",
    "        elif item > n:\n",
    "            more.addNode(item)\n",
    "            \n",
    "        node = node.pointer\n",
    "        \n",
    "    less.addNode(n)\n",
    "    nodemore = more.head\n",
    "    \n",
    "    while nodemore:\n",
    "        less.addNode(nodemore.value)\n",
    "        nodemore = nodemore.pointer\n",
    "        \n",
    "    return less"
   ]
  },
  {
   "cell_type": "code",
   "execution_count": 85,
   "metadata": {
    "ExecuteTime": {
     "end_time": "2020-01-07T06:30:31.896911Z",
     "start_time": "2020-01-07T06:30:31.883911Z"
    }
   },
   "outputs": [
    {
     "name": "stdout",
     "output_type": "stream",
     "text": [
      "분할 전:\n",
      "6 7 3 4 9 5 1 2 8 \n",
      "분할 후:\n",
      "3 4 5 1 2 6 7 9 8 \n"
     ]
    }
   ],
   "source": [
    "ll = LinkedListFIFO()\n",
    "l = [6,7,3,4,9,5,1,2,8]\n",
    "for i in l:\n",
    "    ll.addNode(i)\n",
    "\n",
    "print(\"분할 전:\")\n",
    "ll._printList()\n",
    "\n",
    "print(\"분할 후:\")\n",
    "newll = partList(ll, 6)\n",
    "newll._printList()"
   ]
  },
  {
   "cell_type": "markdown",
   "metadata": {},
   "source": [
    "## 이중 연결 리스트와 FIFO\n",
    "이중 연결 리스트는 포인터가 두개 있어 하나는 앞 노드를, 하나는 뒤 노드를 가리킨다."
   ]
  },
  {
   "cell_type": "code",
   "execution_count": 86,
   "metadata": {
    "ExecuteTime": {
     "end_time": "2020-01-07T06:36:02.760421Z",
     "start_time": "2020-01-07T06:36:02.747234Z"
    }
   },
   "outputs": [],
   "source": [
    "class DNode(object):\n",
    "    def __init__(self, value=None, pointer=None, previous=None):\n",
    "        self.value = value\n",
    "        self.pointer = pointer\n",
    "        self.previous = previous\n",
    "        \n",
    "class DLinkedList(LinkedListFIFO):\n",
    "    def printListInverse(self):\n",
    "        node = self.tail\n",
    "        while node:\n",
    "            print(node.value, end=\" \")\n",
    "            try:\n",
    "                node = node.previous\n",
    "            except AttributeError:\n",
    "                break\n",
    "        print()\n",
    "        \n",
    "    def _add(self, value):\n",
    "        self.length += 1\n",
    "        node = DNode(value)\n",
    "        if self.tail:\n",
    "            self.tail.pointer = node\n",
    "            node.previous = self.tail\n",
    "        self.tail = node\n",
    "        \n",
    "    def _delete(self, node):\n",
    "        self.length -= 1\n",
    "        node.previous.pointer = node.pointer\n",
    "        if not node.pointer:\n",
    "            self.tail = node.previous\n",
    "            \n",
    "    def _find(self, index):\n",
    "        node = self.head\n",
    "        i = 0\n",
    "        while node and i < index:\n",
    "            node = node.pointer\n",
    "            i += 1\n",
    "        return node, i\n",
    "    \n",
    "    def deleteNode(self, index):\n",
    "        if not self.head or not self.head.pointer:\n",
    "            self._deleteFirst()\n",
    "        else:\n",
    "            node, i = self._find(index)\n",
    "            if i == index:\n",
    "                self._delete(node)\n",
    "            else:\n",
    "                print(\"인덱스 {0}에 해당하는 노드가 없습니다.\".format(index))"
   ]
  },
  {
   "cell_type": "code",
   "execution_count": 87,
   "metadata": {
    "ExecuteTime": {
     "end_time": "2020-01-07T06:37:37.924898Z",
     "start_time": "2020-01-07T06:37:37.913898Z"
    }
   },
   "outputs": [
    {
     "name": "stdout",
     "output_type": "stream",
     "text": [
      "연결 리스트 출력:\n",
      "1 2 3 4 \n",
      "연결 리스트 반대로 출력:\n",
      "4 3 2 1 \n",
      "값이 15인 노드 추가 후, 연결 리스트 출력:\n",
      "1 2 3 4 15 \n",
      "모든 노드 삭제 후, 연결 리스트 출력:\n",
      "연결 리스트가 비었습니다.\n",
      "\n"
     ]
    }
   ],
   "source": [
    "from collections import Counter\n",
    "\n",
    "ll = DLinkedList()\n",
    "for i in range(1, 5):\n",
    "    ll.addNode(i)\n",
    "print(\"연결 리스트 출력:\")\n",
    "ll._printList()\n",
    "print(\"연결 리스트 반대로 출력:\")\n",
    "ll.printListInverse()\n",
    "print(\"값이 15인 노드 추가 후, 연결 리스트 출력:\")\n",
    "ll._add(15)\n",
    "ll._printList()\n",
    "print(\"모든 노드 삭제 후, 연결 리스트 출력:\")\n",
    "for i in range(ll.length-1, -1, -1):\n",
    "    ll.deleteNode(i)\n",
    "ll._printList()"
   ]
  },
  {
   "cell_type": "markdown",
   "metadata": {},
   "source": [
    "## 연결리스트로 회문 확인하기"
   ]
  },
  {
   "cell_type": "code",
   "execution_count": 88,
   "metadata": {
    "ExecuteTime": {
     "end_time": "2020-01-07T06:40:25.192531Z",
     "start_time": "2020-01-07T06:40:25.185475Z"
    }
   },
   "outputs": [],
   "source": [
    "def isPal(l1):\n",
    "    if len(l1) < 2:\n",
    "        return True\n",
    "    if l1[0] != l1[-1]:\n",
    "        return False\n",
    "    return isPal(l1[1:-1])\n",
    "\n",
    "def checkllPal(ll):\n",
    "    node = ll.head\n",
    "    l = []\n",
    "    \n",
    "    while node is not None:\n",
    "        l.append(node.value)\n",
    "        node = node.pointer\n",
    "    \n",
    "    return isPal(l)\n",
    "\n",
    "def test_checkllPal():\n",
    "    ll = LinkedListFIFO()\n",
    "    l1 = [1,2,3,2,1]\n",
    "    for i in l1:\n",
    "        ll.addNode(i)\n",
    "    assert(checkllPal(ll) is True)\n",
    "    \n",
    "    ll.addNode(2)\n",
    "    ll.addNode(3)\n",
    "    assert(checkllPal(ll) is False)\n",
    "    \n",
    "    print(\"테스트 통과!\")"
   ]
  },
  {
   "cell_type": "code",
   "execution_count": 89,
   "metadata": {
    "ExecuteTime": {
     "end_time": "2020-01-07T06:40:31.209384Z",
     "start_time": "2020-01-07T06:40:31.204321Z"
    }
   },
   "outputs": [
    {
     "name": "stdout",
     "output_type": "stream",
     "text": [
      "테스트 통과!\n"
     ]
    }
   ],
   "source": [
    "test_checkllPal()"
   ]
  },
  {
   "cell_type": "markdown",
   "metadata": {},
   "source": [
    "## 두 연결 리스트의 숫자 더하기"
   ]
  },
  {
   "cell_type": "code",
   "execution_count": 93,
   "metadata": {
    "ExecuteTime": {
     "end_time": "2020-01-07T06:46:05.415268Z",
     "start_time": "2020-01-07T06:46:05.403293Z"
    }
   },
   "outputs": [],
   "source": [
    "class LinkedListFIFOYield(LinkedListFIFO):\n",
    "    def _printList(self):\n",
    "        node = self.head\n",
    "        while node:\n",
    "            yield node.value\n",
    "            node = node.pointer\n",
    "            \n",
    "def sumlls(l1, l2):\n",
    "    lsum = LinkedListFIFOYield()\n",
    "    dig1 = l1.head\n",
    "    dig2 = l2.head\n",
    "    pointer = 0\n",
    "    \n",
    "    while dig1 and dig2:\n",
    "        d1 = dig1.value\n",
    "        d2 = dig2.value\n",
    "        sum_d = d1 + d2 + pointer\n",
    "        if sum_d > 9:\n",
    "            pointer = sum_d // 10\n",
    "            lsum.addNode(sum_d % 10)\n",
    "        else:\n",
    "            lsum.addNode(sum_d)\n",
    "            pointer = 0\n",
    "            \n",
    "        dig1 = dig1.pointer\n",
    "        dig2 = dig2.pointer\n",
    "        \n",
    "    if dig1:\n",
    "        sum_d = pointer + dig1.value\n",
    "        if sum_d > 9:\n",
    "            lsum.addNode(sum_d % 10)\n",
    "        else:\n",
    "            lsum.addNode(sum_d)\n",
    "        dig1 = dig1.pointer\n",
    "        \n",
    "    if dig2:\n",
    "        sum_d = pointer + dig2.value\n",
    "        if sum_d > 9:\n",
    "            lsum.addNode(sum_d % 10)\n",
    "        else:\n",
    "            lsum.addNode(sum_d)\n",
    "        dig2 = dig2.pointer\n",
    "        \n",
    "    return lsum"
   ]
  },
  {
   "cell_type": "code",
   "execution_count": 94,
   "metadata": {
    "ExecuteTime": {
     "end_time": "2020-01-07T06:46:05.870338Z",
     "start_time": "2020-01-07T06:46:05.858323Z"
    }
   },
   "outputs": [
    {
     "name": "stdout",
     "output_type": "stream",
     "text": [
      "3126\n"
     ]
    }
   ],
   "source": [
    "l1 = LinkedListFIFOYield()\n",
    "l1.addNode(1)\n",
    "l1.addNode(7)\n",
    "l1.addNode(6)\n",
    "l1.addNode(2)\n",
    "\n",
    "l2 = LinkedListFIFOYield()\n",
    "l2.addNode(5)\n",
    "l2.addNode(5)\n",
    "l2.addNode(4)\n",
    "\n",
    "lsum = sumlls(l1, l2)\n",
    "l = list(lsum._printList())\n",
    "for i in reversed(l):\n",
    "    print(i, end=\"\")\n",
    "print()"
   ]
  },
  {
   "cell_type": "markdown",
   "metadata": {},
   "source": [
    "## 원형 연결 리스트 찾기\n",
    "원형 연결 리스트 : 헤드와 테일이 연결된 형태"
   ]
  },
  {
   "cell_type": "code",
   "execution_count": 97,
   "metadata": {
    "ExecuteTime": {
     "end_time": "2020-01-07T06:50:10.950859Z",
     "start_time": "2020-01-07T06:50:10.940859Z"
    }
   },
   "outputs": [],
   "source": [
    "class CircularLinkedListFIFO(LinkedListFIFO):\n",
    "    def _add(self, value):\n",
    "        self.length += 1\n",
    "        node = Node(value, self.head)\n",
    "        if self.tail:\n",
    "            self.tail.pointer = node\n",
    "        self.tail = node\n",
    "        \n",
    "def isCircularll(ll):\n",
    "    p1 = ll.head\n",
    "    p2 = ll.head\n",
    "    \n",
    "    while p2:\n",
    "        try:\n",
    "            p1 = p1.pointer\n",
    "            p2 = p2.pointer.pointer\n",
    "        except:\n",
    "            break\n",
    "            \n",
    "        if p1 == p2:\n",
    "            return True\n",
    "    return False\n",
    "\n",
    "def test_isCircularll():\n",
    "    ll = LinkedListFIFO()\n",
    "    for i in range(10):\n",
    "        ll.addNode(i)\n",
    "    assert(isCircularll(ll) is False)\n",
    "    \n",
    "    lcirc = CircularLinkedListFIFO()\n",
    "    for i in range(10):\n",
    "        lcirc.addNode(i)\n",
    "    assert(isCircularll(lcirc) is True)\n",
    "    \n",
    "    print(\"테스트 통과!\")"
   ]
  },
  {
   "cell_type": "code",
   "execution_count": 98,
   "metadata": {
    "ExecuteTime": {
     "end_time": "2020-01-07T06:50:11.098810Z",
     "start_time": "2020-01-07T06:50:11.094806Z"
    }
   },
   "outputs": [
    {
     "name": "stdout",
     "output_type": "stream",
     "text": [
      "테스트 통과!\n"
     ]
    }
   ],
   "source": [
    "test_isCircularll()"
   ]
  },
  {
   "cell_type": "code",
   "execution_count": null,
   "metadata": {},
   "outputs": [],
   "source": []
  }
 ],
 "metadata": {
  "kernelspec": {
   "display_name": "Python 3",
   "language": "python",
   "name": "python3"
  },
  "language_info": {
   "codemirror_mode": {
    "name": "ipython",
    "version": 3
   },
   "file_extension": ".py",
   "mimetype": "text/x-python",
   "name": "python",
   "nbconvert_exporter": "python",
   "pygments_lexer": "ipython3",
   "version": "3.6.9"
  },
  "toc": {
   "base_numbering": 1,
   "nav_menu": {},
   "number_sections": true,
   "sideBar": true,
   "skip_h1_title": false,
   "title_cell": "Table of Contents",
   "title_sidebar": "Contents",
   "toc_cell": false,
   "toc_position": {},
   "toc_section_display": true,
   "toc_window_display": false
  },
  "varInspector": {
   "cols": {
    "lenName": 16,
    "lenType": 16,
    "lenVar": 40
   },
   "kernels_config": {
    "python": {
     "delete_cmd_postfix": "",
     "delete_cmd_prefix": "del ",
     "library": "var_list.py",
     "varRefreshCmd": "print(var_dic_list())"
    },
    "r": {
     "delete_cmd_postfix": ") ",
     "delete_cmd_prefix": "rm(",
     "library": "var_list.r",
     "varRefreshCmd": "cat(var_dic_list()) "
    }
   },
   "types_to_exclude": [
    "module",
    "function",
    "builtin_function_or_method",
    "instance",
    "_Feature"
   ],
   "window_display": false
  }
 },
 "nbformat": 4,
 "nbformat_minor": 2
}
