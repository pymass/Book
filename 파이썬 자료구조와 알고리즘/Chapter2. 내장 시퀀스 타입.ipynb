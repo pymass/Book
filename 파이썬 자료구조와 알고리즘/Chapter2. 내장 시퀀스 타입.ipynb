{
 "cells": [
  {
   "cell_type": "markdown",
   "metadata": {},
   "source": [
    "# 시퀀스 타입의 속성\n",
    "1. 멤버십 연산 : in 키워드 사용\n",
    "2. 크기 함수 : len(seq)\n",
    "3. 슬라이싱 속성 : seq[:-1]\n",
    "4. 반복성 : 반복문에 있는 데이터를 순회할 수 있음"
   ]
  },
  {
   "cell_type": "code",
   "execution_count": 1,
   "metadata": {
    "ExecuteTime": {
     "end_time": "2020-01-02T06:23:29.328705Z",
     "start_time": "2020-01-02T06:23:29.319675Z"
    }
   },
   "outputs": [
    {
     "data": {
      "text/plain": [
       "list"
      ]
     },
     "execution_count": 1,
     "metadata": {},
     "output_type": "execute_result"
    }
   ],
   "source": [
    "# 리스트\n",
    "l = []\n",
    "type(l)"
   ]
  },
  {
   "cell_type": "code",
   "execution_count": 2,
   "metadata": {
    "ExecuteTime": {
     "end_time": "2020-01-02T06:23:56.901230Z",
     "start_time": "2020-01-02T06:23:56.896231Z"
    }
   },
   "outputs": [
    {
     "data": {
      "text/plain": [
       "str"
      ]
     },
     "execution_count": 2,
     "metadata": {},
     "output_type": "execute_result"
    }
   ],
   "source": [
    "# 문자열\n",
    "s = \"\"\n",
    "type(s)"
   ]
  },
  {
   "cell_type": "code",
   "execution_count": 3,
   "metadata": {
    "ExecuteTime": {
     "end_time": "2020-01-02T06:24:02.506791Z",
     "start_time": "2020-01-02T06:24:02.501793Z"
    }
   },
   "outputs": [
    {
     "data": {
      "text/plain": [
       "tuple"
      ]
     },
     "execution_count": 3,
     "metadata": {},
     "output_type": "execute_result"
    }
   ],
   "source": [
    "# 튜플\n",
    "t = ()\n",
    "type(t)"
   ]
  },
  {
   "cell_type": "code",
   "execution_count": 4,
   "metadata": {
    "ExecuteTime": {
     "end_time": "2020-01-02T06:24:25.440953Z",
     "start_time": "2020-01-02T06:24:25.435954Z"
    }
   },
   "outputs": [
    {
     "data": {
      "text/plain": [
       "bytearray"
      ]
     },
     "execution_count": 4,
     "metadata": {},
     "output_type": "execute_result"
    }
   ],
   "source": [
    "# 바이트 배열\n",
    "ba = bytearray(b\"\")\n",
    "type(ba)"
   ]
  },
  {
   "cell_type": "code",
   "execution_count": 6,
   "metadata": {
    "ExecuteTime": {
     "end_time": "2020-01-02T06:24:57.087137Z",
     "start_time": "2020-01-02T06:24:57.081138Z"
    }
   },
   "outputs": [
    {
     "data": {
      "text/plain": [
       "bytes"
      ]
     },
     "execution_count": 6,
     "metadata": {},
     "output_type": "execute_result"
    }
   ],
   "source": [
    "# 바이트\n",
    "b = bytes([])\n",
    "type(b)"
   ]
  },
  {
   "cell_type": "markdown",
   "metadata": {},
   "source": [
    "# 문자열 메서드"
   ]
  },
  {
   "cell_type": "markdown",
   "metadata": {},
   "source": [
    "## join()"
   ]
  },
  {
   "cell_type": "code",
   "execution_count": 8,
   "metadata": {
    "ExecuteTime": {
     "end_time": "2020-01-02T06:30:15.418020Z",
     "start_time": "2020-01-02T06:30:15.411991Z"
    }
   },
   "outputs": [
    {
     "data": {
      "text/plain": [
       "'버피 앤 아스틴'"
      ]
     },
     "execution_count": 8,
     "metadata": {},
     "output_type": "execute_result"
    }
   ],
   "source": [
    "slayer = [\"버피\", \"앤\", \"아스틴\"]\n",
    "\" \".join(slayer)"
   ]
  },
  {
   "cell_type": "code",
   "execution_count": 9,
   "metadata": {
    "ExecuteTime": {
     "end_time": "2020-01-02T06:30:25.330407Z",
     "start_time": "2020-01-02T06:30:25.326379Z"
    }
   },
   "outputs": [
    {
     "data": {
      "text/plain": [
       "'버피-<>-앤-<>-아스틴'"
      ]
     },
     "execution_count": 9,
     "metadata": {},
     "output_type": "execute_result"
    }
   ],
   "source": [
    "\"-<>-\".join(slayer)"
   ]
  },
  {
   "cell_type": "code",
   "execution_count": 10,
   "metadata": {
    "ExecuteTime": {
     "end_time": "2020-01-02T06:30:36.064588Z",
     "start_time": "2020-01-02T06:30:36.059556Z"
    }
   },
   "outputs": [
    {
     "data": {
      "text/plain": [
       "'버피앤아스틴'"
      ]
     },
     "execution_count": 10,
     "metadata": {},
     "output_type": "execute_result"
    }
   ],
   "source": [
    "\"\".join(slayer)"
   ]
  },
  {
   "cell_type": "code",
   "execution_count": 11,
   "metadata": {
    "ExecuteTime": {
     "end_time": "2020-01-02T06:31:26.693122Z",
     "start_time": "2020-01-02T06:31:26.688163Z"
    }
   },
   "outputs": [
    {
     "data": {
      "text/plain": [
       "'아스틴앤버피'"
      ]
     },
     "execution_count": 11,
     "metadata": {},
     "output_type": "execute_result"
    }
   ],
   "source": [
    "\"\".join(reversed(slayer))"
   ]
  },
  {
   "cell_type": "markdown",
   "metadata": {},
   "source": [
    "## ljust(), rjust()"
   ]
  },
  {
   "cell_type": "code",
   "execution_count": 12,
   "metadata": {
    "ExecuteTime": {
     "end_time": "2020-01-02T06:31:50.038110Z",
     "start_time": "2020-01-02T06:31:50.033116Z"
    }
   },
   "outputs": [
    {
     "data": {
      "text/plain": [
       "'스칼렛-----------------------------------------------'"
      ]
     },
     "execution_count": 12,
     "metadata": {},
     "output_type": "execute_result"
    }
   ],
   "source": [
    "name = \"스칼렛\"\n",
    "name.ljust(50, '-')"
   ]
  },
  {
   "cell_type": "code",
   "execution_count": 13,
   "metadata": {
    "ExecuteTime": {
     "end_time": "2020-01-02T06:31:59.928979Z",
     "start_time": "2020-01-02T06:31:59.924993Z"
    }
   },
   "outputs": [
    {
     "data": {
      "text/plain": [
       "'-----------------------------------------------스칼렛'"
      ]
     },
     "execution_count": 13,
     "metadata": {},
     "output_type": "execute_result"
    }
   ],
   "source": [
    "name.rjust(50, '-')"
   ]
  },
  {
   "cell_type": "markdown",
   "metadata": {},
   "source": [
    "## format()"
   ]
  },
  {
   "cell_type": "code",
   "execution_count": 14,
   "metadata": {
    "ExecuteTime": {
     "end_time": "2020-01-02T06:32:29.889097Z",
     "start_time": "2020-01-02T06:32:29.884097Z"
    }
   },
   "outputs": [
    {
     "data": {
      "text/plain": [
       "'안녕, 파이썬!'"
      ]
     },
     "execution_count": 14,
     "metadata": {},
     "output_type": "execute_result"
    }
   ],
   "source": [
    "\"{0} {1}\".format(\"안녕,\", \"파이썬!\")"
   ]
  },
  {
   "cell_type": "code",
   "execution_count": 15,
   "metadata": {
    "ExecuteTime": {
     "end_time": "2020-01-02T06:32:54.363641Z",
     "start_time": "2020-01-02T06:32:54.358609Z"
    }
   },
   "outputs": [
    {
     "data": {
      "text/plain": [
       "'이름: 제임스, 나이 : 17'"
      ]
     },
     "execution_count": 15,
     "metadata": {},
     "output_type": "execute_result"
    }
   ],
   "source": [
    "\"이름: {who}, 나이 : {age}\".format(who=\"제임스\", age=17)"
   ]
  },
  {
   "cell_type": "code",
   "execution_count": 16,
   "metadata": {
    "ExecuteTime": {
     "end_time": "2020-01-02T06:33:14.322021Z",
     "start_time": "2020-01-02T06:33:14.318033Z"
    }
   },
   "outputs": [
    {
     "data": {
      "text/plain": [
       "'이름 : 에이미, 나이: 12'"
      ]
     },
     "execution_count": 16,
     "metadata": {},
     "output_type": "execute_result"
    }
   ],
   "source": [
    "\"이름 : {who}, 나이: {0}\".format(12, who=\"에이미\")"
   ]
  },
  {
   "cell_type": "code",
   "execution_count": 17,
   "metadata": {
    "ExecuteTime": {
     "end_time": "2020-01-02T06:33:33.183003Z",
     "start_time": "2020-01-02T06:33:33.178004Z"
    }
   },
   "outputs": [
    {
     "data": {
      "text/plain": [
       "'파이썬 자료구조 알고리즘'"
      ]
     },
     "execution_count": 17,
     "metadata": {},
     "output_type": "execute_result"
    }
   ],
   "source": [
    "\"{} {} {}\".format(\"파이썬\", \"자료구조\", \"알고리즘\")"
   ]
  },
  {
   "cell_type": "code",
   "execution_count": 20,
   "metadata": {
    "ExecuteTime": {
     "end_time": "2020-01-02T06:34:50.396970Z",
     "start_time": "2020-01-02T06:34:50.392000Z"
    }
   },
   "outputs": [
    {
     "data": {
      "text/plain": [
       "\"99.9 99.9 Decimal('99.9') Decimal('99.9')\""
      ]
     },
     "execution_count": 20,
     "metadata": {},
     "output_type": "execute_result"
    }
   ],
   "source": [
    "# 지정자 s는 문자열, r은 표현 형식, a는 아스키 코드\n",
    "import decimal\n",
    "\"{0} {0!s} {0!r} {0!a}\".format(decimal.Decimal(\"99.9\"))"
   ]
  },
  {
   "cell_type": "markdown",
   "metadata": {},
   "source": [
    "## 문자열 언패킹"
   ]
  },
  {
   "cell_type": "code",
   "execution_count": 21,
   "metadata": {
    "ExecuteTime": {
     "end_time": "2020-01-02T06:36:13.677430Z",
     "start_time": "2020-01-02T06:36:13.672405Z"
    }
   },
   "outputs": [
    {
     "data": {
      "text/plain": [
       "'999 : 버피'"
      ]
     },
     "execution_count": 21,
     "metadata": {},
     "output_type": "execute_result"
    }
   ],
   "source": [
    "# 로컬 변수를 언패킹해서 출력\n",
    "hero = \"버피\"\n",
    "number = 999\n",
    "\"{number} : {hero}\".format(**locals())"
   ]
  },
  {
   "cell_type": "markdown",
   "metadata": {},
   "source": [
    "## splitlines()"
   ]
  },
  {
   "cell_type": "code",
   "execution_count": 22,
   "metadata": {
    "ExecuteTime": {
     "end_time": "2020-01-02T06:37:12.583739Z",
     "start_time": "2020-01-02T06:37:12.578707Z"
    }
   },
   "outputs": [
    {
     "data": {
      "text/plain": [
       "['로미오', '줄리엣']"
      ]
     },
     "execution_count": 22,
     "metadata": {},
     "output_type": "execute_result"
    }
   ],
   "source": [
    "slayers = \"로미오\\n줄리엣\"\n",
    "slayers.splitlines()"
   ]
  },
  {
   "cell_type": "markdown",
   "metadata": {},
   "source": [
    "## split()"
   ]
  },
  {
   "cell_type": "code",
   "execution_count": 23,
   "metadata": {
    "ExecuteTime": {
     "end_time": "2020-01-02T06:38:17.286240Z",
     "start_time": "2020-01-02T06:38:17.281238Z"
    }
   },
   "outputs": [
    {
     "data": {
      "text/plain": [
       "['버피', '크리스-메리', '16']"
      ]
     },
     "execution_count": 23,
     "metadata": {},
     "output_type": "execute_result"
    }
   ],
   "source": [
    "slayers = \"버피*크리스-메리*16\"\n",
    "fields = slayers.split(\"*\")\n",
    "fields"
   ]
  },
  {
   "cell_type": "code",
   "execution_count": 25,
   "metadata": {
    "ExecuteTime": {
     "end_time": "2020-01-02T06:38:37.046272Z",
     "start_time": "2020-01-02T06:38:37.042272Z"
    }
   },
   "outputs": [
    {
     "data": {
      "text/plain": [
       "['크리스', '메리']"
      ]
     },
     "execution_count": 25,
     "metadata": {},
     "output_type": "execute_result"
    }
   ],
   "source": [
    "job = fields[1].split(\"-\")\n",
    "job"
   ]
  },
  {
   "cell_type": "code",
   "execution_count": 26,
   "metadata": {
    "ExecuteTime": {
     "end_time": "2020-01-02T06:39:20.932409Z",
     "start_time": "2020-01-02T06:39:20.929406Z"
    }
   },
   "outputs": [],
   "source": [
    "# 모든 스페이스를 제거하는 함수\n",
    "def erase_space_from_string(string):\n",
    "    s1 = string.split(\" \")\n",
    "    s2 = \"\".join(s1)\n",
    "    return s2"
   ]
  },
  {
   "cell_type": "code",
   "execution_count": 29,
   "metadata": {
    "ExecuteTime": {
     "end_time": "2020-01-02T06:40:10.238106Z",
     "start_time": "2020-01-02T06:40:10.233139Z"
    }
   },
   "outputs": [
    {
     "data": {
      "text/plain": [
       "['안녕', '세상*!']"
      ]
     },
     "execution_count": 29,
     "metadata": {},
     "output_type": "execute_result"
    }
   ],
   "source": [
    "start = \"안녕*세상*!\"\n",
    "start.split(\"*\", 1)"
   ]
  },
  {
   "cell_type": "code",
   "execution_count": 30,
   "metadata": {
    "ExecuteTime": {
     "end_time": "2020-01-02T06:40:10.374110Z",
     "start_time": "2020-01-02T06:40:10.371145Z"
    }
   },
   "outputs": [
    {
     "data": {
      "text/plain": [
       "['안녕*세상', '!']"
      ]
     },
     "execution_count": 30,
     "metadata": {},
     "output_type": "execute_result"
    }
   ],
   "source": [
    "start.rsplit(\"*\", 1)"
   ]
  },
  {
   "cell_type": "markdown",
   "metadata": {},
   "source": [
    "## strip()"
   ]
  },
  {
   "cell_type": "code",
   "execution_count": 31,
   "metadata": {
    "ExecuteTime": {
     "end_time": "2020-01-02T06:47:13.514198Z",
     "start_time": "2020-01-02T06:47:13.509177Z"
    }
   },
   "outputs": [
    {
     "data": {
      "text/plain": [
       "'로미오 & 줄리엣'"
      ]
     },
     "execution_count": 31,
     "metadata": {},
     "output_type": "execute_result"
    }
   ],
   "source": [
    "slayers = \"로미오 & 줄리엣999\"\n",
    "slayers.strip(\"999\")"
   ]
  },
  {
   "cell_type": "code",
   "execution_count": 32,
   "metadata": {
    "ExecuteTime": {
     "end_time": "2020-01-02T06:50:31.794371Z",
     "start_time": "2020-01-02T06:50:31.788370Z"
    }
   },
   "outputs": [],
   "source": [
    "# 한 파일에서 사용된 모든 단어를 알파벳 순으로 출력\n",
    "import string\n",
    "import sys\n",
    "\n",
    "def count_unique_word():\n",
    "    words = {}\n",
    "    strip = string.whitespace + string.punctuation + string.digits + \"\\\"'\"\n",
    "    for filename in sys.argv[1:]:\n",
    "        with open(filename) as file:\n",
    "            for line in file:\n",
    "                for word in line.lower().split():\n",
    "                    word = word.strip(strip)\n",
    "                    if len(word) > 2:\n",
    "                        words[word] = words.get(word,0) + 1\n",
    "                        \n",
    "    for word in sorted(words):\n",
    "        print(\"{0}: {1}번\".format(word, words[word]))"
   ]
  },
  {
   "cell_type": "markdown",
   "metadata": {},
   "source": [
    "## swapcase()"
   ]
  },
  {
   "cell_type": "code",
   "execution_count": 34,
   "metadata": {
    "ExecuteTime": {
     "end_time": "2020-01-02T06:51:38.236314Z",
     "start_time": "2020-01-02T06:51:38.232314Z"
    }
   },
   "outputs": [
    {
     "data": {
      "text/plain": [
       "'bUFFY AND fAITH'"
      ]
     },
     "execution_count": 34,
     "metadata": {},
     "output_type": "execute_result"
    }
   ],
   "source": [
    "slayers = \"Buffy and Faith\"\n",
    "slayers.swapcase()"
   ]
  },
  {
   "cell_type": "markdown",
   "metadata": {},
   "source": [
    "## index(), find()"
   ]
  },
  {
   "cell_type": "code",
   "execution_count": 35,
   "metadata": {
    "ExecuteTime": {
     "end_time": "2020-01-02T06:53:37.989467Z",
     "start_time": "2020-01-02T06:53:37.984492Z"
    }
   },
   "outputs": [
    {
     "data": {
      "text/plain": [
       "4"
      ]
     },
     "execution_count": 35,
     "metadata": {},
     "output_type": "execute_result"
    }
   ],
   "source": [
    "slayers = \"Buffy and Faith\"\n",
    "slayers.find(\"y\")"
   ]
  },
  {
   "cell_type": "code",
   "execution_count": 36,
   "metadata": {
    "ExecuteTime": {
     "end_time": "2020-01-02T06:53:43.477556Z",
     "start_time": "2020-01-02T06:53:43.473550Z"
    }
   },
   "outputs": [
    {
     "data": {
      "text/plain": [
       "-1"
      ]
     },
     "execution_count": 36,
     "metadata": {},
     "output_type": "execute_result"
    }
   ],
   "source": [
    "slayers.find(\"k\")"
   ]
  },
  {
   "cell_type": "code",
   "execution_count": 37,
   "metadata": {
    "ExecuteTime": {
     "end_time": "2020-01-02T06:53:51.600819Z",
     "start_time": "2020-01-02T06:53:51.591823Z"
    }
   },
   "outputs": [
    {
     "ename": "ValueError",
     "evalue": "substring not found",
     "output_type": "error",
     "traceback": [
      "\u001b[1;31m---------------------------------------------------------------------------\u001b[0m",
      "\u001b[1;31mValueError\u001b[0m                                Traceback (most recent call last)",
      "\u001b[1;32m<ipython-input-37-7cea7291525c>\u001b[0m in \u001b[0;36m<module>\u001b[1;34m\u001b[0m\n\u001b[1;32m----> 1\u001b[1;33m \u001b[0mslayers\u001b[0m\u001b[1;33m.\u001b[0m\u001b[0mindex\u001b[0m\u001b[1;33m(\u001b[0m\u001b[1;34m\"k\"\u001b[0m\u001b[1;33m)\u001b[0m\u001b[1;33m\u001b[0m\u001b[1;33m\u001b[0m\u001b[0m\n\u001b[0m",
      "\u001b[1;31mValueError\u001b[0m: substring not found"
     ]
    }
   ],
   "source": [
    "slayers.index(\"k\")"
   ]
  },
  {
   "cell_type": "code",
   "execution_count": 38,
   "metadata": {
    "ExecuteTime": {
     "end_time": "2020-01-02T06:54:01.279701Z",
     "start_time": "2020-01-02T06:54:01.275697Z"
    }
   },
   "outputs": [
    {
     "data": {
      "text/plain": [
       "4"
      ]
     },
     "execution_count": 38,
     "metadata": {},
     "output_type": "execute_result"
    }
   ],
   "source": [
    "slayers.index(\"y\")"
   ]
  },
  {
   "cell_type": "markdown",
   "metadata": {},
   "source": [
    "## count()"
   ]
  },
  {
   "cell_type": "code",
   "execution_count": 39,
   "metadata": {
    "ExecuteTime": {
     "end_time": "2020-01-02T06:55:25.893112Z",
     "start_time": "2020-01-02T06:55:25.888114Z"
    }
   },
   "outputs": [
    {
     "data": {
      "text/plain": [
       "2"
      ]
     },
     "execution_count": 39,
     "metadata": {},
     "output_type": "execute_result"
    }
   ],
   "source": [
    "slayers = \"Buffy is Buffy is Buffy\"\n",
    "slayers.count(\"Buffy\", 0, -1)"
   ]
  },
  {
   "cell_type": "code",
   "execution_count": 40,
   "metadata": {
    "ExecuteTime": {
     "end_time": "2020-01-02T06:55:31.682192Z",
     "start_time": "2020-01-02T06:55:31.677188Z"
    }
   },
   "outputs": [
    {
     "data": {
      "text/plain": [
       "3"
      ]
     },
     "execution_count": 40,
     "metadata": {},
     "output_type": "execute_result"
    }
   ],
   "source": [
    "slayers.count(\"Buffy\")"
   ]
  },
  {
   "cell_type": "markdown",
   "metadata": {},
   "source": [
    "## replace()"
   ]
  },
  {
   "cell_type": "code",
   "execution_count": 41,
   "metadata": {
    "ExecuteTime": {
     "end_time": "2020-01-02T06:56:09.751029Z",
     "start_time": "2020-01-02T06:56:09.744990Z"
    }
   },
   "outputs": [
    {
     "data": {
      "text/plain": [
       "'who is who is Buffy'"
      ]
     },
     "execution_count": 41,
     "metadata": {},
     "output_type": "execute_result"
    }
   ],
   "source": [
    "slayer = \"Buffy is Buffy is Buffy\"\n",
    "slayer.replace(\"Buffy\", \"who\", 2)"
   ]
  },
  {
   "cell_type": "markdown",
   "metadata": {},
   "source": [
    "##  f-strings"
   ]
  },
  {
   "cell_type": "code",
   "execution_count": 42,
   "metadata": {
    "ExecuteTime": {
     "end_time": "2020-01-02T06:56:40.451531Z",
     "start_time": "2020-01-02T06:56:40.447527Z"
    }
   },
   "outputs": [
    {
     "data": {
      "text/plain": [
       "\"그의 이름은 '프레드'입니다\""
      ]
     },
     "execution_count": 42,
     "metadata": {},
     "output_type": "execute_result"
    }
   ],
   "source": [
    "name = \"프레드\"\n",
    "f\"그의 이름은 {name!r}입니다\""
   ]
  },
  {
   "cell_type": "code",
   "execution_count": 43,
   "metadata": {
    "ExecuteTime": {
     "end_time": "2020-01-02T06:56:58.196481Z",
     "start_time": "2020-01-02T06:56:58.191484Z"
    }
   },
   "outputs": [
    {
     "data": {
      "text/plain": [
       "\"그의 이름은 '프레드'입니다\""
      ]
     },
     "execution_count": 43,
     "metadata": {},
     "output_type": "execute_result"
    }
   ],
   "source": [
    "f\"그의 이름은 {repr(name)}입니다\" # repr()은 !r과 같다"
   ]
  },
  {
   "cell_type": "code",
   "execution_count": 44,
   "metadata": {
    "ExecuteTime": {
     "end_time": "2020-01-02T06:57:36.339699Z",
     "start_time": "2020-01-02T06:57:36.335698Z"
    }
   },
   "outputs": [],
   "source": [
    "import decimal\n",
    "width = 10\n",
    "precision = 4\n",
    "value = decimal.Decimal(\"12.34567\")"
   ]
  },
  {
   "cell_type": "code",
   "execution_count": 45,
   "metadata": {
    "ExecuteTime": {
     "end_time": "2020-01-02T06:57:57.257866Z",
     "start_time": "2020-01-02T06:57:57.252840Z"
    }
   },
   "outputs": [
    {
     "data": {
      "text/plain": [
       "'결과:      12.35'"
      ]
     },
     "execution_count": 45,
     "metadata": {},
     "output_type": "execute_result"
    }
   ],
   "source": [
    "f\"결과: {value:{width}.{precision}}\" # 중첩 필드 사용"
   ]
  },
  {
   "cell_type": "code",
   "execution_count": 46,
   "metadata": {
    "ExecuteTime": {
     "end_time": "2020-01-02T06:59:18.876170Z",
     "start_time": "2020-01-02T06:59:18.872168Z"
    }
   },
   "outputs": [
    {
     "data": {
      "text/plain": [
       "'January27, 2017'"
      ]
     },
     "execution_count": 46,
     "metadata": {},
     "output_type": "execute_result"
    }
   ],
   "source": [
    "from datetime import datetime\n",
    "today = datetime(year=2017, month=1, day=27)\n",
    "f\"{today:%B%d, %Y}\" # 날짜 포맷 지정 지정자(specifier) 사용"
   ]
  },
  {
   "cell_type": "code",
   "execution_count": 47,
   "metadata": {
    "ExecuteTime": {
     "end_time": "2020-01-02T06:59:49.431933Z",
     "start_time": "2020-01-02T06:59:49.426933Z"
    }
   },
   "outputs": [
    {
     "data": {
      "text/plain": [
       "'0x400'"
      ]
     },
     "execution_count": 47,
     "metadata": {},
     "output_type": "execute_result"
    }
   ],
   "source": [
    "number = 1024\n",
    "f\"{number:#0x}\" # 정수 포맷 지정자 사용 (16진수 표현)"
   ]
  },
  {
   "cell_type": "markdown",
   "metadata": {},
   "source": [
    "# 튜플 메서드"
   ]
  },
  {
   "cell_type": "markdown",
   "metadata": {},
   "source": [
    "## count(), index()"
   ]
  },
  {
   "cell_type": "code",
   "execution_count": 48,
   "metadata": {
    "ExecuteTime": {
     "end_time": "2020-01-02T07:03:05.170928Z",
     "start_time": "2020-01-02T07:03:05.165930Z"
    }
   },
   "outputs": [
    {
     "data": {
      "text/plain": [
       "2"
      ]
     },
     "execution_count": 48,
     "metadata": {},
     "output_type": "execute_result"
    }
   ],
   "source": [
    "t = 1, 5, 7, 8, 9, 4, 1, 4\n",
    "t.count(4)"
   ]
  },
  {
   "cell_type": "code",
   "execution_count": 49,
   "metadata": {
    "ExecuteTime": {
     "end_time": "2020-01-02T07:03:13.117810Z",
     "start_time": "2020-01-02T07:03:13.112834Z"
    }
   },
   "outputs": [
    {
     "data": {
      "text/plain": [
       "1"
      ]
     },
     "execution_count": 49,
     "metadata": {},
     "output_type": "execute_result"
    }
   ],
   "source": [
    "t = 1, 5, 7\n",
    "t.index(5)"
   ]
  },
  {
   "cell_type": "markdown",
   "metadata": {},
   "source": [
    "## 튜플 언패킹"
   ]
  },
  {
   "cell_type": "code",
   "execution_count": 50,
   "metadata": {
    "ExecuteTime": {
     "end_time": "2020-01-02T07:03:52.000483Z",
     "start_time": "2020-01-02T07:03:51.996457Z"
    }
   },
   "outputs": [
    {
     "data": {
      "text/plain": [
       "1"
      ]
     },
     "execution_count": 50,
     "metadata": {},
     "output_type": "execute_result"
    }
   ],
   "source": [
    "# 변수 지정시 앞에 *을 붙이면 나머지가 부여된다\n",
    "x, *y = (1,2,3,4)\n",
    "x"
   ]
  },
  {
   "cell_type": "code",
   "execution_count": 51,
   "metadata": {
    "ExecuteTime": {
     "end_time": "2020-01-02T07:03:52.808522Z",
     "start_time": "2020-01-02T07:03:52.802521Z"
    }
   },
   "outputs": [
    {
     "data": {
      "text/plain": [
       "[2, 3, 4]"
      ]
     },
     "execution_count": 51,
     "metadata": {},
     "output_type": "execute_result"
    }
   ],
   "source": [
    "y"
   ]
  },
  {
   "cell_type": "code",
   "execution_count": 52,
   "metadata": {
    "ExecuteTime": {
     "end_time": "2020-01-02T07:04:03.544389Z",
     "start_time": "2020-01-02T07:04:03.538395Z"
    }
   },
   "outputs": [
    {
     "data": {
      "text/plain": [
       "[1, 2, 3]"
      ]
     },
     "execution_count": 52,
     "metadata": {},
     "output_type": "execute_result"
    }
   ],
   "source": [
    "*x, y = (1,2,3,4)\n",
    "x"
   ]
  },
  {
   "cell_type": "code",
   "execution_count": 53,
   "metadata": {
    "ExecuteTime": {
     "end_time": "2020-01-02T07:04:04.683757Z",
     "start_time": "2020-01-02T07:04:04.678772Z"
    }
   },
   "outputs": [
    {
     "data": {
      "text/plain": [
       "4"
      ]
     },
     "execution_count": 53,
     "metadata": {},
     "output_type": "execute_result"
    }
   ],
   "source": [
    "y"
   ]
  },
  {
   "cell_type": "markdown",
   "metadata": {},
   "source": [
    "## 네임드 튜플"
   ]
  },
  {
   "cell_type": "code",
   "execution_count": 55,
   "metadata": {
    "ExecuteTime": {
     "end_time": "2020-01-02T07:05:56.601371Z",
     "start_time": "2020-01-02T07:05:56.595370Z"
    }
   },
   "outputs": [
    {
     "data": {
      "text/plain": [
       "Person(name='아스틴', age=30, gender='남자')"
      ]
     },
     "execution_count": 55,
     "metadata": {},
     "output_type": "execute_result"
    }
   ],
   "source": [
    "# 튜플에 이름이 붙은 형태\n",
    "import collections\n",
    "Person = collections.namedtuple('Person', 'name age gender')\n",
    "p = Person('아스틴', 30, '남자')\n",
    "p"
   ]
  },
  {
   "cell_type": "code",
   "execution_count": 56,
   "metadata": {
    "ExecuteTime": {
     "end_time": "2020-01-02T07:06:20.692583Z",
     "start_time": "2020-01-02T07:06:20.687584Z"
    }
   },
   "outputs": [
    {
     "data": {
      "text/plain": [
       "'아스틴'"
      ]
     },
     "execution_count": 56,
     "metadata": {},
     "output_type": "execute_result"
    }
   ],
   "source": [
    "p[0]"
   ]
  },
  {
   "cell_type": "code",
   "execution_count": 57,
   "metadata": {
    "ExecuteTime": {
     "end_time": "2020-01-02T07:06:24.982242Z",
     "start_time": "2020-01-02T07:06:24.976249Z"
    }
   },
   "outputs": [
    {
     "data": {
      "text/plain": [
       "'아스틴'"
      ]
     },
     "execution_count": 57,
     "metadata": {},
     "output_type": "execute_result"
    }
   ],
   "source": [
    "p.name"
   ]
  },
  {
   "cell_type": "code",
   "execution_count": 58,
   "metadata": {
    "ExecuteTime": {
     "end_time": "2020-01-02T07:06:29.851873Z",
     "start_time": "2020-01-02T07:06:29.842893Z"
    }
   },
   "outputs": [
    {
     "ename": "AttributeError",
     "evalue": "can't set attribute",
     "output_type": "error",
     "traceback": [
      "\u001b[1;31m---------------------------------------------------------------------------\u001b[0m",
      "\u001b[1;31mAttributeError\u001b[0m                            Traceback (most recent call last)",
      "\u001b[1;32m<ipython-input-58-b29e99bf1482>\u001b[0m in \u001b[0;36m<module>\u001b[1;34m\u001b[0m\n\u001b[1;32m----> 1\u001b[1;33m \u001b[0mp\u001b[0m\u001b[1;33m.\u001b[0m\u001b[0mage\u001b[0m \u001b[1;33m=\u001b[0m \u001b[1;36m20\u001b[0m\u001b[1;33m\u001b[0m\u001b[1;33m\u001b[0m\u001b[0m\n\u001b[0m",
      "\u001b[1;31mAttributeError\u001b[0m: can't set attribute"
     ]
    }
   ],
   "source": [
    "p.age = 20 # 튜플은 불변형으로 에러 발생"
   ]
  },
  {
   "cell_type": "markdown",
   "metadata": {},
   "source": [
    "# 리스트 메서드"
   ]
  },
  {
   "cell_type": "markdown",
   "metadata": {},
   "source": [
    "## append()"
   ]
  },
  {
   "cell_type": "code",
   "execution_count": 59,
   "metadata": {
    "ExecuteTime": {
     "end_time": "2020-01-02T07:22:24.881017Z",
     "start_time": "2020-01-02T07:22:24.875015Z"
    }
   },
   "outputs": [
    {
     "data": {
      "text/plain": [
       "['버피', '페이스', '자일스']"
      ]
     },
     "execution_count": 59,
     "metadata": {},
     "output_type": "execute_result"
    }
   ],
   "source": [
    "people = [\"버피\", \"페이스\"]\n",
    "people.append(\"자일스\")\n",
    "people"
   ]
  },
  {
   "cell_type": "code",
   "execution_count": 60,
   "metadata": {
    "ExecuteTime": {
     "end_time": "2020-01-02T07:22:41.900976Z",
     "start_time": "2020-01-02T07:22:41.897947Z"
    }
   },
   "outputs": [],
   "source": [
    "people[len(people):]= [\"잰더\"]"
   ]
  },
  {
   "cell_type": "code",
   "execution_count": 61,
   "metadata": {
    "ExecuteTime": {
     "end_time": "2020-01-02T07:22:44.197802Z",
     "start_time": "2020-01-02T07:22:44.192802Z"
    }
   },
   "outputs": [
    {
     "data": {
      "text/plain": [
       "['버피', '페이스', '자일스', '잰더']"
      ]
     },
     "execution_count": 61,
     "metadata": {},
     "output_type": "execute_result"
    }
   ],
   "source": [
    "people"
   ]
  },
  {
   "cell_type": "markdown",
   "metadata": {},
   "source": [
    "## extend()"
   ]
  },
  {
   "cell_type": "code",
   "execution_count": 62,
   "metadata": {
    "ExecuteTime": {
     "end_time": "2020-01-02T07:23:21.511060Z",
     "start_time": "2020-01-02T07:23:21.507056Z"
    }
   },
   "outputs": [
    {
     "data": {
      "text/plain": [
       "['버피', '페이스', '자', '일', '스']"
      ]
     },
     "execution_count": 62,
     "metadata": {},
     "output_type": "execute_result"
    }
   ],
   "source": [
    "people = [\"버피\", \"페이스\"]\n",
    "people.extend(\"자일스\")\n",
    "people"
   ]
  },
  {
   "cell_type": "code",
   "execution_count": 63,
   "metadata": {
    "ExecuteTime": {
     "end_time": "2020-01-02T07:23:49.513584Z",
     "start_time": "2020-01-02T07:23:49.509609Z"
    }
   },
   "outputs": [
    {
     "data": {
      "text/plain": [
       "['버피', '페이스', '자', '일', '스', '윌', '로']"
      ]
     },
     "execution_count": 63,
     "metadata": {},
     "output_type": "execute_result"
    }
   ],
   "source": [
    "people += \"윌로\"\n",
    "people"
   ]
  },
  {
   "cell_type": "code",
   "execution_count": 65,
   "metadata": {
    "ExecuteTime": {
     "end_time": "2020-01-02T07:24:09.328649Z",
     "start_time": "2020-01-02T07:24:09.323651Z"
    }
   },
   "outputs": [
    {
     "data": {
      "text/plain": [
       "['버피', '페이스', '자', '일', '스', '윌', '로', '잰더', '잰더']"
      ]
     },
     "execution_count": 65,
     "metadata": {},
     "output_type": "execute_result"
    }
   ],
   "source": [
    "people += [\"잰더\"]\n",
    "people"
   ]
  },
  {
   "cell_type": "code",
   "execution_count": 68,
   "metadata": {
    "ExecuteTime": {
     "end_time": "2020-01-02T07:24:30.903655Z",
     "start_time": "2020-01-02T07:24:30.898631Z"
    }
   },
   "outputs": [
    {
     "data": {
      "text/plain": [
       "['버피',\n",
       " '페이스',\n",
       " '자',\n",
       " '일',\n",
       " '스',\n",
       " '윌',\n",
       " '로',\n",
       " '잰더',\n",
       " '잰더',\n",
       " '아',\n",
       " '스',\n",
       " '틴',\n",
       " '아',\n",
       " '스',\n",
       " '틴']"
      ]
     },
     "execution_count": 68,
     "metadata": {},
     "output_type": "execute_result"
    }
   ],
   "source": [
    "people[len(people):] = \"아스틴\"\n",
    "people"
   ]
  },
  {
   "cell_type": "markdown",
   "metadata": {},
   "source": [
    "## insert()"
   ]
  },
  {
   "cell_type": "code",
   "execution_count": 69,
   "metadata": {
    "ExecuteTime": {
     "end_time": "2020-01-02T07:25:06.550670Z",
     "start_time": "2020-01-02T07:25:06.544656Z"
    }
   },
   "outputs": [
    {
     "data": {
      "text/plain": [
       "['버피', '잰더', '페이스']"
      ]
     },
     "execution_count": 69,
     "metadata": {},
     "output_type": "execute_result"
    }
   ],
   "source": [
    "people = [\"버피\", \"페이스\"]\n",
    "people.insert(1, \"잰더\")\n",
    "people"
   ]
  },
  {
   "cell_type": "markdown",
   "metadata": {},
   "source": [
    "## remove()"
   ]
  },
  {
   "cell_type": "code",
   "execution_count": 70,
   "metadata": {
    "ExecuteTime": {
     "end_time": "2020-01-02T07:25:34.530352Z",
     "start_time": "2020-01-02T07:25:34.525329Z"
    }
   },
   "outputs": [
    {
     "data": {
      "text/plain": [
       "['페이스']"
      ]
     },
     "execution_count": 70,
     "metadata": {},
     "output_type": "execute_result"
    }
   ],
   "source": [
    "people = [\"버피\", \"페이스\"]\n",
    "people.remove(\"버피\")\n",
    "people"
   ]
  },
  {
   "cell_type": "code",
   "execution_count": 71,
   "metadata": {
    "ExecuteTime": {
     "end_time": "2020-01-02T07:25:43.821973Z",
     "start_time": "2020-01-02T07:25:43.811958Z"
    }
   },
   "outputs": [
    {
     "ename": "ValueError",
     "evalue": "list.remove(x): x not in list",
     "output_type": "error",
     "traceback": [
      "\u001b[1;31m---------------------------------------------------------------------------\u001b[0m",
      "\u001b[1;31mValueError\u001b[0m                                Traceback (most recent call last)",
      "\u001b[1;32m<ipython-input-71-490147300fc7>\u001b[0m in \u001b[0;36m<module>\u001b[1;34m\u001b[0m\n\u001b[1;32m----> 1\u001b[1;33m \u001b[0mpeople\u001b[0m\u001b[1;33m.\u001b[0m\u001b[0mremove\u001b[0m\u001b[1;33m(\u001b[0m\u001b[1;34m\"버피\"\u001b[0m\u001b[1;33m)\u001b[0m\u001b[1;33m\u001b[0m\u001b[1;33m\u001b[0m\u001b[0m\n\u001b[0m",
      "\u001b[1;31mValueError\u001b[0m: list.remove(x): x not in list"
     ]
    }
   ],
   "source": [
    "people.remove(\"버피\")"
   ]
  },
  {
   "cell_type": "markdown",
   "metadata": {},
   "source": [
    "## pop()"
   ]
  },
  {
   "cell_type": "code",
   "execution_count": 72,
   "metadata": {
    "ExecuteTime": {
     "end_time": "2020-01-02T07:26:14.833185Z",
     "start_time": "2020-01-02T07:26:14.828171Z"
    }
   },
   "outputs": [
    {
     "data": {
      "text/plain": [
       "'페이스'"
      ]
     },
     "execution_count": 72,
     "metadata": {},
     "output_type": "execute_result"
    }
   ],
   "source": [
    "people = [\"버피\", \"페이스\", \"아스틴\"]\n",
    "people.pop(1)"
   ]
  },
  {
   "cell_type": "code",
   "execution_count": 73,
   "metadata": {
    "ExecuteTime": {
     "end_time": "2020-01-02T07:26:20.997702Z",
     "start_time": "2020-01-02T07:26:20.993740Z"
    }
   },
   "outputs": [
    {
     "data": {
      "text/plain": [
       "['버피', '아스틴']"
      ]
     },
     "execution_count": 73,
     "metadata": {},
     "output_type": "execute_result"
    }
   ],
   "source": [
    "people"
   ]
  },
  {
   "cell_type": "code",
   "execution_count": 74,
   "metadata": {
    "ExecuteTime": {
     "end_time": "2020-01-02T07:26:28.922374Z",
     "start_time": "2020-01-02T07:26:28.918371Z"
    }
   },
   "outputs": [
    {
     "data": {
      "text/plain": [
       "'아스틴'"
      ]
     },
     "execution_count": 74,
     "metadata": {},
     "output_type": "execute_result"
    }
   ],
   "source": [
    "people.pop()"
   ]
  },
  {
   "cell_type": "code",
   "execution_count": 75,
   "metadata": {
    "ExecuteTime": {
     "end_time": "2020-01-02T07:26:30.471795Z",
     "start_time": "2020-01-02T07:26:30.466793Z"
    }
   },
   "outputs": [
    {
     "data": {
      "text/plain": [
       "['버피']"
      ]
     },
     "execution_count": 75,
     "metadata": {},
     "output_type": "execute_result"
    }
   ],
   "source": [
    "people"
   ]
  },
  {
   "cell_type": "markdown",
   "metadata": {},
   "source": [
    "## del문"
   ]
  },
  {
   "cell_type": "code",
   "execution_count": 77,
   "metadata": {
    "ExecuteTime": {
     "end_time": "2020-01-02T07:26:56.201953Z",
     "start_time": "2020-01-02T07:26:56.198981Z"
    }
   },
   "outputs": [],
   "source": [
    "a = [-1, 4, 5, 7, 10]\n",
    "del a[0]"
   ]
  },
  {
   "cell_type": "code",
   "execution_count": 78,
   "metadata": {
    "ExecuteTime": {
     "end_time": "2020-01-02T07:27:00.234614Z",
     "start_time": "2020-01-02T07:27:00.230621Z"
    }
   },
   "outputs": [
    {
     "data": {
      "text/plain": [
       "[4, 5, 7, 10]"
      ]
     },
     "execution_count": 78,
     "metadata": {},
     "output_type": "execute_result"
    }
   ],
   "source": [
    "a"
   ]
  },
  {
   "cell_type": "code",
   "execution_count": 79,
   "metadata": {
    "ExecuteTime": {
     "end_time": "2020-01-02T07:27:06.018585Z",
     "start_time": "2020-01-02T07:27:06.013586Z"
    }
   },
   "outputs": [
    {
     "data": {
      "text/plain": [
       "[4, 5, 10]"
      ]
     },
     "execution_count": 79,
     "metadata": {},
     "output_type": "execute_result"
    }
   ],
   "source": [
    "del a[2:3]\n",
    "a"
   ]
  },
  {
   "cell_type": "code",
   "execution_count": 80,
   "metadata": {
    "ExecuteTime": {
     "end_time": "2020-01-02T07:27:10.416644Z",
     "start_time": "2020-01-02T07:27:10.413642Z"
    }
   },
   "outputs": [],
   "source": [
    "del a"
   ]
  },
  {
   "cell_type": "code",
   "execution_count": 81,
   "metadata": {
    "ExecuteTime": {
     "end_time": "2020-01-02T07:27:10.987436Z",
     "start_time": "2020-01-02T07:27:10.979405Z"
    }
   },
   "outputs": [
    {
     "ename": "NameError",
     "evalue": "name 'a' is not defined",
     "output_type": "error",
     "traceback": [
      "\u001b[1;31m---------------------------------------------------------------------------\u001b[0m",
      "\u001b[1;31mNameError\u001b[0m                                 Traceback (most recent call last)",
      "\u001b[1;32m<ipython-input-81-3f786850e387>\u001b[0m in \u001b[0;36m<module>\u001b[1;34m\u001b[0m\n\u001b[1;32m----> 1\u001b[1;33m \u001b[0ma\u001b[0m\u001b[1;33m\u001b[0m\u001b[1;33m\u001b[0m\u001b[0m\n\u001b[0m",
      "\u001b[1;31mNameError\u001b[0m: name 'a' is not defined"
     ]
    }
   ],
   "source": [
    "a"
   ]
  },
  {
   "cell_type": "markdown",
   "metadata": {},
   "source": [
    "## index()"
   ]
  },
  {
   "cell_type": "code",
   "execution_count": 82,
   "metadata": {
    "ExecuteTime": {
     "end_time": "2020-01-02T07:27:29.623236Z",
     "start_time": "2020-01-02T07:27:29.618233Z"
    }
   },
   "outputs": [
    {
     "data": {
      "text/plain": [
       "0"
      ]
     },
     "execution_count": 82,
     "metadata": {},
     "output_type": "execute_result"
    }
   ],
   "source": [
    "people = [\"버피\", \"페이스\"]\n",
    "people.index(\"버피\")"
   ]
  },
  {
   "cell_type": "markdown",
   "metadata": {},
   "source": [
    "## count()"
   ]
  },
  {
   "cell_type": "code",
   "execution_count": 83,
   "metadata": {
    "ExecuteTime": {
     "end_time": "2020-01-02T07:27:53.985846Z",
     "start_time": "2020-01-02T07:27:53.980841Z"
    }
   },
   "outputs": [
    {
     "data": {
      "text/plain": [
       "2"
      ]
     },
     "execution_count": 83,
     "metadata": {},
     "output_type": "execute_result"
    }
   ],
   "source": [
    "people = [\"버피\", \"페이스\", \"버피\"]\n",
    "people.count(\"버피\")"
   ]
  },
  {
   "cell_type": "markdown",
   "metadata": {},
   "source": [
    "## sort()"
   ]
  },
  {
   "cell_type": "code",
   "execution_count": 84,
   "metadata": {
    "ExecuteTime": {
     "end_time": "2020-01-02T07:28:45.975118Z",
     "start_time": "2020-01-02T07:28:45.969119Z"
    }
   },
   "outputs": [
    {
     "data": {
      "text/plain": [
       "['버피', '잰더', '페이스']"
      ]
     },
     "execution_count": 84,
     "metadata": {},
     "output_type": "execute_result"
    }
   ],
   "source": [
    "people = [\"잰더\", \"페이스\", \"버피\"]\n",
    "people.sort()\n",
    "people"
   ]
  },
  {
   "cell_type": "code",
   "execution_count": 85,
   "metadata": {
    "ExecuteTime": {
     "end_time": "2020-01-02T07:29:01.693415Z",
     "start_time": "2020-01-02T07:29:01.687417Z"
    }
   },
   "outputs": [
    {
     "data": {
      "text/plain": [
       "['페이스', '잰더', '버피']"
      ]
     },
     "execution_count": 85,
     "metadata": {},
     "output_type": "execute_result"
    }
   ],
   "source": [
    "people.sort(reverse=True)\n",
    "people"
   ]
  },
  {
   "cell_type": "code",
   "execution_count": 86,
   "metadata": {
    "ExecuteTime": {
     "end_time": "2020-01-02T07:30:20.983308Z",
     "start_time": "2020-01-02T07:30:20.980336Z"
    }
   },
   "outputs": [],
   "source": [
    "import time\n",
    "timestamp = [\n",
    "    \"2018-12-12 01:17:31\",\n",
    "    \"2018-12-12 02:17:28\",\n",
    "    \"2018-12-12 06:39:26\",\n",
    "    \"2018-11-25 07:30:35\",\n",
    "    \"2018-11-25 11:32:33\",\n",
    "    \"2018-11-25 12:35:48\"\n",
    "]"
   ]
  },
  {
   "cell_type": "code",
   "execution_count": 87,
   "metadata": {
    "ExecuteTime": {
     "end_time": "2020-01-02T07:31:08.882557Z",
     "start_time": "2020-01-02T07:31:08.879585Z"
    }
   },
   "outputs": [],
   "source": [
    "def time_format(t):\n",
    "    return time.strptime(t, '%Y-%m-%d %H:%M:%S')[0:6]"
   ]
  },
  {
   "cell_type": "code",
   "execution_count": 88,
   "metadata": {
    "ExecuteTime": {
     "end_time": "2020-01-02T07:31:23.251667Z",
     "start_time": "2020-01-02T07:31:23.247681Z"
    }
   },
   "outputs": [],
   "source": [
    "timestamp.sort(key=time_format, reverse=True)"
   ]
  },
  {
   "cell_type": "code",
   "execution_count": 89,
   "metadata": {
    "ExecuteTime": {
     "end_time": "2020-01-02T07:31:29.731495Z",
     "start_time": "2020-01-02T07:31:29.726496Z"
    }
   },
   "outputs": [
    {
     "data": {
      "text/plain": [
       "['2018-12-12 06:39:26',\n",
       " '2018-12-12 02:17:28',\n",
       " '2018-12-12 01:17:31',\n",
       " '2018-11-25 12:35:48',\n",
       " '2018-11-25 11:32:33',\n",
       " '2018-11-25 07:30:35']"
      ]
     },
     "execution_count": 89,
     "metadata": {},
     "output_type": "execute_result"
    }
   ],
   "source": [
    "timestamp"
   ]
  },
  {
   "cell_type": "markdown",
   "metadata": {},
   "source": [
    "## reverse()"
   ]
  },
  {
   "cell_type": "code",
   "execution_count": 90,
   "metadata": {
    "ExecuteTime": {
     "end_time": "2020-01-02T07:32:12.824961Z",
     "start_time": "2020-01-02T07:32:12.819996Z"
    }
   },
   "outputs": [
    {
     "data": {
      "text/plain": [
       "['버피', '페이스', '잰더']"
      ]
     },
     "execution_count": 90,
     "metadata": {},
     "output_type": "execute_result"
    }
   ],
   "source": [
    "people = [\"잰더\", \"페이스\", \"버피\"]\n",
    "people.reverse()\n",
    "people"
   ]
  },
  {
   "cell_type": "code",
   "execution_count": 91,
   "metadata": {
    "ExecuteTime": {
     "end_time": "2020-01-02T07:32:19.406349Z",
     "start_time": "2020-01-02T07:32:19.401349Z"
    }
   },
   "outputs": [
    {
     "data": {
      "text/plain": [
       "['잰더', '페이스', '버피']"
      ]
     },
     "execution_count": 91,
     "metadata": {},
     "output_type": "execute_result"
    }
   ],
   "source": [
    "people[::-1]"
   ]
  },
  {
   "cell_type": "markdown",
   "metadata": {},
   "source": [
    "## 리스트 언패킹"
   ]
  },
  {
   "cell_type": "code",
   "execution_count": 92,
   "metadata": {
    "ExecuteTime": {
     "end_time": "2020-01-02T07:32:44.650280Z",
     "start_time": "2020-01-02T07:32:44.645281Z"
    }
   },
   "outputs": [
    {
     "data": {
      "text/plain": [
       "1"
      ]
     },
     "execution_count": 92,
     "metadata": {},
     "output_type": "execute_result"
    }
   ],
   "source": [
    "first, *rest = [1,2,3,4,5]\n",
    "first"
   ]
  },
  {
   "cell_type": "code",
   "execution_count": 93,
   "metadata": {
    "ExecuteTime": {
     "end_time": "2020-01-02T07:32:46.010170Z",
     "start_time": "2020-01-02T07:32:46.004173Z"
    }
   },
   "outputs": [
    {
     "data": {
      "text/plain": [
       "[2, 3, 4, 5]"
      ]
     },
     "execution_count": 93,
     "metadata": {},
     "output_type": "execute_result"
    }
   ],
   "source": [
    "rest"
   ]
  },
  {
   "cell_type": "code",
   "execution_count": 94,
   "metadata": {
    "ExecuteTime": {
     "end_time": "2020-01-02T07:33:06.598625Z",
     "start_time": "2020-01-02T07:33:06.595653Z"
    }
   },
   "outputs": [],
   "source": [
    "def example_args(a, b, c):\n",
    "    return a * b * c"
   ]
  },
  {
   "cell_type": "code",
   "execution_count": 95,
   "metadata": {
    "ExecuteTime": {
     "end_time": "2020-01-02T07:33:17.067388Z",
     "start_time": "2020-01-02T07:33:17.061397Z"
    }
   },
   "outputs": [
    {
     "data": {
      "text/plain": [
       "24"
      ]
     },
     "execution_count": 95,
     "metadata": {},
     "output_type": "execute_result"
    }
   ],
   "source": [
    "L = [2,3,4]\n",
    "example_args(*L)"
   ]
  },
  {
   "cell_type": "code",
   "execution_count": 96,
   "metadata": {
    "ExecuteTime": {
     "end_time": "2020-01-02T07:33:27.217253Z",
     "start_time": "2020-01-02T07:33:27.213290Z"
    }
   },
   "outputs": [
    {
     "data": {
      "text/plain": [
       "24"
      ]
     },
     "execution_count": 96,
     "metadata": {},
     "output_type": "execute_result"
    }
   ],
   "source": [
    "example_args(2, *L[1:])"
   ]
  },
  {
   "cell_type": "markdown",
   "metadata": {},
   "source": [
    "## 리스트 컴프리헨션\n",
    "1. [ 항목 for 항목 in 반복 가능한 객체 ]\n",
    "2. [ 표현식 for 항목 in 반복 가능한 객체 ]\n",
    "3. [ 표현식 for 항목 in 반복 가능한 객체 if 조건문 ]"
   ]
  },
  {
   "cell_type": "code",
   "execution_count": 100,
   "metadata": {
    "ExecuteTime": {
     "end_time": "2020-01-02T07:35:29.188477Z",
     "start_time": "2020-01-02T07:35:29.183472Z"
    }
   },
   "outputs": [
    {
     "data": {
      "text/plain": [
       "[1900, 1904, 1908, 1912, 1916, 1920, 1924, 1928, 1932, 1936]"
      ]
     },
     "execution_count": 100,
     "metadata": {},
     "output_type": "execute_result"
    }
   ],
   "source": [
    "a = [y for y in range(1900, 1940) if y%4 == 0]\n",
    "a"
   ]
  },
  {
   "cell_type": "code",
   "execution_count": 99,
   "metadata": {
    "ExecuteTime": {
     "end_time": "2020-01-02T07:35:25.780979Z",
     "start_time": "2020-01-02T07:35:25.774985Z"
    }
   },
   "outputs": [
    {
     "data": {
      "text/plain": [
       "[1, 2, 4, 8, 16, 32, 64, 128, 256, 512, 1024, 2048, 4096]"
      ]
     },
     "execution_count": 99,
     "metadata": {},
     "output_type": "execute_result"
    }
   ],
   "source": [
    "b = [2**i for i in range(13)]\n",
    "b"
   ]
  },
  {
   "cell_type": "code",
   "execution_count": 101,
   "metadata": {
    "ExecuteTime": {
     "end_time": "2020-01-02T07:35:49.955881Z",
     "start_time": "2020-01-02T07:35:49.951901Z"
    }
   },
   "outputs": [
    {
     "data": {
      "text/plain": [
       "[1900, 1904, 1908, 1912, 1916, 1920, 1924, 1928, 1932, 1936]"
      ]
     },
     "execution_count": 101,
     "metadata": {},
     "output_type": "execute_result"
    }
   ],
   "source": [
    "c = [x for x in a if x%2 ==0]\n",
    "c"
   ]
  },
  {
   "cell_type": "code",
   "execution_count": 102,
   "metadata": {
    "ExecuteTime": {
     "end_time": "2020-01-02T07:36:23.434322Z",
     "start_time": "2020-01-02T07:36:23.430319Z"
    }
   },
   "outputs": [
    {
     "data": {
      "text/plain": [
       "['3.1', '3.14', '3.142', '3.1416', '3.14159']"
      ]
     },
     "execution_count": 102,
     "metadata": {},
     "output_type": "execute_result"
    }
   ],
   "source": [
    "d = [str(round(355/113.0,i)) for i in range(1,6)]\n",
    "d"
   ]
  },
  {
   "cell_type": "code",
   "execution_count": 103,
   "metadata": {
    "ExecuteTime": {
     "end_time": "2020-01-02T07:37:23.588426Z",
     "start_time": "2020-01-02T07:37:23.584423Z"
    }
   },
   "outputs": [],
   "source": [
    "words = \"Buffy is awesome and a vampire slayer\".split()\n",
    "e = [[w.upper(), w.lower(), len(w)] for w in words]"
   ]
  },
  {
   "cell_type": "code",
   "execution_count": 104,
   "metadata": {
    "ExecuteTime": {
     "end_time": "2020-01-02T07:37:28.835149Z",
     "start_time": "2020-01-02T07:37:28.831160Z"
    }
   },
   "outputs": [
    {
     "name": "stdout",
     "output_type": "stream",
     "text": [
      "['BUFFY', 'buffy', 5]\n",
      "['IS', 'is', 2]\n",
      "['AWESOME', 'awesome', 7]\n",
      "['AND', 'and', 3]\n",
      "['A', 'a', 1]\n",
      "['VAMPIRE', 'vampire', 7]\n",
      "['SLAYER', 'slayer', 6]\n"
     ]
    }
   ],
   "source": [
    "for i in e:\n",
    "    print(i)"
   ]
  },
  {
   "cell_type": "markdown",
   "metadata": {},
   "source": [
    "## 리스트 메서드 성능 측정"
   ]
  },
  {
   "cell_type": "code",
   "execution_count": 105,
   "metadata": {
    "ExecuteTime": {
     "end_time": "2020-01-02T07:42:31.963967Z",
     "start_time": "2020-01-02T07:42:31.956967Z"
    }
   },
   "outputs": [],
   "source": [
    "def test1():\n",
    "    l = []\n",
    "    for i in range(1000):\n",
    "        l = l + [i]\n",
    "\n",
    "def test2():\n",
    "    l = []\n",
    "    for i in range(1000):\n",
    "        l.append(i)\n",
    "\n",
    "def test3():\n",
    "    l = [i for i in range(1000)]\n",
    "    \n",
    "def test4():\n",
    "    l = list(range(1000))"
   ]
  },
  {
   "cell_type": "code",
   "execution_count": null,
   "metadata": {},
   "outputs": [],
   "source": []
  }
 ],
 "metadata": {
  "kernelspec": {
   "display_name": "Python 3",
   "language": "python",
   "name": "python3"
  },
  "language_info": {
   "codemirror_mode": {
    "name": "ipython",
    "version": 3
   },
   "file_extension": ".py",
   "mimetype": "text/x-python",
   "name": "python",
   "nbconvert_exporter": "python",
   "pygments_lexer": "ipython3",
   "version": "3.6.9"
  },
  "toc": {
   "base_numbering": 1,
   "nav_menu": {},
   "number_sections": true,
   "sideBar": true,
   "skip_h1_title": false,
   "title_cell": "Table of Contents",
   "title_sidebar": "Contents",
   "toc_cell": false,
   "toc_position": {},
   "toc_section_display": true,
   "toc_window_display": false
  },
  "varInspector": {
   "cols": {
    "lenName": 16,
    "lenType": 16,
    "lenVar": 40
   },
   "kernels_config": {
    "python": {
     "delete_cmd_postfix": "",
     "delete_cmd_prefix": "del ",
     "library": "var_list.py",
     "varRefreshCmd": "print(var_dic_list())"
    },
    "r": {
     "delete_cmd_postfix": ") ",
     "delete_cmd_prefix": "rm(",
     "library": "var_list.r",
     "varRefreshCmd": "cat(var_dic_list()) "
    }
   },
   "types_to_exclude": [
    "module",
    "function",
    "builtin_function_or_method",
    "instance",
    "_Feature"
   ],
   "window_display": false
  }
 },
 "nbformat": 4,
 "nbformat_minor": 2
}
